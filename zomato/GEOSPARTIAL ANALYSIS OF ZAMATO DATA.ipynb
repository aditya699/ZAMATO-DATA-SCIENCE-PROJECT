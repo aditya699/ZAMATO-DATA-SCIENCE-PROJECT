{
 "cells": [
  {
   "cell_type": "code",
   "execution_count": 30,
   "metadata": {},
   "outputs": [],
   "source": [
    "import pandas as pd\n",
    "import numpy as np\n",
    "import matplotlib.pyplot as plt\n",
    "import seaborn as sns\n",
    "%matplotlib inline\n",
    "import folium\n",
    "import geopy"
   ]
  },
  {
   "cell_type": "code",
   "execution_count": 31,
   "metadata": {},
   "outputs": [
    {
     "data": {
      "text/html": [
       "<div>\n",
       "<style scoped>\n",
       "    .dataframe tbody tr th:only-of-type {\n",
       "        vertical-align: middle;\n",
       "    }\n",
       "\n",
       "    .dataframe tbody tr th {\n",
       "        vertical-align: top;\n",
       "    }\n",
       "\n",
       "    .dataframe thead th {\n",
       "        text-align: right;\n",
       "    }\n",
       "</style>\n",
       "<table border=\"1\" class=\"dataframe\">\n",
       "  <thead>\n",
       "    <tr style=\"text-align: right;\">\n",
       "      <th></th>\n",
       "      <th>url</th>\n",
       "      <th>address</th>\n",
       "      <th>name</th>\n",
       "      <th>online_order</th>\n",
       "      <th>book_table</th>\n",
       "      <th>rate</th>\n",
       "      <th>votes</th>\n",
       "      <th>phone</th>\n",
       "      <th>location</th>\n",
       "      <th>rest_type</th>\n",
       "      <th>dish_liked</th>\n",
       "      <th>cuisines</th>\n",
       "      <th>approx_cost(for two people)</th>\n",
       "      <th>reviews_list</th>\n",
       "      <th>menu_item</th>\n",
       "      <th>listed_in(type)</th>\n",
       "      <th>listed_in(city)</th>\n",
       "    </tr>\n",
       "  </thead>\n",
       "  <tbody>\n",
       "    <tr>\n",
       "      <th>0</th>\n",
       "      <td>https://www.zomato.com/bangalore/jalsa-banasha...</td>\n",
       "      <td>942, 21st Main Road, 2nd Stage, Banashankari, ...</td>\n",
       "      <td>Jalsa</td>\n",
       "      <td>Yes</td>\n",
       "      <td>Yes</td>\n",
       "      <td>4.1/5</td>\n",
       "      <td>775</td>\n",
       "      <td>080 42297555\\r\\n+91 9743772233</td>\n",
       "      <td>Banashankari</td>\n",
       "      <td>Casual Dining</td>\n",
       "      <td>Pasta, Lunch Buffet, Masala Papad, Paneer Laja...</td>\n",
       "      <td>North Indian, Mughlai, Chinese</td>\n",
       "      <td>800</td>\n",
       "      <td>[('Rated 4.0', 'RATED\\n  A beautiful place to ...</td>\n",
       "      <td>[]</td>\n",
       "      <td>Buffet</td>\n",
       "      <td>Banashankari</td>\n",
       "    </tr>\n",
       "    <tr>\n",
       "      <th>1</th>\n",
       "      <td>https://www.zomato.com/bangalore/spice-elephan...</td>\n",
       "      <td>2nd Floor, 80 Feet Road, Near Big Bazaar, 6th ...</td>\n",
       "      <td>Spice Elephant</td>\n",
       "      <td>Yes</td>\n",
       "      <td>No</td>\n",
       "      <td>4.1/5</td>\n",
       "      <td>787</td>\n",
       "      <td>080 41714161</td>\n",
       "      <td>Banashankari</td>\n",
       "      <td>Casual Dining</td>\n",
       "      <td>Momos, Lunch Buffet, Chocolate Nirvana, Thai G...</td>\n",
       "      <td>Chinese, North Indian, Thai</td>\n",
       "      <td>800</td>\n",
       "      <td>[('Rated 4.0', 'RATED\\n  Had been here for din...</td>\n",
       "      <td>[]</td>\n",
       "      <td>Buffet</td>\n",
       "      <td>Banashankari</td>\n",
       "    </tr>\n",
       "    <tr>\n",
       "      <th>2</th>\n",
       "      <td>https://www.zomato.com/SanchurroBangalore?cont...</td>\n",
       "      <td>1112, Next to KIMS Medical College, 17th Cross...</td>\n",
       "      <td>San Churro Cafe</td>\n",
       "      <td>Yes</td>\n",
       "      <td>No</td>\n",
       "      <td>3.8/5</td>\n",
       "      <td>918</td>\n",
       "      <td>+91 9663487993</td>\n",
       "      <td>Banashankari</td>\n",
       "      <td>Cafe, Casual Dining</td>\n",
       "      <td>Churros, Cannelloni, Minestrone Soup, Hot Choc...</td>\n",
       "      <td>Cafe, Mexican, Italian</td>\n",
       "      <td>800</td>\n",
       "      <td>[('Rated 3.0', \"RATED\\n  Ambience is not that ...</td>\n",
       "      <td>[]</td>\n",
       "      <td>Buffet</td>\n",
       "      <td>Banashankari</td>\n",
       "    </tr>\n",
       "    <tr>\n",
       "      <th>3</th>\n",
       "      <td>https://www.zomato.com/bangalore/addhuri-udupi...</td>\n",
       "      <td>1st Floor, Annakuteera, 3rd Stage, Banashankar...</td>\n",
       "      <td>Addhuri Udupi Bhojana</td>\n",
       "      <td>No</td>\n",
       "      <td>No</td>\n",
       "      <td>3.7/5</td>\n",
       "      <td>88</td>\n",
       "      <td>+91 9620009302</td>\n",
       "      <td>Banashankari</td>\n",
       "      <td>Quick Bites</td>\n",
       "      <td>Masala Dosa</td>\n",
       "      <td>South Indian, North Indian</td>\n",
       "      <td>300</td>\n",
       "      <td>[('Rated 4.0', \"RATED\\n  Great food and proper...</td>\n",
       "      <td>[]</td>\n",
       "      <td>Buffet</td>\n",
       "      <td>Banashankari</td>\n",
       "    </tr>\n",
       "    <tr>\n",
       "      <th>4</th>\n",
       "      <td>https://www.zomato.com/bangalore/grand-village...</td>\n",
       "      <td>10, 3rd Floor, Lakshmi Associates, Gandhi Baza...</td>\n",
       "      <td>Grand Village</td>\n",
       "      <td>No</td>\n",
       "      <td>No</td>\n",
       "      <td>3.8/5</td>\n",
       "      <td>166</td>\n",
       "      <td>+91 8026612447\\r\\n+91 9901210005</td>\n",
       "      <td>Basavanagudi</td>\n",
       "      <td>Casual Dining</td>\n",
       "      <td>Panipuri, Gol Gappe</td>\n",
       "      <td>North Indian, Rajasthani</td>\n",
       "      <td>600</td>\n",
       "      <td>[('Rated 4.0', 'RATED\\n  Very good restaurant ...</td>\n",
       "      <td>[]</td>\n",
       "      <td>Buffet</td>\n",
       "      <td>Banashankari</td>\n",
       "    </tr>\n",
       "  </tbody>\n",
       "</table>\n",
       "</div>"
      ],
      "text/plain": [
       "                                                 url  \\\n",
       "0  https://www.zomato.com/bangalore/jalsa-banasha...   \n",
       "1  https://www.zomato.com/bangalore/spice-elephan...   \n",
       "2  https://www.zomato.com/SanchurroBangalore?cont...   \n",
       "3  https://www.zomato.com/bangalore/addhuri-udupi...   \n",
       "4  https://www.zomato.com/bangalore/grand-village...   \n",
       "\n",
       "                                             address                   name  \\\n",
       "0  942, 21st Main Road, 2nd Stage, Banashankari, ...                  Jalsa   \n",
       "1  2nd Floor, 80 Feet Road, Near Big Bazaar, 6th ...         Spice Elephant   \n",
       "2  1112, Next to KIMS Medical College, 17th Cross...        San Churro Cafe   \n",
       "3  1st Floor, Annakuteera, 3rd Stage, Banashankar...  Addhuri Udupi Bhojana   \n",
       "4  10, 3rd Floor, Lakshmi Associates, Gandhi Baza...          Grand Village   \n",
       "\n",
       "  online_order book_table   rate  votes                             phone  \\\n",
       "0          Yes        Yes  4.1/5    775    080 42297555\\r\\n+91 9743772233   \n",
       "1          Yes         No  4.1/5    787                      080 41714161   \n",
       "2          Yes         No  3.8/5    918                    +91 9663487993   \n",
       "3           No         No  3.7/5     88                    +91 9620009302   \n",
       "4           No         No  3.8/5    166  +91 8026612447\\r\\n+91 9901210005   \n",
       "\n",
       "       location            rest_type  \\\n",
       "0  Banashankari        Casual Dining   \n",
       "1  Banashankari        Casual Dining   \n",
       "2  Banashankari  Cafe, Casual Dining   \n",
       "3  Banashankari          Quick Bites   \n",
       "4  Basavanagudi        Casual Dining   \n",
       "\n",
       "                                          dish_liked  \\\n",
       "0  Pasta, Lunch Buffet, Masala Papad, Paneer Laja...   \n",
       "1  Momos, Lunch Buffet, Chocolate Nirvana, Thai G...   \n",
       "2  Churros, Cannelloni, Minestrone Soup, Hot Choc...   \n",
       "3                                        Masala Dosa   \n",
       "4                                Panipuri, Gol Gappe   \n",
       "\n",
       "                         cuisines approx_cost(for two people)  \\\n",
       "0  North Indian, Mughlai, Chinese                         800   \n",
       "1     Chinese, North Indian, Thai                         800   \n",
       "2          Cafe, Mexican, Italian                         800   \n",
       "3      South Indian, North Indian                         300   \n",
       "4        North Indian, Rajasthani                         600   \n",
       "\n",
       "                                        reviews_list menu_item  \\\n",
       "0  [('Rated 4.0', 'RATED\\n  A beautiful place to ...        []   \n",
       "1  [('Rated 4.0', 'RATED\\n  Had been here for din...        []   \n",
       "2  [('Rated 3.0', \"RATED\\n  Ambience is not that ...        []   \n",
       "3  [('Rated 4.0', \"RATED\\n  Great food and proper...        []   \n",
       "4  [('Rated 4.0', 'RATED\\n  Very good restaurant ...        []   \n",
       "\n",
       "  listed_in(type) listed_in(city)  \n",
       "0          Buffet    Banashankari  \n",
       "1          Buffet    Banashankari  \n",
       "2          Buffet    Banashankari  \n",
       "3          Buffet    Banashankari  \n",
       "4          Buffet    Banashankari  "
      ]
     },
     "execution_count": 31,
     "metadata": {},
     "output_type": "execute_result"
    }
   ],
   "source": [
    "data=pd.read_csv('C:/Users/aditya/Desktop/zomato.csv')\n",
    "data.head()"
   ]
  },
  {
   "cell_type": "code",
   "execution_count": 32,
   "metadata": {},
   "outputs": [
    {
     "data": {
      "text/html": [
       "<div>\n",
       "<style scoped>\n",
       "    .dataframe tbody tr th:only-of-type {\n",
       "        vertical-align: middle;\n",
       "    }\n",
       "\n",
       "    .dataframe tbody tr th {\n",
       "        vertical-align: top;\n",
       "    }\n",
       "\n",
       "    .dataframe thead th {\n",
       "        text-align: right;\n",
       "    }\n",
       "</style>\n",
       "<table border=\"1\" class=\"dataframe\">\n",
       "  <thead>\n",
       "    <tr style=\"text-align: right;\">\n",
       "      <th></th>\n",
       "      <th>location</th>\n",
       "      <th>rate</th>\n",
       "      <th>votes</th>\n",
       "      <th>approx_cost(for two people)</th>\n",
       "    </tr>\n",
       "  </thead>\n",
       "  <tbody>\n",
       "    <tr>\n",
       "      <th>0</th>\n",
       "      <td>Banashankari</td>\n",
       "      <td>4.1/5</td>\n",
       "      <td>775</td>\n",
       "      <td>800</td>\n",
       "    </tr>\n",
       "    <tr>\n",
       "      <th>1</th>\n",
       "      <td>Banashankari</td>\n",
       "      <td>4.1/5</td>\n",
       "      <td>787</td>\n",
       "      <td>800</td>\n",
       "    </tr>\n",
       "    <tr>\n",
       "      <th>2</th>\n",
       "      <td>Banashankari</td>\n",
       "      <td>3.8/5</td>\n",
       "      <td>918</td>\n",
       "      <td>800</td>\n",
       "    </tr>\n",
       "    <tr>\n",
       "      <th>3</th>\n",
       "      <td>Banashankari</td>\n",
       "      <td>3.7/5</td>\n",
       "      <td>88</td>\n",
       "      <td>300</td>\n",
       "    </tr>\n",
       "    <tr>\n",
       "      <th>4</th>\n",
       "      <td>Basavanagudi</td>\n",
       "      <td>3.8/5</td>\n",
       "      <td>166</td>\n",
       "      <td>600</td>\n",
       "    </tr>\n",
       "  </tbody>\n",
       "</table>\n",
       "</div>"
      ],
      "text/plain": [
       "       location   rate  votes approx_cost(for two people)\n",
       "0  Banashankari  4.1/5    775                         800\n",
       "1  Banashankari  4.1/5    787                         800\n",
       "2  Banashankari  3.8/5    918                         800\n",
       "3  Banashankari  3.7/5     88                         300\n",
       "4  Basavanagudi  3.8/5    166                         600"
      ]
     },
     "execution_count": 32,
     "metadata": {},
     "output_type": "execute_result"
    }
   ],
   "source": [
    "data_1=data[['location','rate','votes','approx_cost(for two people)']]\n",
    "data_1.head()"
   ]
  },
  {
   "cell_type": "code",
   "execution_count": 33,
   "metadata": {},
   "outputs": [
    {
     "name": "stderr",
     "output_type": "stream",
     "text": [
      "C:\\Users\\aditya\\anaconda3\\lib\\site-packages\\ipykernel_launcher.py:1: SettingWithCopyWarning: \n",
      "A value is trying to be set on a copy of a slice from a DataFrame\n",
      "\n",
      "See the caveats in the documentation: https://pandas.pydata.org/pandas-docs/stable/user_guide/indexing.html#returning-a-view-versus-a-copy\n",
      "  \"\"\"Entry point for launching an IPython kernel.\n"
     ]
    }
   ],
   "source": [
    "data_1.drop_duplicates(inplace=True)"
   ]
  },
  {
   "cell_type": "code",
   "execution_count": 34,
   "metadata": {},
   "outputs": [
    {
     "data": {
      "text/html": [
       "<div>\n",
       "<style scoped>\n",
       "    .dataframe tbody tr th:only-of-type {\n",
       "        vertical-align: middle;\n",
       "    }\n",
       "\n",
       "    .dataframe tbody tr th {\n",
       "        vertical-align: top;\n",
       "    }\n",
       "\n",
       "    .dataframe thead th {\n",
       "        text-align: right;\n",
       "    }\n",
       "</style>\n",
       "<table border=\"1\" class=\"dataframe\">\n",
       "  <thead>\n",
       "    <tr style=\"text-align: right;\">\n",
       "      <th></th>\n",
       "      <th>location</th>\n",
       "      <th>rate</th>\n",
       "      <th>votes</th>\n",
       "      <th>approx_cost(for two people)</th>\n",
       "    </tr>\n",
       "  </thead>\n",
       "  <tbody>\n",
       "    <tr>\n",
       "      <th>0</th>\n",
       "      <td>Banashankari</td>\n",
       "      <td>4.1/5</td>\n",
       "      <td>775</td>\n",
       "      <td>800</td>\n",
       "    </tr>\n",
       "    <tr>\n",
       "      <th>1</th>\n",
       "      <td>Banashankari</td>\n",
       "      <td>4.1/5</td>\n",
       "      <td>787</td>\n",
       "      <td>800</td>\n",
       "    </tr>\n",
       "    <tr>\n",
       "      <th>2</th>\n",
       "      <td>Banashankari</td>\n",
       "      <td>3.8/5</td>\n",
       "      <td>918</td>\n",
       "      <td>800</td>\n",
       "    </tr>\n",
       "    <tr>\n",
       "      <th>3</th>\n",
       "      <td>Banashankari</td>\n",
       "      <td>3.7/5</td>\n",
       "      <td>88</td>\n",
       "      <td>300</td>\n",
       "    </tr>\n",
       "    <tr>\n",
       "      <th>4</th>\n",
       "      <td>Basavanagudi</td>\n",
       "      <td>3.8/5</td>\n",
       "      <td>166</td>\n",
       "      <td>600</td>\n",
       "    </tr>\n",
       "  </tbody>\n",
       "</table>\n",
       "</div>"
      ],
      "text/plain": [
       "       location   rate  votes approx_cost(for two people)\n",
       "0  Banashankari  4.1/5    775                         800\n",
       "1  Banashankari  4.1/5    787                         800\n",
       "2  Banashankari  3.8/5    918                         800\n",
       "3  Banashankari  3.7/5     88                         300\n",
       "4  Basavanagudi  3.8/5    166                         600"
      ]
     },
     "execution_count": 34,
     "metadata": {},
     "output_type": "execute_result"
    }
   ],
   "source": [
    "data=data_1\n",
    "#REMOVING NAN VALUES\n",
    "data.isnull().sum()\n",
    "data.dropna(how='any',inplace=True)\n",
    "data.head()"
   ]
  },
  {
   "cell_type": "code",
   "execution_count": 35,
   "metadata": {},
   "outputs": [],
   "source": [
    "data.rename(columns={'approx_cost(for two people)':'cost'},inplace=True)\n",
    "data['cost']=data['cost'].astype(str)\n",
    "data['cost']=data['cost'].apply(lambda x:x.replace(',',''))\n",
    "data['cost']=data['cost'].astype(float)"
   ]
  },
  {
   "cell_type": "code",
   "execution_count": 36,
   "metadata": {},
   "outputs": [],
   "source": [
    "data['rate']=data['rate'].replace('NEW',np.nan)\n",
    "data['rate'].dropna(inplace=True)"
   ]
  },
  {
   "cell_type": "code",
   "execution_count": 37,
   "metadata": {},
   "outputs": [
    {
     "data": {
      "text/plain": [
       "0        4.1\n",
       "1        4.1\n",
       "2        3.8\n",
       "3        3.7\n",
       "4        3.8\n",
       "        ... \n",
       "51624    3.3\n",
       "51628    4.2\n",
       "51631    3.4\n",
       "51632    3.3\n",
       "51677    2.5\n",
       "Name: rate, Length: 19065, dtype: float64"
      ]
     },
     "execution_count": 37,
     "metadata": {},
     "output_type": "execute_result"
    }
   ],
   "source": [
    "data['rate'].replace('-','2.55/5',inplace=True)\n",
    "remove_slash=lambda x:x.replace('/5','') if type(x)==np.str else x\n",
    "data.rate=data.rate.apply(remove_slash).str.strip().astype('float')\n",
    "data['rate']"
   ]
  },
  {
   "cell_type": "code",
   "execution_count": 38,
   "metadata": {},
   "outputs": [
    {
     "data": {
      "text/html": [
       "<div>\n",
       "<style scoped>\n",
       "    .dataframe tbody tr th:only-of-type {\n",
       "        vertical-align: middle;\n",
       "    }\n",
       "\n",
       "    .dataframe tbody tr th {\n",
       "        vertical-align: top;\n",
       "    }\n",
       "\n",
       "    .dataframe thead th {\n",
       "        text-align: right;\n",
       "    }\n",
       "</style>\n",
       "<table border=\"1\" class=\"dataframe\">\n",
       "  <thead>\n",
       "    <tr style=\"text-align: right;\">\n",
       "      <th></th>\n",
       "      <th>location</th>\n",
       "      <th>rate</th>\n",
       "      <th>votes</th>\n",
       "      <th>cost</th>\n",
       "    </tr>\n",
       "  </thead>\n",
       "  <tbody>\n",
       "    <tr>\n",
       "      <th>0</th>\n",
       "      <td>Banashankari</td>\n",
       "      <td>4.1</td>\n",
       "      <td>775</td>\n",
       "      <td>800.0</td>\n",
       "    </tr>\n",
       "    <tr>\n",
       "      <th>1</th>\n",
       "      <td>Banashankari</td>\n",
       "      <td>4.1</td>\n",
       "      <td>787</td>\n",
       "      <td>800.0</td>\n",
       "    </tr>\n",
       "    <tr>\n",
       "      <th>2</th>\n",
       "      <td>Banashankari</td>\n",
       "      <td>3.8</td>\n",
       "      <td>918</td>\n",
       "      <td>800.0</td>\n",
       "    </tr>\n",
       "    <tr>\n",
       "      <th>3</th>\n",
       "      <td>Banashankari</td>\n",
       "      <td>3.7</td>\n",
       "      <td>88</td>\n",
       "      <td>300.0</td>\n",
       "    </tr>\n",
       "    <tr>\n",
       "      <th>4</th>\n",
       "      <td>Basavanagudi</td>\n",
       "      <td>3.8</td>\n",
       "      <td>166</td>\n",
       "      <td>600.0</td>\n",
       "    </tr>\n",
       "  </tbody>\n",
       "</table>\n",
       "</div>"
      ],
      "text/plain": [
       "       location  rate  votes   cost\n",
       "0  Banashankari   4.1    775  800.0\n",
       "1  Banashankari   4.1    787  800.0\n",
       "2  Banashankari   3.8    918  800.0\n",
       "3  Banashankari   3.7     88  300.0\n",
       "4  Basavanagudi   3.8    166  600.0"
      ]
     },
     "execution_count": 38,
     "metadata": {},
     "output_type": "execute_result"
    }
   ],
   "source": [
    "data.head()"
   ]
  },
  {
   "cell_type": "markdown",
   "metadata": {},
   "source": [
    "# PLACES WITH BEST RATING (AVERAGE)"
   ]
  },
  {
   "cell_type": "code",
   "execution_count": 48,
   "metadata": {},
   "outputs": [],
   "source": [
    "data_1=data[['location','rate']]"
   ]
  },
  {
   "cell_type": "code",
   "execution_count": 49,
   "metadata": {},
   "outputs": [
    {
     "data": {
      "text/html": [
       "<div>\n",
       "<style scoped>\n",
       "    .dataframe tbody tr th:only-of-type {\n",
       "        vertical-align: middle;\n",
       "    }\n",
       "\n",
       "    .dataframe tbody tr th {\n",
       "        vertical-align: top;\n",
       "    }\n",
       "\n",
       "    .dataframe thead th {\n",
       "        text-align: right;\n",
       "    }\n",
       "</style>\n",
       "<table border=\"1\" class=\"dataframe\">\n",
       "  <thead>\n",
       "    <tr style=\"text-align: right;\">\n",
       "      <th></th>\n",
       "      <th>location</th>\n",
       "      <th>rate</th>\n",
       "    </tr>\n",
       "  </thead>\n",
       "  <tbody>\n",
       "    <tr>\n",
       "      <th>0</th>\n",
       "      <td>Banashankari</td>\n",
       "      <td>4.1</td>\n",
       "    </tr>\n",
       "    <tr>\n",
       "      <th>1</th>\n",
       "      <td>Banashankari</td>\n",
       "      <td>4.1</td>\n",
       "    </tr>\n",
       "    <tr>\n",
       "      <th>2</th>\n",
       "      <td>Banashankari</td>\n",
       "      <td>3.8</td>\n",
       "    </tr>\n",
       "    <tr>\n",
       "      <th>3</th>\n",
       "      <td>Banashankari</td>\n",
       "      <td>3.7</td>\n",
       "    </tr>\n",
       "    <tr>\n",
       "      <th>4</th>\n",
       "      <td>Basavanagudi</td>\n",
       "      <td>3.8</td>\n",
       "    </tr>\n",
       "    <tr>\n",
       "      <th>5</th>\n",
       "      <td>Basavanagudi</td>\n",
       "      <td>3.8</td>\n",
       "    </tr>\n",
       "    <tr>\n",
       "      <th>6</th>\n",
       "      <td>Mysore Road</td>\n",
       "      <td>3.6</td>\n",
       "    </tr>\n",
       "    <tr>\n",
       "      <th>7</th>\n",
       "      <td>Banashankari</td>\n",
       "      <td>4.6</td>\n",
       "    </tr>\n",
       "    <tr>\n",
       "      <th>8</th>\n",
       "      <td>Banashankari</td>\n",
       "      <td>4.0</td>\n",
       "    </tr>\n",
       "    <tr>\n",
       "      <th>9</th>\n",
       "      <td>Banashankari</td>\n",
       "      <td>4.2</td>\n",
       "    </tr>\n",
       "  </tbody>\n",
       "</table>\n",
       "</div>"
      ],
      "text/plain": [
       "       location  rate\n",
       "0  Banashankari   4.1\n",
       "1  Banashankari   4.1\n",
       "2  Banashankari   3.8\n",
       "3  Banashankari   3.7\n",
       "4  Basavanagudi   3.8\n",
       "5  Basavanagudi   3.8\n",
       "6   Mysore Road   3.6\n",
       "7  Banashankari   4.6\n",
       "8  Banashankari   4.0\n",
       "9  Banashankari   4.2"
      ]
     },
     "execution_count": 49,
     "metadata": {},
     "output_type": "execute_result"
    }
   ],
   "source": [
    "data_1.head(10)"
   ]
  },
  {
   "cell_type": "code",
   "execution_count": 52,
   "metadata": {},
   "outputs": [],
   "source": [
    "data_2=data_1.groupby('location').rate.mean()"
   ]
  },
  {
   "cell_type": "code",
   "execution_count": 55,
   "metadata": {},
   "outputs": [],
   "source": [
    "data_3=pd.DataFrame(data_2)"
   ]
  },
  {
   "cell_type": "code",
   "execution_count": 56,
   "metadata": {},
   "outputs": [
    {
     "data": {
      "text/html": [
       "<div>\n",
       "<style scoped>\n",
       "    .dataframe tbody tr th:only-of-type {\n",
       "        vertical-align: middle;\n",
       "    }\n",
       "\n",
       "    .dataframe tbody tr th {\n",
       "        vertical-align: top;\n",
       "    }\n",
       "\n",
       "    .dataframe thead th {\n",
       "        text-align: right;\n",
       "    }\n",
       "</style>\n",
       "<table border=\"1\" class=\"dataframe\">\n",
       "  <thead>\n",
       "    <tr style=\"text-align: right;\">\n",
       "      <th></th>\n",
       "      <th>rate</th>\n",
       "    </tr>\n",
       "    <tr>\n",
       "      <th>location</th>\n",
       "      <th></th>\n",
       "    </tr>\n",
       "  </thead>\n",
       "  <tbody>\n",
       "    <tr>\n",
       "      <th>BTM</th>\n",
       "      <td>3.637437</td>\n",
       "    </tr>\n",
       "    <tr>\n",
       "      <th>Banashankari</th>\n",
       "      <td>3.669204</td>\n",
       "    </tr>\n",
       "    <tr>\n",
       "      <th>Banaswadi</th>\n",
       "      <td>3.496250</td>\n",
       "    </tr>\n",
       "    <tr>\n",
       "      <th>Bannerghatta Road</th>\n",
       "      <td>3.549810</td>\n",
       "    </tr>\n",
       "    <tr>\n",
       "      <th>Basavanagudi</th>\n",
       "      <td>3.660265</td>\n",
       "    </tr>\n",
       "  </tbody>\n",
       "</table>\n",
       "</div>"
      ],
      "text/plain": [
       "                       rate\n",
       "location                   \n",
       "BTM                3.637437\n",
       "Banashankari       3.669204\n",
       "Banaswadi          3.496250\n",
       "Bannerghatta Road  3.549810\n",
       "Basavanagudi       3.660265"
      ]
     },
     "execution_count": 56,
     "metadata": {},
     "output_type": "execute_result"
    }
   ],
   "source": [
    "data_3.head()"
   ]
  },
  {
   "cell_type": "code",
   "execution_count": 57,
   "metadata": {},
   "outputs": [],
   "source": [
    "data_3=data_3.reset_index()"
   ]
  },
  {
   "cell_type": "code",
   "execution_count": 58,
   "metadata": {},
   "outputs": [
    {
     "data": {
      "text/html": [
       "<div>\n",
       "<style scoped>\n",
       "    .dataframe tbody tr th:only-of-type {\n",
       "        vertical-align: middle;\n",
       "    }\n",
       "\n",
       "    .dataframe tbody tr th {\n",
       "        vertical-align: top;\n",
       "    }\n",
       "\n",
       "    .dataframe thead th {\n",
       "        text-align: right;\n",
       "    }\n",
       "</style>\n",
       "<table border=\"1\" class=\"dataframe\">\n",
       "  <thead>\n",
       "    <tr style=\"text-align: right;\">\n",
       "      <th></th>\n",
       "      <th>location</th>\n",
       "      <th>rate</th>\n",
       "    </tr>\n",
       "  </thead>\n",
       "  <tbody>\n",
       "    <tr>\n",
       "      <th>0</th>\n",
       "      <td>BTM</td>\n",
       "      <td>3.637437</td>\n",
       "    </tr>\n",
       "    <tr>\n",
       "      <th>1</th>\n",
       "      <td>Banashankari</td>\n",
       "      <td>3.669204</td>\n",
       "    </tr>\n",
       "    <tr>\n",
       "      <th>2</th>\n",
       "      <td>Banaswadi</td>\n",
       "      <td>3.496250</td>\n",
       "    </tr>\n",
       "    <tr>\n",
       "      <th>3</th>\n",
       "      <td>Bannerghatta Road</td>\n",
       "      <td>3.549810</td>\n",
       "    </tr>\n",
       "    <tr>\n",
       "      <th>4</th>\n",
       "      <td>Basavanagudi</td>\n",
       "      <td>3.660265</td>\n",
       "    </tr>\n",
       "  </tbody>\n",
       "</table>\n",
       "</div>"
      ],
      "text/plain": [
       "            location      rate\n",
       "0                BTM  3.637437\n",
       "1       Banashankari  3.669204\n",
       "2          Banaswadi  3.496250\n",
       "3  Bannerghatta Road  3.549810\n",
       "4       Basavanagudi  3.660265"
      ]
     },
     "execution_count": 58,
     "metadata": {},
     "output_type": "execute_result"
    }
   ],
   "source": [
    "data_3.head()"
   ]
  },
  {
   "cell_type": "code",
   "execution_count": 61,
   "metadata": {},
   "outputs": [
    {
     "data": {
      "text/plain": [
       "(92, 2)"
      ]
     },
     "execution_count": 61,
     "metadata": {},
     "output_type": "execute_result"
    }
   ],
   "source": [
    "data_3.shape"
   ]
  },
  {
   "cell_type": "code",
   "execution_count": 62,
   "metadata": {},
   "outputs": [],
   "source": [
    "from geopy.geocoders import Nominatim\n",
    "geolocator = Nominatim(user_agent = 'app')"
   ]
  },
  {
   "cell_type": "code",
   "execution_count": 63,
   "metadata": {},
   "outputs": [],
   "source": [
    "lat_lon = []\n",
    "for location in data_3['location']:\n",
    "    location = geolocator.geocode(location)\n",
    "    if location is None:\n",
    "        lat_lon.append(np.nan)\n",
    "    else:\n",
    "        geo = (location.latitude, location.longitude)\n",
    "        lat_lon.append(geo)"
   ]
  },
  {
   "cell_type": "code",
   "execution_count": 64,
   "metadata": {},
   "outputs": [],
   "source": [
    "data_3['geo_loc'] = lat_lon"
   ]
  },
  {
   "cell_type": "code",
   "execution_count": 78,
   "metadata": {},
   "outputs": [
    {
     "data": {
      "text/html": [
       "<div>\n",
       "<style scoped>\n",
       "    .dataframe tbody tr th:only-of-type {\n",
       "        vertical-align: middle;\n",
       "    }\n",
       "\n",
       "    .dataframe tbody tr th {\n",
       "        vertical-align: top;\n",
       "    }\n",
       "\n",
       "    .dataframe thead th {\n",
       "        text-align: right;\n",
       "    }\n",
       "</style>\n",
       "<table border=\"1\" class=\"dataframe\">\n",
       "  <thead>\n",
       "    <tr style=\"text-align: right;\">\n",
       "      <th></th>\n",
       "      <th>location</th>\n",
       "      <th>rate</th>\n",
       "      <th>geo_loc</th>\n",
       "    </tr>\n",
       "  </thead>\n",
       "  <tbody>\n",
       "    <tr>\n",
       "      <th>0</th>\n",
       "      <td>BTM</td>\n",
       "      <td>3.637437</td>\n",
       "      <td>(45.95485055, -112.49659530324134)</td>\n",
       "    </tr>\n",
       "    <tr>\n",
       "      <th>1</th>\n",
       "      <td>Banashankari</td>\n",
       "      <td>3.669204</td>\n",
       "      <td>(15.8876779, 75.7046777)</td>\n",
       "    </tr>\n",
       "    <tr>\n",
       "      <th>2</th>\n",
       "      <td>Banaswadi</td>\n",
       "      <td>3.496250</td>\n",
       "      <td>(13.0141618, 77.6518539)</td>\n",
       "    </tr>\n",
       "    <tr>\n",
       "      <th>3</th>\n",
       "      <td>Bannerghatta Road</td>\n",
       "      <td>3.549810</td>\n",
       "      <td>(12.887979, 77.5970812)</td>\n",
       "    </tr>\n",
       "    <tr>\n",
       "      <th>4</th>\n",
       "      <td>Basavanagudi</td>\n",
       "      <td>3.660265</td>\n",
       "      <td>(12.9417261, 77.5755021)</td>\n",
       "    </tr>\n",
       "  </tbody>\n",
       "</table>\n",
       "</div>"
      ],
      "text/plain": [
       "            location      rate                             geo_loc\n",
       "0                BTM  3.637437  (45.95485055, -112.49659530324134)\n",
       "1       Banashankari  3.669204            (15.8876779, 75.7046777)\n",
       "2          Banaswadi  3.496250            (13.0141618, 77.6518539)\n",
       "3  Bannerghatta Road  3.549810             (12.887979, 77.5970812)\n",
       "4       Basavanagudi  3.660265            (12.9417261, 77.5755021)"
      ]
     },
     "execution_count": 78,
     "metadata": {},
     "output_type": "execute_result"
    }
   ],
   "source": [
    "data_3.head()"
   ]
  },
  {
   "cell_type": "code",
   "execution_count": 84,
   "metadata": {},
   "outputs": [
    {
     "name": "stdout",
     "output_type": "stream",
     "text": [
      "<class 'pandas.core.frame.DataFrame'>\n",
      "RangeIndex: 92 entries, 0 to 91\n",
      "Data columns (total 3 columns):\n",
      " #   Column    Non-Null Count  Dtype  \n",
      "---  ------    --------------  -----  \n",
      " 0   location  92 non-null     object \n",
      " 1   rate      92 non-null     float64\n",
      " 2   geo_loc   91 non-null     object \n",
      "dtypes: float64(1), object(2)\n",
      "memory usage: 2.3+ KB\n"
     ]
    }
   ],
   "source": [
    "data_3.info()"
   ]
  },
  {
   "cell_type": "code",
   "execution_count": 85,
   "metadata": {},
   "outputs": [],
   "source": [
    "data_3.dropna(inplace=True)"
   ]
  },
  {
   "cell_type": "code",
   "execution_count": 86,
   "metadata": {},
   "outputs": [
    {
     "data": {
      "text/html": [
       "<div>\n",
       "<style scoped>\n",
       "    .dataframe tbody tr th:only-of-type {\n",
       "        vertical-align: middle;\n",
       "    }\n",
       "\n",
       "    .dataframe tbody tr th {\n",
       "        vertical-align: top;\n",
       "    }\n",
       "\n",
       "    .dataframe thead th {\n",
       "        text-align: right;\n",
       "    }\n",
       "</style>\n",
       "<table border=\"1\" class=\"dataframe\">\n",
       "  <thead>\n",
       "    <tr style=\"text-align: right;\">\n",
       "      <th></th>\n",
       "      <th>location</th>\n",
       "      <th>rate</th>\n",
       "      <th>geo_loc</th>\n",
       "    </tr>\n",
       "  </thead>\n",
       "  <tbody>\n",
       "    <tr>\n",
       "      <th>0</th>\n",
       "      <td>BTM</td>\n",
       "      <td>3.637437</td>\n",
       "      <td>(45.95485055, -112.49659530324134)</td>\n",
       "    </tr>\n",
       "    <tr>\n",
       "      <th>1</th>\n",
       "      <td>Banashankari</td>\n",
       "      <td>3.669204</td>\n",
       "      <td>(15.8876779, 75.7046777)</td>\n",
       "    </tr>\n",
       "    <tr>\n",
       "      <th>2</th>\n",
       "      <td>Banaswadi</td>\n",
       "      <td>3.496250</td>\n",
       "      <td>(13.0141618, 77.6518539)</td>\n",
       "    </tr>\n",
       "    <tr>\n",
       "      <th>3</th>\n",
       "      <td>Bannerghatta Road</td>\n",
       "      <td>3.549810</td>\n",
       "      <td>(12.887979, 77.5970812)</td>\n",
       "    </tr>\n",
       "    <tr>\n",
       "      <th>4</th>\n",
       "      <td>Basavanagudi</td>\n",
       "      <td>3.660265</td>\n",
       "      <td>(12.9417261, 77.5755021)</td>\n",
       "    </tr>\n",
       "  </tbody>\n",
       "</table>\n",
       "</div>"
      ],
      "text/plain": [
       "            location      rate                             geo_loc\n",
       "0                BTM  3.637437  (45.95485055, -112.49659530324134)\n",
       "1       Banashankari  3.669204            (15.8876779, 75.7046777)\n",
       "2          Banaswadi  3.496250            (13.0141618, 77.6518539)\n",
       "3  Bannerghatta Road  3.549810             (12.887979, 77.5970812)\n",
       "4       Basavanagudi  3.660265            (12.9417261, 77.5755021)"
      ]
     },
     "execution_count": 86,
     "metadata": {},
     "output_type": "execute_result"
    }
   ],
   "source": [
    "data_3.head()"
   ]
  },
  {
   "cell_type": "code",
   "execution_count": 92,
   "metadata": {},
   "outputs": [
    {
     "name": "stdout",
     "output_type": "stream",
     "text": [
      "[45.95485055]\n",
      "[45.95485055, 15.8876779]\n",
      "[45.95485055, 15.8876779, 13.0141618]\n",
      "[45.95485055, 15.8876779, 13.0141618, 12.887979]\n",
      "[45.95485055, 15.8876779, 13.0141618, 12.887979, 12.9417261]\n",
      "[45.95485055, 15.8876779, 13.0141618, 12.887979, 12.9417261, 12.9932739]\n",
      "[45.95485055, 15.8876779, 13.0141618, 12.887979, 12.9417261, 12.9932739, 12.93577245]\n",
      "[45.95485055, 15.8876779, 13.0141618, 12.887979, 12.9417261, 12.9932739, 12.93577245, 12.9089453]\n",
      "[45.95485055, 15.8876779, 13.0141618, 12.887979, 12.9417261, 12.9932739, 12.93577245, 12.9089453, 40.28745]\n",
      "[45.95485055, 15.8876779, 13.0141618, 12.887979, 12.9417261, 12.9932739, 12.93577245, 12.9089453, 40.28745, 33.5935063]\n",
      "[45.95485055, 15.8876779, 13.0141618, 12.887979, 12.9417261, 12.9932739, 12.93577245, 12.9089453, 40.28745, 33.5935063, 17.2510682]\n",
      "[45.95485055, 15.8876779, 13.0141618, 12.887979, 12.9417261, 12.9932739, 12.93577245, 12.9089453, 40.28745, 33.5935063, 17.2510682, 13.0101286]\n",
      "[45.95485055, 15.8876779, 13.0141618, 12.887979, 12.9417261, 12.9932739, 12.93577245, 12.9089453, 40.28745, 33.5935063, 17.2510682, 13.0101286, 51.373656]\n",
      "[45.95485055, 15.8876779, 13.0141618, 12.887979, 12.9417261, 12.9932739, 12.93577245, 12.9089453, 40.28745, 33.5935063, 17.2510682, 13.0101286, 51.373656, 39.76880625]\n",
      "[45.95485055, 15.8876779, 13.0141618, 12.887979, 12.9417261, 12.9932739, 12.93577245, 12.9089453, 40.28745, 33.5935063, 17.2510682, 13.0101286, 51.373656, 39.76880625, 51.5227809]\n",
      "[45.95485055, 15.8876779, 13.0141618, 12.887979, 12.9417261, 12.9932739, 12.93577245, 12.9089453, 40.28745, 33.5935063, 17.2510682, 13.0101286, 51.373656, 39.76880625, 51.5227809, 31.89376]\n",
      "[45.95485055, 15.8876779, 13.0141618, 12.887979, 12.9417261, 12.9932739, 12.93577245, 12.9089453, 40.28745, 33.5935063, 17.2510682, 13.0101286, 51.373656, 39.76880625, 51.5227809, 31.89376, 12.9624669]\n",
      "[45.95485055, 15.8876779, 13.0141618, 12.887979, 12.9417261, 12.9932739, 12.93577245, 12.9089453, 40.28745, 33.5935063, 17.2510682, 13.0101286, 51.373656, 39.76880625, 51.5227809, 31.89376, 12.9624669, 13.0215466]\n",
      "[45.95485055, 15.8876779, 13.0141618, 12.887979, 12.9417261, 12.9932739, 12.93577245, 12.9089453, 40.28745, 33.5935063, 17.2510682, 13.0101286, 51.373656, 39.76880625, 51.5227809, 31.89376, 12.9624669, 13.0215466, 12.945245]\n",
      "[45.95485055, 15.8876779, 13.0141618, 12.887979, 12.9417261, 12.9932739, 12.93577245, 12.9089453, 40.28745, 33.5935063, 17.2510682, 13.0101286, 51.373656, 39.76880625, 51.5227809, 31.89376, 12.9624669, 13.0215466, 12.945245, -6.2659285]\n",
      "[45.95485055, 15.8876779, 13.0141618, 12.887979, 12.9417261, 12.9932739, 12.93577245, 12.9089453, 40.28745, 33.5935063, 17.2510682, 13.0101286, 51.373656, 39.76880625, 51.5227809, 31.89376, 12.9624669, 13.0215466, 12.945245, -6.2659285, 12.996845]\n",
      "[45.95485055, 15.8876779, 13.0141618, 12.887979, 12.9417261, 12.9932739, 12.93577245, 12.9089453, 40.28745, 33.5935063, 17.2510682, 13.0101286, 51.373656, 39.76880625, 51.5227809, 31.89376, 12.9624669, 13.0215466, 12.945245, -6.2659285, 12.996845, 13.0358698]\n",
      "[45.95485055, 15.8876779, 13.0141618, 12.887979, 12.9417261, 12.9932739, 12.93577245, 12.9089453, 40.28745, 33.5935063, 17.2510682, 13.0101286, 51.373656, 39.76880625, 51.5227809, 31.89376, 12.9624669, 13.0215466, 12.945245, -6.2659285, 12.996845, 13.0358698, 18.1475]\n",
      "[45.95485055, 15.8876779, 13.0141618, 12.887979, 12.9417261, 12.9932739, 12.93577245, 12.9089453, 40.28745, 33.5935063, 17.2510682, 13.0101286, 51.373656, 39.76880625, 51.5227809, 31.89376, 12.9624669, 13.0215466, 12.945245, -6.2659285, 12.996845, 13.0358698, 18.1475, 13.0382184]\n",
      "[45.95485055, 15.8876779, 13.0141618, 12.887979, 12.9417261, 12.9932739, 12.93577245, 12.9089453, 40.28745, 33.5935063, 17.2510682, 13.0101286, 51.373656, 39.76880625, 51.5227809, 31.89376, 12.9624669, 13.0215466, 12.945245, -6.2659285, 12.996845, 13.0358698, 18.1475, 13.0382184, 13.0258087]\n",
      "[45.95485055, 15.8876779, 13.0141618, 12.887979, 12.9417261, 12.9932739, 12.93577245, 12.9089453, 40.28745, 33.5935063, 17.2510682, 13.0101286, 51.373656, 39.76880625, 51.5227809, 31.89376, 12.9624669, 13.0215466, 12.945245, -6.2659285, 12.996845, 13.0358698, 18.1475, 13.0382184, 13.0258087, 12.773175]\n",
      "[45.95485055, 15.8876779, 13.0141618, 12.887979, 12.9417261, 12.9932739, 12.93577245, 12.9089453, 40.28745, 33.5935063, 17.2510682, 13.0101286, 51.373656, 39.76880625, 51.5227809, 31.89376, 12.9624669, 13.0215466, 12.945245, -6.2659285, 12.996845, 13.0358698, 18.1475, 13.0382184, 13.0258087, 12.773175, 12.967576]\n",
      "[45.95485055, 15.8876779, 13.0141618, 12.887979, 12.9417261, 12.9932739, 12.93577245, 12.9089453, 40.28745, 33.5935063, 17.2510682, 13.0101286, 51.373656, 39.76880625, 51.5227809, 31.89376, 12.9624669, 13.0215466, 12.945245, -6.2659285, 12.996845, 13.0358698, 18.1475, 13.0382184, 13.0258087, 12.773175, 12.967576, 12.9732913]\n",
      "[45.95485055, 15.8876779, 13.0141618, 12.887979, 12.9417261, 12.9932739, 12.93577245, 12.9089453, 40.28745, 33.5935063, 17.2510682, 13.0101286, 51.373656, 39.76880625, 51.5227809, 31.89376, 12.9624669, 13.0215466, 12.945245, -6.2659285, 12.996845, 13.0358698, 18.1475, 13.0382184, 13.0258087, 12.773175, 12.967576, 12.9732913, 34.977289]\n",
      "[45.95485055, 15.8876779, 13.0141618, 12.887979, 12.9417261, 12.9932739, 12.93577245, 12.9089453, 40.28745, 33.5935063, 17.2510682, 13.0101286, 51.373656, 39.76880625, 51.5227809, 31.89376, 12.9624669, 13.0215466, 12.945245, -6.2659285, 12.996845, 13.0358698, 18.1475, 13.0382184, 13.0258087, 12.773175, 12.967576, 12.9732913, 34.977289, 12.2655944]\n",
      "[45.95485055, 15.8876779, 13.0141618, 12.887979, 12.9417261, 12.9932739, 12.93577245, 12.9089453, 40.28745, 33.5935063, 17.2510682, 13.0101286, 51.373656, 39.76880625, 51.5227809, 31.89376, 12.9624669, 13.0215466, 12.945245, -6.2659285, 12.996845, 13.0358698, 18.1475, 13.0382184, 13.0258087, 12.773175, 12.967576, 12.9732913, 34.977289, 12.2655944, 11.9917786]\n",
      "[45.95485055, 15.8876779, 13.0141618, 12.887979, 12.9417261, 12.9932739, 12.93577245, 12.9089453, 40.28745, 33.5935063, 17.2510682, 13.0101286, 51.373656, 39.76880625, 51.5227809, 31.89376, 12.9624669, 13.0215466, 12.945245, -6.2659285, 12.996845, 13.0358698, 18.1475, 13.0382184, 13.0258087, 12.773175, 12.967576, 12.9732913, 34.977289, 12.2655944, 11.9917786, 27.64392675]\n",
      "[45.95485055, 15.8876779, 13.0141618, 12.887979, 12.9417261, 12.9932739, 12.93577245, 12.9089453, 40.28745, 33.5935063, 17.2510682, 13.0101286, 51.373656, 39.76880625, 51.5227809, 31.89376, 12.9624669, 13.0215466, 12.945245, -6.2659285, 12.996845, 13.0358698, 18.1475, 13.0382184, 13.0258087, 12.773175, 12.967576, 12.9732913, 34.977289, 12.2655944, 11.9917786, 27.64392675, 12.9678074]\n",
      "[45.95485055, 15.8876779, 13.0141618, 12.887979, 12.9417261, 12.9932739, 12.93577245, 12.9089453, 40.28745, 33.5935063, 17.2510682, 13.0101286, 51.373656, 39.76880625, 51.5227809, 31.89376, 12.9624669, 13.0215466, 12.945245, -6.2659285, 12.996845, 13.0358698, 18.1475, 13.0382184, 13.0258087, 12.773175, 12.967576, 12.9732913, 34.977289, 12.2655944, 11.9917786, 27.64392675, 12.9678074, 13.007516]\n",
      "[45.95485055, 15.8876779, 13.0141618, 12.887979, 12.9417261, 12.9932739, 12.93577245, 12.9089453, 40.28745, 33.5935063, 17.2510682, 13.0101286, 51.373656, 39.76880625, 51.5227809, 31.89376, 12.9624669, 13.0215466, 12.945245, -6.2659285, 12.996845, 13.0358698, 18.1475, 13.0382184, 13.0258087, 12.773175, 12.967576, 12.9732913, 34.977289, 12.2655944, 11.9917786, 27.64392675, 12.9678074, 13.007516, 12.9846713]\n",
      "[45.95485055, 15.8876779, 13.0141618, 12.887979, 12.9417261, 12.9932739, 12.93577245, 12.9089453, 40.28745, 33.5935063, 17.2510682, 13.0101286, 51.373656, 39.76880625, 51.5227809, 31.89376, 12.9624669, 13.0215466, 12.945245, -6.2659285, 12.996845, 13.0358698, 18.1475, 13.0382184, 13.0258087, 12.773175, 12.967576, 12.9732913, 34.977289, 12.2655944, 11.9917786, 27.64392675, 12.9678074, 13.007516, 12.9846713, 13.0221416]\n",
      "[45.95485055, 15.8876779, 13.0141618, 12.887979, 12.9417261, 12.9932739, 12.93577245, 12.9089453, 40.28745, 33.5935063, 17.2510682, 13.0101286, 51.373656, 39.76880625, 51.5227809, 31.89376, 12.9624669, 13.0215466, 12.945245, -6.2659285, 12.996845, 13.0358698, 18.1475, 13.0382184, 13.0258087, 12.773175, 12.967576, 12.9732913, 34.977289, 12.2655944, 11.9917786, 27.64392675, 12.9678074, 13.007516, 12.9846713, 13.0221416, 13.0093455]\n",
      "[45.95485055, 15.8876779, 13.0141618, 12.887979, 12.9417261, 12.9932739, 12.93577245, 12.9089453, 40.28745, 33.5935063, 17.2510682, 13.0101286, 51.373656, 39.76880625, 51.5227809, 31.89376, 12.9624669, 13.0215466, 12.945245, -6.2659285, 12.996845, 13.0358698, 18.1475, 13.0382184, 13.0258087, 12.773175, 12.967576, 12.9732913, 34.977289, 12.2655944, 11.9917786, 27.64392675, 12.9678074, 13.007516, 12.9846713, 13.0221416, 13.0093455, 12.5607431]\n",
      "[45.95485055, 15.8876779, 13.0141618, 12.887979, 12.9417261, 12.9932739, 12.93577245, 12.9089453, 40.28745, 33.5935063, 17.2510682, 13.0101286, 51.373656, 39.76880625, 51.5227809, 31.89376, 12.9624669, 13.0215466, 12.945245, -6.2659285, 12.996845, 13.0358698, 18.1475, 13.0382184, 13.0258087, 12.773175, 12.967576, 12.9732913, 34.977289, 12.2655944, 11.9917786, 27.64392675, 12.9678074, 13.007516, 12.9846713, 13.0221416, 13.0093455, 12.5607431, 12.9176571]\n",
      "[45.95485055, 15.8876779, 13.0141618, 12.887979, 12.9417261, 12.9932739, 12.93577245, 12.9089453, 40.28745, 33.5935063, 17.2510682, 13.0101286, 51.373656, 39.76880625, 51.5227809, 31.89376, 12.9624669, 13.0215466, 12.945245, -6.2659285, 12.996845, 13.0358698, 18.1475, 13.0382184, 13.0258087, 12.773175, 12.967576, 12.9732913, 34.977289, 12.2655944, 11.9917786, 27.64392675, 12.9678074, 13.007516, 12.9846713, 13.0221416, 13.0093455, 12.5607431, 12.9176571, 13.2923988]\n",
      "[45.95485055, 15.8876779, 13.0141618, 12.887979, 12.9417261, 12.9932739, 12.93577245, 12.9089453, 40.28745, 33.5935063, 17.2510682, 13.0101286, 51.373656, 39.76880625, 51.5227809, 31.89376, 12.9624669, 13.0215466, 12.945245, -6.2659285, 12.996845, 13.0358698, 18.1475, 13.0382184, 13.0258087, 12.773175, 12.967576, 12.9732913, 34.977289, 12.2655944, 11.9917786, 27.64392675, 12.9678074, 13.007516, 12.9846713, 13.0221416, 13.0093455, 12.5607431, 12.9176571, 13.2923988, 14.5395813]\n",
      "[45.95485055, 15.8876779, 13.0141618, 12.887979, 12.9417261, 12.9932739, 12.93577245, 12.9089453, 40.28745, 33.5935063, 17.2510682, 13.0101286, 51.373656, 39.76880625, 51.5227809, 31.89376, 12.9624669, 13.0215466, 12.945245, -6.2659285, 12.996845, 13.0358698, 18.1475, 13.0382184, 13.0258087, 12.773175, 12.967576, 12.9732913, 34.977289, 12.2655944, 11.9917786, 27.64392675, 12.9678074, 13.007516, 12.9846713, 13.0221416, 13.0093455, 12.5607431, 12.9176571, 13.2923988, 14.5395813, 12.9243509]\n",
      "[45.95485055, 15.8876779, 13.0141618, 12.887979, 12.9417261, 12.9932739, 12.93577245, 12.9089453, 40.28745, 33.5935063, 17.2510682, 13.0101286, 51.373656, 39.76880625, 51.5227809, 31.89376, 12.9624669, 13.0215466, 12.945245, -6.2659285, 12.996845, 13.0358698, 18.1475, 13.0382184, 13.0258087, 12.773175, 12.967576, 12.9732913, 34.977289, 12.2655944, 11.9917786, 27.64392675, 12.9678074, 13.007516, 12.9846713, 13.0221416, 13.0093455, 12.5607431, 12.9176571, 13.2923988, 14.5395813, 12.9243509, 12.9271867]\n",
      "[45.95485055, 15.8876779, 13.0141618, 12.887979, 12.9417261, 12.9932739, 12.93577245, 12.9089453, 40.28745, 33.5935063, 17.2510682, 13.0101286, 51.373656, 39.76880625, 51.5227809, 31.89376, 12.9624669, 13.0215466, 12.945245, -6.2659285, 12.996845, 13.0358698, 18.1475, 13.0382184, 13.0258087, 12.773175, 12.967576, 12.9732913, 34.977289, 12.2655944, 11.9917786, 27.64392675, 12.9678074, 13.007516, 12.9846713, 13.0221416, 13.0093455, 12.5607431, 12.9176571, 13.2923988, 14.5395813, 12.9243509, 12.9271867, 12.93433385]\n",
      "[45.95485055, 15.8876779, 13.0141618, 12.887979, 12.9417261, 12.9932739, 12.93577245, 12.9089453, 40.28745, 33.5935063, 17.2510682, 13.0101286, 51.373656, 39.76880625, 51.5227809, 31.89376, 12.9624669, 13.0215466, 12.945245, -6.2659285, 12.996845, 13.0358698, 18.1475, 13.0382184, 13.0258087, 12.773175, 12.967576, 12.9732913, 34.977289, 12.2655944, 11.9917786, 27.64392675, 12.9678074, 13.007516, 12.9846713, 13.0221416, 13.0093455, 12.5607431, 12.9176571, 13.2923988, 14.5395813, 12.9243509, 12.9271867, 12.93433385, 12.9343774]\n",
      "[45.95485055, 15.8876779, 13.0141618, 12.887979, 12.9417261, 12.9932739, 12.93577245, 12.9089453, 40.28745, 33.5935063, 17.2510682, 13.0101286, 51.373656, 39.76880625, 51.5227809, 31.89376, 12.9624669, 13.0215466, 12.945245, -6.2659285, 12.996845, 13.0358698, 18.1475, 13.0382184, 13.0258087, 12.773175, 12.967576, 12.9732913, 34.977289, 12.2655944, 11.9917786, 27.64392675, 12.9678074, 13.007516, 12.9846713, 13.0221416, 13.0093455, 12.5607431, 12.9176571, 13.2923988, 14.5395813, 12.9243509, 12.9271867, 12.93433385, 12.9343774, 12.9400321]\n",
      "[45.95485055, 15.8876779, 13.0141618, 12.887979, 12.9417261, 12.9932739, 12.93577245, 12.9089453, 40.28745, 33.5935063, 17.2510682, 13.0101286, 51.373656, 39.76880625, 51.5227809, 31.89376, 12.9624669, 13.0215466, 12.945245, -6.2659285, 12.996845, 13.0358698, 18.1475, 13.0382184, 13.0258087, 12.773175, 12.967576, 12.9732913, 34.977289, 12.2655944, 11.9917786, 27.64392675, 12.9678074, 13.007516, 12.9846713, 13.0221416, 13.0093455, 12.5607431, 12.9176571, 13.2923988, 14.5395813, 12.9243509, 12.9271867, 12.93433385, 12.9343774, 12.9400321, 12.9302645]\n",
      "[45.95485055, 15.8876779, 13.0141618, 12.887979, 12.9417261, 12.9932739, 12.93577245, 12.9089453, 40.28745, 33.5935063, 17.2510682, 13.0101286, 51.373656, 39.76880625, 51.5227809, 31.89376, 12.9624669, 13.0215466, 12.945245, -6.2659285, 12.996845, 13.0358698, 18.1475, 13.0382184, 13.0258087, 12.773175, 12.967576, 12.9732913, 34.977289, 12.2655944, 11.9917786, 27.64392675, 12.9678074, 13.007516, 12.9846713, 13.0221416, 13.0093455, 12.5607431, 12.9176571, 13.2923988, 14.5395813, 12.9243509, 12.9271867, 12.93433385, 12.9343774, 12.9400321, 12.9302645, 12.9417812]\n",
      "[45.95485055, 15.8876779, 13.0141618, 12.887979, 12.9417261, 12.9932739, 12.93577245, 12.9089453, 40.28745, 33.5935063, 17.2510682, 13.0101286, 51.373656, 39.76880625, 51.5227809, 31.89376, 12.9624669, 13.0215466, 12.945245, -6.2659285, 12.996845, 13.0358698, 18.1475, 13.0382184, 13.0258087, 12.773175, 12.967576, 12.9732913, 34.977289, 12.2655944, 11.9917786, 27.64392675, 12.9678074, 13.007516, 12.9846713, 13.0221416, 13.0093455, 12.5607431, 12.9176571, 13.2923988, 14.5395813, 12.9243509, 12.9271867, 12.93433385, 12.9343774, 12.9400321, 12.9302645, 12.9417812, 12.9081487]\n",
      "[45.95485055, 15.8876779, 13.0141618, 12.887979, 12.9417261, 12.9932739, 12.93577245, 12.9089453, 40.28745, 33.5935063, 17.2510682, 13.0101286, 51.373656, 39.76880625, 51.5227809, 31.89376, 12.9624669, 13.0215466, 12.945245, -6.2659285, 12.996845, 13.0358698, 18.1475, 13.0382184, 13.0258087, 12.773175, 12.967576, 12.9732913, 34.977289, 12.2655944, 11.9917786, 27.64392675, 12.9678074, 13.007516, 12.9846713, 13.0221416, 13.0093455, 12.5607431, 12.9176571, 13.2923988, 14.5395813, 12.9243509, 12.9271867, 12.93433385, 12.9343774, 12.9400321, 12.9302645, 12.9417812, 12.9081487, 12.957998]\n",
      "[45.95485055, 15.8876779, 13.0141618, 12.887979, 12.9417261, 12.9932739, 12.93577245, 12.9089453, 40.28745, 33.5935063, 17.2510682, 13.0101286, 51.373656, 39.76880625, 51.5227809, 31.89376, 12.9624669, 13.0215466, 12.945245, -6.2659285, 12.996845, 13.0358698, 18.1475, 13.0382184, 13.0258087, 12.773175, 12.967576, 12.9732913, 34.977289, 12.2655944, 11.9917786, 27.64392675, 12.9678074, 13.007516, 12.9846713, 13.0221416, 13.0093455, 12.5607431, 12.9176571, 13.2923988, 14.5395813, 12.9243509, 12.9271867, 12.93433385, 12.9343774, 12.9400321, 12.9302645, 12.9417812, 12.9081487, 12.957998, 40.7652844]\n",
      "[45.95485055, 15.8876779, 13.0141618, 12.887979, 12.9417261, 12.9932739, 12.93577245, 12.9089453, 40.28745, 33.5935063, 17.2510682, 13.0101286, 51.373656, 39.76880625, 51.5227809, 31.89376, 12.9624669, 13.0215466, 12.945245, -6.2659285, 12.996845, 13.0358698, 18.1475, 13.0382184, 13.0258087, 12.773175, 12.967576, 12.9732913, 34.977289, 12.2655944, 11.9917786, 27.64392675, 12.9678074, 13.007516, 12.9846713, 13.0221416, 13.0093455, 12.5607431, 12.9176571, 13.2923988, 14.5395813, 12.9243509, 12.9271867, 12.93433385, 12.9343774, 12.9400321, 12.9302645, 12.9417812, 12.9081487, 12.957998, 40.7652844, 17.9895618]\n",
      "[45.95485055, 15.8876779, 13.0141618, 12.887979, 12.9417261, 12.9932739, 12.93577245, 12.9089453, 40.28745, 33.5935063, 17.2510682, 13.0101286, 51.373656, 39.76880625, 51.5227809, 31.89376, 12.9624669, 13.0215466, 12.945245, -6.2659285, 12.996845, 13.0358698, 18.1475, 13.0382184, 13.0258087, 12.773175, 12.967576, 12.9732913, 34.977289, 12.2655944, 11.9917786, 27.64392675, 12.9678074, 13.007516, 12.9846713, 13.0221416, 13.0093455, 12.5607431, 12.9176571, 13.2923988, 14.5395813, 12.9243509, 12.9271867, 12.93433385, 12.9343774, 12.9400321, 12.9302645, 12.9417812, 12.9081487, 12.957998, 40.7652844, 17.9895618, 12.945048]\n",
      "[45.95485055, 15.8876779, 13.0141618, 12.887979, 12.9417261, 12.9932739, 12.93577245, 12.9089453, 40.28745, 33.5935063, 17.2510682, 13.0101286, 51.373656, 39.76880625, 51.5227809, 31.89376, 12.9624669, 13.0215466, 12.945245, -6.2659285, 12.996845, 13.0358698, 18.1475, 13.0382184, 13.0258087, 12.773175, 12.967576, 12.9732913, 34.977289, 12.2655944, 11.9917786, 27.64392675, 12.9678074, 13.007516, 12.9846713, 13.0221416, 13.0093455, 12.5607431, 12.9176571, 13.2923988, 14.5395813, 12.9243509, 12.9271867, 12.93433385, 12.9343774, 12.9400321, 12.9302645, 12.9417812, 12.9081487, 12.957998, 40.7652844, 17.9895618, 12.945048, 1.2847055]\n",
      "[45.95485055, 15.8876779, 13.0141618, 12.887979, 12.9417261, 12.9932739, 12.93577245, 12.9089453, 40.28745, 33.5935063, 17.2510682, 13.0101286, 51.373656, 39.76880625, 51.5227809, 31.89376, 12.9624669, 13.0215466, 12.945245, -6.2659285, 12.996845, 13.0358698, 18.1475, 13.0382184, 13.0258087, 12.773175, 12.967576, 12.9732913, 34.977289, 12.2655944, 11.9917786, 27.64392675, 12.9678074, 13.007516, 12.9846713, 13.0221416, 13.0093455, 12.5607431, 12.9176571, 13.2923988, 14.5395813, 12.9243509, 12.9271867, 12.93433385, 12.9343774, 12.9400321, 12.9302645, 12.9417812, 12.9081487, 12.957998, 40.7652844, 17.9895618, 12.945048, 1.2847055, 13.0027353]\n",
      "[45.95485055, 15.8876779, 13.0141618, 12.887979, 12.9417261, 12.9932739, 12.93577245, 12.9089453, 40.28745, 33.5935063, 17.2510682, 13.0101286, 51.373656, 39.76880625, 51.5227809, 31.89376, 12.9624669, 13.0215466, 12.945245, -6.2659285, 12.996845, 13.0358698, 18.1475, 13.0382184, 13.0258087, 12.773175, 12.967576, 12.9732913, 34.977289, 12.2655944, 11.9917786, 27.64392675, 12.9678074, 13.007516, 12.9846713, 13.0221416, 13.0093455, 12.5607431, 12.9176571, 13.2923988, 14.5395813, 12.9243509, 12.9271867, 12.93433385, 12.9343774, 12.9400321, 12.9302645, 12.9417812, 12.9081487, 12.957998, 40.7652844, 17.9895618, 12.945048, 1.2847055, 13.0027353, 12.9552572]\n",
      "[45.95485055, 15.8876779, 13.0141618, 12.887979, 12.9417261, 12.9932739, 12.93577245, 12.9089453, 40.28745, 33.5935063, 17.2510682, 13.0101286, 51.373656, 39.76880625, 51.5227809, 31.89376, 12.9624669, 13.0215466, 12.945245, -6.2659285, 12.996845, 13.0358698, 18.1475, 13.0382184, 13.0258087, 12.773175, 12.967576, 12.9732913, 34.977289, 12.2655944, 11.9917786, 27.64392675, 12.9678074, 13.007516, 12.9846713, 13.0221416, 13.0093455, 12.5607431, 12.9176571, 13.2923988, 14.5395813, 12.9243509, 12.9271867, 12.93433385, 12.9343774, 12.9400321, 12.9302645, 12.9417812, 12.9081487, 12.957998, 40.7652844, 17.9895618, 12.945048, 1.2847055, 13.0027353, 12.9552572, 12.3872141]\n",
      "[45.95485055, 15.8876779, 13.0141618, 12.887979, 12.9417261, 12.9932739, 12.93577245, 12.9089453, 40.28745, 33.5935063, 17.2510682, 13.0101286, 51.373656, 39.76880625, 51.5227809, 31.89376, 12.9624669, 13.0215466, 12.945245, -6.2659285, 12.996845, 13.0358698, 18.1475, 13.0382184, 13.0258087, 12.773175, 12.967576, 12.9732913, 34.977289, 12.2655944, 11.9917786, 27.64392675, 12.9678074, 13.007516, 12.9846713, 13.0221416, 13.0093455, 12.5607431, 12.9176571, 13.2923988, 14.5395813, 12.9243509, 12.9271867, 12.93433385, 12.9343774, 12.9400321, 12.9302645, 12.9417812, 12.9081487, 12.957998, 40.7652844, 17.9895618, 12.945048, 1.2847055, 13.0027353, 12.9552572, 12.3872141, 12.9546741]\n",
      "[45.95485055, 15.8876779, 13.0141618, 12.887979, 12.9417261, 12.9932739, 12.93577245, 12.9089453, 40.28745, 33.5935063, 17.2510682, 13.0101286, 51.373656, 39.76880625, 51.5227809, 31.89376, 12.9624669, 13.0215466, 12.945245, -6.2659285, 12.996845, 13.0358698, 18.1475, 13.0382184, 13.0258087, 12.773175, 12.967576, 12.9732913, 34.977289, 12.2655944, 11.9917786, 27.64392675, 12.9678074, 13.007516, 12.9846713, 13.0221416, 13.0093455, 12.5607431, 12.9176571, 13.2923988, 14.5395813, 12.9243509, 12.9271867, 12.93433385, 12.9343774, 12.9400321, 12.9302645, 12.9417812, 12.9081487, 12.957998, 40.7652844, 17.9895618, 12.945048, 1.2847055, 13.0027353, 12.9552572, 12.3872141, 12.9546741, 13.2227]\n",
      "[45.95485055, 15.8876779, 13.0141618, 12.887979, 12.9417261, 12.9932739, 12.93577245, 12.9089453, 40.28745, 33.5935063, 17.2510682, 13.0101286, 51.373656, 39.76880625, 51.5227809, 31.89376, 12.9624669, 13.0215466, 12.945245, -6.2659285, 12.996845, 13.0358698, 18.1475, 13.0382184, 13.0258087, 12.773175, 12.967576, 12.9732913, 34.977289, 12.2655944, 11.9917786, 27.64392675, 12.9678074, 13.007516, 12.9846713, 13.0221416, 13.0093455, 12.5607431, 12.9176571, 13.2923988, 14.5395813, 12.9243509, 12.9271867, 12.93433385, 12.9343774, 12.9400321, 12.9302645, 12.9417812, 12.9081487, 12.957998, 40.7652844, 17.9895618, 12.945048, 1.2847055, 13.0027353, 12.9552572, 12.3872141, 12.9546741, 13.2227, 13.0346384]\n",
      "[45.95485055, 15.8876779, 13.0141618, 12.887979, 12.9417261, 12.9932739, 12.93577245, 12.9089453, 40.28745, 33.5935063, 17.2510682, 13.0101286, 51.373656, 39.76880625, 51.5227809, 31.89376, 12.9624669, 13.0215466, 12.945245, -6.2659285, 12.996845, 13.0358698, 18.1475, 13.0382184, 13.0258087, 12.773175, 12.967576, 12.9732913, 34.977289, 12.2655944, 11.9917786, 27.64392675, 12.9678074, 13.007516, 12.9846713, 13.0221416, 13.0093455, 12.5607431, 12.9176571, 13.2923988, 14.5395813, 12.9243509, 12.9271867, 12.93433385, 12.9343774, 12.9400321, 12.9302645, 12.9417812, 12.9081487, 12.957998, 40.7652844, 17.9895618, 12.945048, 1.2847055, 13.0027353, 12.9552572, 12.3872141, 12.9546741, 13.2227, 13.0346384, 13.0217151]\n",
      "[45.95485055, 15.8876779, 13.0141618, 12.887979, 12.9417261, 12.9932739, 12.93577245, 12.9089453, 40.28745, 33.5935063, 17.2510682, 13.0101286, 51.373656, 39.76880625, 51.5227809, 31.89376, 12.9624669, 13.0215466, 12.945245, -6.2659285, 12.996845, 13.0358698, 18.1475, 13.0382184, 13.0258087, 12.773175, 12.967576, 12.9732913, 34.977289, 12.2655944, 11.9917786, 27.64392675, 12.9678074, 13.007516, 12.9846713, 13.0221416, 13.0093455, 12.5607431, 12.9176571, 13.2923988, 14.5395813, 12.9243509, 12.9271867, 12.93433385, 12.9343774, 12.9400321, 12.9302645, 12.9417812, 12.9081487, 12.957998, 40.7652844, 17.9895618, 12.945048, 1.2847055, 13.0027353, 12.9552572, 12.3872141, 12.9546741, 13.2227, 13.0346384, 13.0217151, 1.3061622]\n",
      "[45.95485055, 15.8876779, 13.0141618, 12.887979, 12.9417261, 12.9932739, 12.93577245, 12.9089453, 40.28745, 33.5935063, 17.2510682, 13.0101286, 51.373656, 39.76880625, 51.5227809, 31.89376, 12.9624669, 13.0215466, 12.945245, -6.2659285, 12.996845, 13.0358698, 18.1475, 13.0382184, 13.0258087, 12.773175, 12.967576, 12.9732913, 34.977289, 12.2655944, 11.9917786, 27.64392675, 12.9678074, 13.007516, 12.9846713, 13.0221416, 13.0093455, 12.5607431, 12.9176571, 13.2923988, 14.5395813, 12.9243509, 12.9271867, 12.93433385, 12.9343774, 12.9400321, 12.9302645, 12.9417812, 12.9081487, 12.957998, 40.7652844, 17.9895618, 12.945048, 1.2847055, 13.0027353, 12.9552572, 12.3872141, 12.9546741, 13.2227, 13.0346384, 13.0217151, 1.3061622, 13.194416]\n",
      "[45.95485055, 15.8876779, 13.0141618, 12.887979, 12.9417261, 12.9932739, 12.93577245, 12.9089453, 40.28745, 33.5935063, 17.2510682, 13.0101286, 51.373656, 39.76880625, 51.5227809, 31.89376, 12.9624669, 13.0215466, 12.945245, -6.2659285, 12.996845, 13.0358698, 18.1475, 13.0382184, 13.0258087, 12.773175, 12.967576, 12.9732913, 34.977289, 12.2655944, 11.9917786, 27.64392675, 12.9678074, 13.007516, 12.9846713, 13.0221416, 13.0093455, 12.5607431, 12.9176571, 13.2923988, 14.5395813, 12.9243509, 12.9271867, 12.93433385, 12.9343774, 12.9400321, 12.9302645, 12.9417812, 12.9081487, 12.957998, 40.7652844, 17.9895618, 12.945048, 1.2847055, 13.0027353, 12.9552572, 12.3872141, 12.9546741, 13.2227, 13.0346384, 13.0217151, 1.3061622, 13.194416, 13.0329419]\n",
      "[45.95485055, 15.8876779, 13.0141618, 12.887979, 12.9417261, 12.9932739, 12.93577245, 12.9089453, 40.28745, 33.5935063, 17.2510682, 13.0101286, 51.373656, 39.76880625, 51.5227809, 31.89376, 12.9624669, 13.0215466, 12.945245, -6.2659285, 12.996845, 13.0358698, 18.1475, 13.0382184, 13.0258087, 12.773175, 12.967576, 12.9732913, 34.977289, 12.2655944, 11.9917786, 27.64392675, 12.9678074, 13.007516, 12.9846713, 13.0221416, 13.0093455, 12.5607431, 12.9176571, 13.2923988, 14.5395813, 12.9243509, 12.9271867, 12.93433385, 12.9343774, 12.9400321, 12.9302645, 12.9417812, 12.9081487, 12.957998, 40.7652844, 17.9895618, 12.945048, 1.2847055, 13.0027353, 12.9552572, 12.3872141, 12.9546741, 13.2227, 13.0346384, 13.0217151, 1.3061622, 13.194416, 13.0329419, 13.0227204]\n",
      "[45.95485055, 15.8876779, 13.0141618, 12.887979, 12.9417261, 12.9932739, 12.93577245, 12.9089453, 40.28745, 33.5935063, 17.2510682, 13.0101286, 51.373656, 39.76880625, 51.5227809, 31.89376, 12.9624669, 13.0215466, 12.945245, -6.2659285, 12.996845, 13.0358698, 18.1475, 13.0382184, 13.0258087, 12.773175, 12.967576, 12.9732913, 34.977289, 12.2655944, 11.9917786, 27.64392675, 12.9678074, 13.007516, 12.9846713, 13.0221416, 13.0093455, 12.5607431, 12.9176571, 13.2923988, 14.5395813, 12.9243509, 12.9271867, 12.93433385, 12.9343774, 12.9400321, 12.9302645, 12.9417812, 12.9081487, 12.957998, 40.7652844, 17.9895618, 12.945048, 1.2847055, 13.0027353, 12.9552572, 12.3872141, 12.9546741, 13.2227, 13.0346384, 13.0217151, 1.3061622, 13.194416, 13.0329419, 13.0227204, 1.306731]\n",
      "[45.95485055, 15.8876779, 13.0141618, 12.887979, 12.9417261, 12.9932739, 12.93577245, 12.9089453, 40.28745, 33.5935063, 17.2510682, 13.0101286, 51.373656, 39.76880625, 51.5227809, 31.89376, 12.9624669, 13.0215466, 12.945245, -6.2659285, 12.996845, 13.0358698, 18.1475, 13.0382184, 13.0258087, 12.773175, 12.967576, 12.9732913, 34.977289, 12.2655944, 11.9917786, 27.64392675, 12.9678074, 13.007516, 12.9846713, 13.0221416, 13.0093455, 12.5607431, 12.9176571, 13.2923988, 14.5395813, 12.9243509, 12.9271867, 12.93433385, 12.9343774, 12.9400321, 12.9302645, 12.9417812, 12.9081487, 12.957998, 40.7652844, 17.9895618, 12.945048, 1.2847055, 13.0027353, 12.9552572, 12.3872141, 12.9546741, 13.2227, 13.0346384, 13.0217151, 1.3061622, 13.194416, 13.0329419, 13.0227204, 1.306731, 12.9882338]\n",
      "[45.95485055, 15.8876779, 13.0141618, 12.887979, 12.9417261, 12.9932739, 12.93577245, 12.9089453, 40.28745, 33.5935063, 17.2510682, 13.0101286, 51.373656, 39.76880625, 51.5227809, 31.89376, 12.9624669, 13.0215466, 12.945245, -6.2659285, 12.996845, 13.0358698, 18.1475, 13.0382184, 13.0258087, 12.773175, 12.967576, 12.9732913, 34.977289, 12.2655944, 11.9917786, 27.64392675, 12.9678074, 13.007516, 12.9846713, 13.0221416, 13.0093455, 12.5607431, 12.9176571, 13.2923988, 14.5395813, 12.9243509, 12.9271867, 12.93433385, 12.9343774, 12.9400321, 12.9302645, 12.9417812, 12.9081487, 12.957998, 40.7652844, 17.9895618, 12.945048, 1.2847055, 13.0027353, 12.9552572, 12.3872141, 12.9546741, 13.2227, 13.0346384, 13.0217151, 1.3061622, 13.194416, 13.0329419, 13.0227204, 1.306731, 12.9882338, 12.9274413]\n",
      "[45.95485055, 15.8876779, 13.0141618, 12.887979, 12.9417261, 12.9932739, 12.93577245, 12.9089453, 40.28745, 33.5935063, 17.2510682, 13.0101286, 51.373656, 39.76880625, 51.5227809, 31.89376, 12.9624669, 13.0215466, 12.945245, -6.2659285, 12.996845, 13.0358698, 18.1475, 13.0382184, 13.0258087, 12.773175, 12.967576, 12.9732913, 34.977289, 12.2655944, 11.9917786, 27.64392675, 12.9678074, 13.007516, 12.9846713, 13.0221416, 13.0093455, 12.5607431, 12.9176571, 13.2923988, 14.5395813, 12.9243509, 12.9271867, 12.93433385, 12.9343774, 12.9400321, 12.9302645, 12.9417812, 12.9081487, 12.957998, 40.7652844, 17.9895618, 12.945048, 1.2847055, 13.0027353, 12.9552572, 12.3872141, 12.9546741, 13.2227, 13.0346384, 13.0217151, 1.3061622, 13.194416, 13.0329419, 13.0227204, 1.306731, 12.9882338, 12.9274413, 38.7385916]\n",
      "[45.95485055, 15.8876779, 13.0141618, 12.887979, 12.9417261, 12.9932739, 12.93577245, 12.9089453, 40.28745, 33.5935063, 17.2510682, 13.0101286, 51.373656, 39.76880625, 51.5227809, 31.89376, 12.9624669, 13.0215466, 12.945245, -6.2659285, 12.996845, 13.0358698, 18.1475, 13.0382184, 13.0258087, 12.773175, 12.967576, 12.9732913, 34.977289, 12.2655944, 11.9917786, 27.64392675, 12.9678074, 13.007516, 12.9846713, 13.0221416, 13.0093455, 12.5607431, 12.9176571, 13.2923988, 14.5395813, 12.9243509, 12.9271867, 12.93433385, 12.9343774, 12.9400321, 12.9302645, 12.9417812, 12.9081487, 12.957998, 40.7652844, 17.9895618, 12.945048, 1.2847055, 13.0027353, 12.9552572, 12.3872141, 12.9546741, 13.2227, 13.0346384, 13.0217151, 1.3061622, 13.194416, 13.0329419, 13.0227204, 1.306731, 12.9882338, 12.9274413, 38.7385916, 50.7721586]\n",
      "[45.95485055, 15.8876779, 13.0141618, 12.887979, 12.9417261, 12.9932739, 12.93577245, 12.9089453, 40.28745, 33.5935063, 17.2510682, 13.0101286, 51.373656, 39.76880625, 51.5227809, 31.89376, 12.9624669, 13.0215466, 12.945245, -6.2659285, 12.996845, 13.0358698, 18.1475, 13.0382184, 13.0258087, 12.773175, 12.967576, 12.9732913, 34.977289, 12.2655944, 11.9917786, 27.64392675, 12.9678074, 13.007516, 12.9846713, 13.0221416, 13.0093455, 12.5607431, 12.9176571, 13.2923988, 14.5395813, 12.9243509, 12.9271867, 12.93433385, 12.9343774, 12.9400321, 12.9302645, 12.9417812, 12.9081487, 12.957998, 40.7652844, 17.9895618, 12.945048, 1.2847055, 13.0027353, 12.9552572, 12.3872141, 12.9546741, 13.2227, 13.0346384, 13.0217151, 1.3061622, 13.194416, 13.0329419, 13.0227204, 1.306731, 12.9882338, 12.9274413, 38.7385916, 50.7721586, 15.8782951]\n",
      "[45.95485055, 15.8876779, 13.0141618, 12.887979, 12.9417261, 12.9932739, 12.93577245, 12.9089453, 40.28745, 33.5935063, 17.2510682, 13.0101286, 51.373656, 39.76880625, 51.5227809, 31.89376, 12.9624669, 13.0215466, 12.945245, -6.2659285, 12.996845, 13.0358698, 18.1475, 13.0382184, 13.0258087, 12.773175, 12.967576, 12.9732913, 34.977289, 12.2655944, 11.9917786, 27.64392675, 12.9678074, 13.007516, 12.9846713, 13.0221416, 13.0093455, 12.5607431, 12.9176571, 13.2923988, 14.5395813, 12.9243509, 12.9271867, 12.93433385, 12.9343774, 12.9400321, 12.9302645, 12.9417812, 12.9081487, 12.957998, 40.7652844, 17.9895618, 12.945048, 1.2847055, 13.0027353, 12.9552572, 12.3872141, 12.9546741, 13.2227, 13.0346384, 13.0217151, 1.3061622, 13.194416, 13.0329419, 13.0227204, 1.306731, 12.9882338, 12.9274413, 38.7385916, 50.7721586, 15.8782951, 13.0621474]\n",
      "[45.95485055, 15.8876779, 13.0141618, 12.887979, 12.9417261, 12.9932739, 12.93577245, 12.9089453, 40.28745, 33.5935063, 17.2510682, 13.0101286, 51.373656, 39.76880625, 51.5227809, 31.89376, 12.9624669, 13.0215466, 12.945245, -6.2659285, 12.996845, 13.0358698, 18.1475, 13.0382184, 13.0258087, 12.773175, 12.967576, 12.9732913, 34.977289, 12.2655944, 11.9917786, 27.64392675, 12.9678074, 13.007516, 12.9846713, 13.0221416, 13.0093455, 12.5607431, 12.9176571, 13.2923988, 14.5395813, 12.9243509, 12.9271867, 12.93433385, 12.9343774, 12.9400321, 12.9302645, 12.9417812, 12.9081487, 12.957998, 40.7652844, 17.9895618, 12.945048, 1.2847055, 13.0027353, 12.9552572, 12.3872141, 12.9546741, 13.2227, 13.0346384, 13.0217151, 1.3061622, 13.194416, 13.0329419, 13.0227204, 1.306731, 12.9882338, 12.9274413, 38.7385916, 50.7721586, 15.8782951, 13.0621474, 23.1485712]\n",
      "[45.95485055, 15.8876779, 13.0141618, 12.887979, 12.9417261, 12.9932739, 12.93577245, 12.9089453, 40.28745, 33.5935063, 17.2510682, 13.0101286, 51.373656, 39.76880625, 51.5227809, 31.89376, 12.9624669, 13.0215466, 12.945245, -6.2659285, 12.996845, 13.0358698, 18.1475, 13.0382184, 13.0258087, 12.773175, 12.967576, 12.9732913, 34.977289, 12.2655944, 11.9917786, 27.64392675, 12.9678074, 13.007516, 12.9846713, 13.0221416, 13.0093455, 12.5607431, 12.9176571, 13.2923988, 14.5395813, 12.9243509, 12.9271867, 12.93433385, 12.9343774, 12.9400321, 12.9302645, 12.9417812, 12.9081487, 12.957998, 40.7652844, 17.9895618, 12.945048, 1.2847055, 13.0027353, 12.9552572, 12.3872141, 12.9546741, 13.2227, 13.0346384, 13.0217151, 1.3061622, 13.194416, 13.0329419, 13.0227204, 1.306731, 12.9882338, 12.9274413, 38.7385916, 50.7721586, 15.8782951, 13.0621474, 23.1485712, 38.7801076]\n",
      "[45.95485055, 15.8876779, 13.0141618, 12.887979, 12.9417261, 12.9932739, 12.93577245, 12.9089453, 40.28745, 33.5935063, 17.2510682, 13.0101286, 51.373656, 39.76880625, 51.5227809, 31.89376, 12.9624669, 13.0215466, 12.945245, -6.2659285, 12.996845, 13.0358698, 18.1475, 13.0382184, 13.0258087, 12.773175, 12.967576, 12.9732913, 34.977289, 12.2655944, 11.9917786, 27.64392675, 12.9678074, 13.007516, 12.9846713, 13.0221416, 13.0093455, 12.5607431, 12.9176571, 13.2923988, 14.5395813, 12.9243509, 12.9271867, 12.93433385, 12.9343774, 12.9400321, 12.9302645, 12.9417812, 12.9081487, 12.957998, 40.7652844, 17.9895618, 12.945048, 1.2847055, 13.0027353, 12.9552572, 12.3872141, 12.9546741, 13.2227, 13.0346384, 13.0217151, 1.3061622, 13.194416, 13.0329419, 13.0227204, 1.306731, 12.9882338, 12.9274413, 38.7385916, 50.7721586, 15.8782951, 13.0621474, 23.1485712, 38.7801076, 12.9242381]\n",
      "[45.95485055, 15.8876779, 13.0141618, 12.887979, 12.9417261, 12.9932739, 12.93577245, 12.9089453, 40.28745, 33.5935063, 17.2510682, 13.0101286, 51.373656, 39.76880625, 51.5227809, 31.89376, 12.9624669, 13.0215466, 12.945245, -6.2659285, 12.996845, 13.0358698, 18.1475, 13.0382184, 13.0258087, 12.773175, 12.967576, 12.9732913, 34.977289, 12.2655944, 11.9917786, 27.64392675, 12.9678074, 13.007516, 12.9846713, 13.0221416, 13.0093455, 12.5607431, 12.9176571, 13.2923988, 14.5395813, 12.9243509, 12.9271867, 12.93433385, 12.9343774, 12.9400321, 12.9302645, 12.9417812, 12.9081487, 12.957998, 40.7652844, 17.9895618, 12.945048, 1.2847055, 13.0027353, 12.9552572, 12.3872141, 12.9546741, 13.2227, 13.0346384, 13.0217151, 1.3061622, 13.194416, 13.0329419, 13.0227204, 1.306731, 12.9882338, 12.9274413, 38.7385916, 50.7721586, 15.8782951, 13.0621474, 23.1485712, 38.7801076, 12.9242381, 12.9931876]\n",
      "[45.95485055, 15.8876779, 13.0141618, 12.887979, 12.9417261, 12.9932739, 12.93577245, 12.9089453, 40.28745, 33.5935063, 17.2510682, 13.0101286, 51.373656, 39.76880625, 51.5227809, 31.89376, 12.9624669, 13.0215466, 12.945245, -6.2659285, 12.996845, 13.0358698, 18.1475, 13.0382184, 13.0258087, 12.773175, 12.967576, 12.9732913, 34.977289, 12.2655944, 11.9917786, 27.64392675, 12.9678074, 13.007516, 12.9846713, 13.0221416, 13.0093455, 12.5607431, 12.9176571, 13.2923988, 14.5395813, 12.9243509, 12.9271867, 12.93433385, 12.9343774, 12.9400321, 12.9302645, 12.9417812, 12.9081487, 12.957998, 40.7652844, 17.9895618, 12.945048, 1.2847055, 13.0027353, 12.9552572, 12.3872141, 12.9546741, 13.2227, 13.0346384, 13.0217151, 1.3061622, 13.194416, 13.0329419, 13.0227204, 1.306731, 12.9882338, 12.9274413, 38.7385916, 50.7721586, 15.8782951, 13.0621474, 23.1485712, 38.7801076, 12.9242381, 12.9931876, 12.9575547]\n",
      "[45.95485055, 15.8876779, 13.0141618, 12.887979, 12.9417261, 12.9932739, 12.93577245, 12.9089453, 40.28745, 33.5935063, 17.2510682, 13.0101286, 51.373656, 39.76880625, 51.5227809, 31.89376, 12.9624669, 13.0215466, 12.945245, -6.2659285, 12.996845, 13.0358698, 18.1475, 13.0382184, 13.0258087, 12.773175, 12.967576, 12.9732913, 34.977289, 12.2655944, 11.9917786, 27.64392675, 12.9678074, 13.007516, 12.9846713, 13.0221416, 13.0093455, 12.5607431, 12.9176571, 13.2923988, 14.5395813, 12.9243509, 12.9271867, 12.93433385, 12.9343774, 12.9400321, 12.9302645, 12.9417812, 12.9081487, 12.957998, 40.7652844, 17.9895618, 12.945048, 1.2847055, 13.0027353, 12.9552572, 12.3872141, 12.9546741, 13.2227, 13.0346384, 13.0217151, 1.3061622, 13.194416, 13.0329419, 13.0227204, 1.306731, 12.9882338, 12.9274413, 38.7385916, 50.7721586, 15.8782951, 13.0621474, 23.1485712, 38.7801076, 12.9242381, 12.9931876, 12.9575547, 18.5322493]\n",
      "[45.95485055, 15.8876779, 13.0141618, 12.887979, 12.9417261, 12.9932739, 12.93577245, 12.9089453, 40.28745, 33.5935063, 17.2510682, 13.0101286, 51.373656, 39.76880625, 51.5227809, 31.89376, 12.9624669, 13.0215466, 12.945245, -6.2659285, 12.996845, 13.0358698, 18.1475, 13.0382184, 13.0258087, 12.773175, 12.967576, 12.9732913, 34.977289, 12.2655944, 11.9917786, 27.64392675, 12.9678074, 13.007516, 12.9846713, 13.0221416, 13.0093455, 12.5607431, 12.9176571, 13.2923988, 14.5395813, 12.9243509, 12.9271867, 12.93433385, 12.9343774, 12.9400321, 12.9302645, 12.9417812, 12.9081487, 12.957998, 40.7652844, 17.9895618, 12.945048, 1.2847055, 13.0027353, 12.9552572, 12.3872141, 12.9546741, 13.2227, 13.0346384, 13.0217151, 1.3061622, 13.194416, 13.0329419, 13.0227204, 1.306731, 12.9882338, 12.9274413, 38.7385916, 50.7721586, 15.8782951, 13.0621474, 23.1485712, 38.7801076, 12.9242381, 12.9931876, 12.9575547, 18.5322493, 13.0646907]\n",
      "[45.95485055, 15.8876779, 13.0141618, 12.887979, 12.9417261, 12.9932739, 12.93577245, 12.9089453, 40.28745, 33.5935063, 17.2510682, 13.0101286, 51.373656, 39.76880625, 51.5227809, 31.89376, 12.9624669, 13.0215466, 12.945245, -6.2659285, 12.996845, 13.0358698, 18.1475, 13.0382184, 13.0258087, 12.773175, 12.967576, 12.9732913, 34.977289, 12.2655944, 11.9917786, 27.64392675, 12.9678074, 13.007516, 12.9846713, 13.0221416, 13.0093455, 12.5607431, 12.9176571, 13.2923988, 14.5395813, 12.9243509, 12.9271867, 12.93433385, 12.9343774, 12.9400321, 12.9302645, 12.9417812, 12.9081487, 12.957998, 40.7652844, 17.9895618, 12.945048, 1.2847055, 13.0027353, 12.9552572, 12.3872141, 12.9546741, 13.2227, 13.0346384, 13.0217151, 1.3061622, 13.194416, 13.0329419, 13.0227204, 1.306731, 12.9882338, 12.9274413, 38.7385916, 50.7721586, 15.8782951, 13.0621474, 23.1485712, 38.7801076, 12.9242381, 12.9931876, 12.9575547, 18.5322493, 13.0646907, 51.5227651]\n",
      "[45.95485055, 15.8876779, 13.0141618, 12.887979, 12.9417261, 12.9932739, 12.93577245, 12.9089453, 40.28745, 33.5935063, 17.2510682, 13.0101286, 51.373656, 39.76880625, 51.5227809, 31.89376, 12.9624669, 13.0215466, 12.945245, -6.2659285, 12.996845, 13.0358698, 18.1475, 13.0382184, 13.0258087, 12.773175, 12.967576, 12.9732913, 34.977289, 12.2655944, 11.9917786, 27.64392675, 12.9678074, 13.007516, 12.9846713, 13.0221416, 13.0093455, 12.5607431, 12.9176571, 13.2923988, 14.5395813, 12.9243509, 12.9271867, 12.93433385, 12.9343774, 12.9400321, 12.9302645, 12.9417812, 12.9081487, 12.957998, 40.7652844, 17.9895618, 12.945048, 1.2847055, 13.0027353, 12.9552572, 12.3872141, 12.9546741, 13.2227, 13.0346384, 13.0217151, 1.3061622, 13.194416, 13.0329419, 13.0227204, 1.306731, 12.9882338, 12.9274413, 38.7385916, 50.7721586, 15.8782951, 13.0621474, 23.1485712, 38.7801076, 12.9242381, 12.9931876, 12.9575547, 18.5322493, 13.0646907, 51.5227651, 12.973936]\n",
      "[45.95485055, 15.8876779, 13.0141618, 12.887979, 12.9417261, 12.9932739, 12.93577245, 12.9089453, 40.28745, 33.5935063, 17.2510682, 13.0101286, 51.373656, 39.76880625, 51.5227809, 31.89376, 12.9624669, 13.0215466, 12.945245, -6.2659285, 12.996845, 13.0358698, 18.1475, 13.0382184, 13.0258087, 12.773175, 12.967576, 12.9732913, 34.977289, 12.2655944, 11.9917786, 27.64392675, 12.9678074, 13.007516, 12.9846713, 13.0221416, 13.0093455, 12.5607431, 12.9176571, 13.2923988, 14.5395813, 12.9243509, 12.9271867, 12.93433385, 12.9343774, 12.9400321, 12.9302645, 12.9417812, 12.9081487, 12.957998, 40.7652844, 17.9895618, 12.945048, 1.2847055, 13.0027353, 12.9552572, 12.3872141, 12.9546741, 13.2227, 13.0346384, 13.0217151, 1.3061622, 13.194416, 13.0329419, 13.0227204, 1.306731, 12.9882338, 12.9274413, 38.7385916, 50.7721586, 15.8782951, 13.0621474, 23.1485712, 38.7801076, 12.9242381, 12.9931876, 12.9575547, 18.5322493, 13.0646907, 51.5227651, 12.973936, 12.9778793]\n",
      "[45.95485055, 15.8876779, 13.0141618, 12.887979, 12.9417261, 12.9932739, 12.93577245, 12.9089453, 40.28745, 33.5935063, 17.2510682, 13.0101286, 51.373656, 39.76880625, 51.5227809, 31.89376, 12.9624669, 13.0215466, 12.945245, -6.2659285, 12.996845, 13.0358698, 18.1475, 13.0382184, 13.0258087, 12.773175, 12.967576, 12.9732913, 34.977289, 12.2655944, 11.9917786, 27.64392675, 12.9678074, 13.007516, 12.9846713, 13.0221416, 13.0093455, 12.5607431, 12.9176571, 13.2923988, 14.5395813, 12.9243509, 12.9271867, 12.93433385, 12.9343774, 12.9400321, 12.9302645, 12.9417812, 12.9081487, 12.957998, 40.7652844, 17.9895618, 12.945048, 1.2847055, 13.0027353, 12.9552572, 12.3872141, 12.9546741, 13.2227, 13.0346384, 13.0217151, 1.3061622, 13.194416, 13.0329419, 13.0227204, 1.306731, 12.9882338, 12.9274413, 38.7385916, 50.7721586, 15.8782951, 13.0621474, 23.1485712, 38.7801076, 12.9242381, 12.9931876, 12.9575547, 18.5322493, 13.0646907, 51.5227651, 12.973936, 12.9778793, 12.9055682]\n",
      "[45.95485055, 15.8876779, 13.0141618, 12.887979, 12.9417261, 12.9932739, 12.93577245, 12.9089453, 40.28745, 33.5935063, 17.2510682, 13.0101286, 51.373656, 39.76880625, 51.5227809, 31.89376, 12.9624669, 13.0215466, 12.945245, -6.2659285, 12.996845, 13.0358698, 18.1475, 13.0382184, 13.0258087, 12.773175, 12.967576, 12.9732913, 34.977289, 12.2655944, 11.9917786, 27.64392675, 12.9678074, 13.007516, 12.9846713, 13.0221416, 13.0093455, 12.5607431, 12.9176571, 13.2923988, 14.5395813, 12.9243509, 12.9271867, 12.93433385, 12.9343774, 12.9400321, 12.9302645, 12.9417812, 12.9081487, 12.957998, 40.7652844, 17.9895618, 12.945048, 1.2847055, 13.0027353, 12.9552572, 12.3872141, 12.9546741, 13.2227, 13.0346384, 13.0217151, 1.3061622, 13.194416, 13.0329419, 13.0227204, 1.306731, 12.9882338, 12.9274413, 38.7385916, 50.7721586, 15.8782951, 13.0621474, 23.1485712, 38.7801076, 12.9242381, 12.9931876, 12.9575547, 18.5322493, 13.0646907, 51.5227651, 12.973936, 12.9778793, 12.9055682, 12.9414662]\n",
      "[45.95485055, 15.8876779, 13.0141618, 12.887979, 12.9417261, 12.9932739, 12.93577245, 12.9089453, 40.28745, 33.5935063, 17.2510682, 13.0101286, 51.373656, 39.76880625, 51.5227809, 31.89376, 12.9624669, 13.0215466, 12.945245, -6.2659285, 12.996845, 13.0358698, 18.1475, 13.0382184, 13.0258087, 12.773175, 12.967576, 12.9732913, 34.977289, 12.2655944, 11.9917786, 27.64392675, 12.9678074, 13.007516, 12.9846713, 13.0221416, 13.0093455, 12.5607431, 12.9176571, 13.2923988, 14.5395813, 12.9243509, 12.9271867, 12.93433385, 12.9343774, 12.9400321, 12.9302645, 12.9417812, 12.9081487, 12.957998, 40.7652844, 17.9895618, 12.945048, 1.2847055, 13.0027353, 12.9552572, 12.3872141, 12.9546741, 13.2227, 13.0346384, 13.0217151, 1.3061622, 13.194416, 13.0329419, 13.0227204, 1.306731, 12.9882338, 12.9274413, 38.7385916, 50.7721586, 15.8782951, 13.0621474, 23.1485712, 38.7801076, 12.9242381, 12.9931876, 12.9575547, 18.5322493, 13.0646907, 51.5227651, 12.973936, 12.9778793, 12.9055682, 12.9414662, 12.988721250000001]\n",
      "[45.95485055, 15.8876779, 13.0141618, 12.887979, 12.9417261, 12.9932739, 12.93577245, 12.9089453, 40.28745, 33.5935063, 17.2510682, 13.0101286, 51.373656, 39.76880625, 51.5227809, 31.89376, 12.9624669, 13.0215466, 12.945245, -6.2659285, 12.996845, 13.0358698, 18.1475, 13.0382184, 13.0258087, 12.773175, 12.967576, 12.9732913, 34.977289, 12.2655944, 11.9917786, 27.64392675, 12.9678074, 13.007516, 12.9846713, 13.0221416, 13.0093455, 12.5607431, 12.9176571, 13.2923988, 14.5395813, 12.9243509, 12.9271867, 12.93433385, 12.9343774, 12.9400321, 12.9302645, 12.9417812, 12.9081487, 12.957998, 40.7652844, 17.9895618, 12.945048, 1.2847055, 13.0027353, 12.9552572, 12.3872141, 12.9546741, 13.2227, 13.0346384, 13.0217151, 1.3061622, 13.194416, 13.0329419, 13.0227204, 1.306731, 12.9882338, 12.9274413, 38.7385916, 50.7721586, 15.8782951, 13.0621474, 23.1485712, 38.7801076, 12.9242381, 12.9931876, 12.9575547, 18.5322493, 13.0646907, 51.5227651, 12.973936, 12.9778793, 12.9055682, 12.9414662, 12.988721250000001, 22.8359967]\n",
      "[45.95485055, 15.8876779, 13.0141618, 12.887979, 12.9417261, 12.9932739, 12.93577245, 12.9089453, 40.28745, 33.5935063, 17.2510682, 13.0101286, 51.373656, 39.76880625, 51.5227809, 31.89376, 12.9624669, 13.0215466, 12.945245, -6.2659285, 12.996845, 13.0358698, 18.1475, 13.0382184, 13.0258087, 12.773175, 12.967576, 12.9732913, 34.977289, 12.2655944, 11.9917786, 27.64392675, 12.9678074, 13.007516, 12.9846713, 13.0221416, 13.0093455, 12.5607431, 12.9176571, 13.2923988, 14.5395813, 12.9243509, 12.9271867, 12.93433385, 12.9343774, 12.9400321, 12.9302645, 12.9417812, 12.9081487, 12.957998, 40.7652844, 17.9895618, 12.945048, 1.2847055, 13.0027353, 12.9552572, 12.3872141, 12.9546741, 13.2227, 13.0346384, 13.0217151, 1.3061622, 13.194416, 13.0329419, 13.0227204, 1.306731, 12.9882338, 12.9274413, 38.7385916, 50.7721586, 15.8782951, 13.0621474, 23.1485712, 38.7801076, 12.9242381, 12.9931876, 12.9575547, 18.5322493, 13.0646907, 51.5227651, 12.973936, 12.9778793, 12.9055682, 12.9414662, 12.988721250000001, 22.8359967, 13.0011289]\n",
      "[45.95485055, 15.8876779, 13.0141618, 12.887979, 12.9417261, 12.9932739, 12.93577245, 12.9089453, 40.28745, 33.5935063, 17.2510682, 13.0101286, 51.373656, 39.76880625, 51.5227809, 31.89376, 12.9624669, 13.0215466, 12.945245, -6.2659285, 12.996845, 13.0358698, 18.1475, 13.0382184, 13.0258087, 12.773175, 12.967576, 12.9732913, 34.977289, 12.2655944, 11.9917786, 27.64392675, 12.9678074, 13.007516, 12.9846713, 13.0221416, 13.0093455, 12.5607431, 12.9176571, 13.2923988, 14.5395813, 12.9243509, 12.9271867, 12.93433385, 12.9343774, 12.9400321, 12.9302645, 12.9417812, 12.9081487, 12.957998, 40.7652844, 17.9895618, 12.945048, 1.2847055, 13.0027353, 12.9552572, 12.3872141, 12.9546741, 13.2227, 13.0346384, 13.0217151, 1.3061622, 13.194416, 13.0329419, 13.0227204, 1.306731, 12.9882338, 12.9274413, 38.7385916, 50.7721586, 15.8782951, 13.0621474, 23.1485712, 38.7801076, 12.9242381, 12.9931876, 12.9575547, 18.5322493, 13.0646907, 51.5227651, 12.973936, 12.9778793, 12.9055682, 12.9414662, 12.988721250000001, 22.8359967, 13.0011289, 44.3730577]\n",
      "[45.95485055, 15.8876779, 13.0141618, 12.887979, 12.9417261, 12.9932739, 12.93577245, 12.9089453, 40.28745, 33.5935063, 17.2510682, 13.0101286, 51.373656, 39.76880625, 51.5227809, 31.89376, 12.9624669, 13.0215466, 12.945245, -6.2659285, 12.996845, 13.0358698, 18.1475, 13.0382184, 13.0258087, 12.773175, 12.967576, 12.9732913, 34.977289, 12.2655944, 11.9917786, 27.64392675, 12.9678074, 13.007516, 12.9846713, 13.0221416, 13.0093455, 12.5607431, 12.9176571, 13.2923988, 14.5395813, 12.9243509, 12.9271867, 12.93433385, 12.9343774, 12.9400321, 12.9302645, 12.9417812, 12.9081487, 12.957998, 40.7652844, 17.9895618, 12.945048, 1.2847055, 13.0027353, 12.9552572, 12.3872141, 12.9546741, 13.2227, 13.0346384, 13.0217151, 1.3061622, 13.194416, 13.0329419, 13.0227204, 1.306731, 12.9882338, 12.9274413, 38.7385916, 50.7721586, 15.8782951, 13.0621474, 23.1485712, 38.7801076, 12.9242381, 12.9931876, 12.9575547, 18.5322493, 13.0646907, 51.5227651, 12.973936, 12.9778793, 12.9055682, 12.9414662, 12.988721250000001, 22.8359967, 13.0011289, 44.3730577, 12.9489339]\n",
      "[45.95485055, 15.8876779, 13.0141618, 12.887979, 12.9417261, 12.9932739, 12.93577245, 12.9089453, 40.28745, 33.5935063, 17.2510682, 13.0101286, 51.373656, 39.76880625, 51.5227809, 31.89376, 12.9624669, 13.0215466, 12.945245, -6.2659285, 12.996845, 13.0358698, 18.1475, 13.0382184, 13.0258087, 12.773175, 12.967576, 12.9732913, 34.977289, 12.2655944, 11.9917786, 27.64392675, 12.9678074, 13.007516, 12.9846713, 13.0221416, 13.0093455, 12.5607431, 12.9176571, 13.2923988, 14.5395813, 12.9243509, 12.9271867, 12.93433385, 12.9343774, 12.9400321, 12.9302645, 12.9417812, 12.9081487, 12.957998, 40.7652844, 17.9895618, 12.945048, 1.2847055, 13.0027353, 12.9552572, 12.3872141, 12.9546741, 13.2227, 13.0346384, 13.0217151, 1.3061622, 13.194416, 13.0329419, 13.0227204, 1.306731, 12.9882338, 12.9274413, 38.7385916, 50.7721586, 15.8782951, 13.0621474, 23.1485712, 38.7801076, 12.9242381, 12.9931876, 12.9575547, 18.5322493, 13.0646907, 51.5227651, 12.973936, 12.9778793, 12.9055682, 12.9414662, 12.988721250000001, 22.8359967, 13.0011289, 44.3730577, 12.9489339, 13.1006982]\n",
      "[45.95485055, 15.8876779, 13.0141618, 12.887979, 12.9417261, 12.9932739, 12.93577245, 12.9089453, 40.28745, 33.5935063, 17.2510682, 13.0101286, 51.373656, 39.76880625, 51.5227809, 31.89376, 12.9624669, 13.0215466, 12.945245, -6.2659285, 12.996845, 13.0358698, 18.1475, 13.0382184, 13.0258087, 12.773175, 12.967576, 12.9732913, 34.977289, 12.2655944, 11.9917786, 27.64392675, 12.9678074, 13.007516, 12.9846713, 13.0221416, 13.0093455, 12.5607431, 12.9176571, 13.2923988, 14.5395813, 12.9243509, 12.9271867, 12.93433385, 12.9343774, 12.9400321, 12.9302645, 12.9417812, 12.9081487, 12.957998, 40.7652844, 17.9895618, 12.945048, 1.2847055, 13.0027353, 12.9552572, 12.3872141, 12.9546741, 13.2227, 13.0346384, 13.0217151, 1.3061622, 13.194416, 13.0329419, 13.0227204, 1.306731, 12.9882338, 12.9274413, 38.7385916, 50.7721586, 15.8782951, 13.0621474, 23.1485712, 38.7801076, 12.9242381, 12.9931876, 12.9575547, 18.5322493, 13.0646907, 51.5227651, 12.973936, 12.9778793, 12.9055682, 12.9414662, 12.988721250000001, 22.8359967, 13.0011289, 44.3730577, 12.9489339, 13.1006982, 13.02383]\n"
     ]
    }
   ],
   "source": [
    "lat=[]\n",
    "for i in data_3['geo_loc']:\n",
    "    lat.append(i[0])\n",
    "    print(lat)"
   ]
  },
  {
   "cell_type": "code",
   "execution_count": 93,
   "metadata": {},
   "outputs": [
    {
     "data": {
      "text/plain": [
       "91"
      ]
     },
     "execution_count": 93,
     "metadata": {},
     "output_type": "execute_result"
    }
   ],
   "source": [
    "len(lat)"
   ]
  },
  {
   "cell_type": "code",
   "execution_count": 96,
   "metadata": {},
   "outputs": [
    {
     "data": {
      "text/plain": [
       "[45.95485055,\n",
       " 15.8876779,\n",
       " 13.0141618,\n",
       " 12.887979,\n",
       " 12.9417261,\n",
       " 12.9932739,\n",
       " 12.93577245,\n",
       " 12.9089453,\n",
       " 40.28745,\n",
       " 33.5935063,\n",
       " 17.2510682,\n",
       " 13.0101286,\n",
       " 51.373656,\n",
       " 39.76880625,\n",
       " 51.5227809,\n",
       " 31.89376,\n",
       " 12.9624669,\n",
       " 13.0215466,\n",
       " 12.945245,\n",
       " -6.2659285,\n",
       " 12.996845,\n",
       " 13.0358698,\n",
       " 18.1475,\n",
       " 13.0382184,\n",
       " 13.0258087,\n",
       " 12.773175,\n",
       " 12.967576,\n",
       " 12.9732913,\n",
       " 34.977289,\n",
       " 12.2655944,\n",
       " 11.9917786,\n",
       " 27.64392675,\n",
       " 12.9678074,\n",
       " 13.007516,\n",
       " 12.9846713,\n",
       " 13.0221416,\n",
       " 13.0093455,\n",
       " 12.5607431,\n",
       " 12.9176571,\n",
       " 13.2923988,\n",
       " 14.5395813,\n",
       " 12.9243509,\n",
       " 12.9271867,\n",
       " 12.93433385,\n",
       " 12.9343774,\n",
       " 12.9400321,\n",
       " 12.9302645,\n",
       " 12.9417812,\n",
       " 12.9081487,\n",
       " 12.957998,\n",
       " 40.7652844,\n",
       " 17.9895618,\n",
       " 12.945048,\n",
       " 1.2847055,\n",
       " 13.0027353,\n",
       " 12.9552572,\n",
       " 12.3872141,\n",
       " 12.9546741,\n",
       " 13.2227,\n",
       " 13.0346384,\n",
       " 13.0217151,\n",
       " 1.3061622,\n",
       " 13.194416,\n",
       " 13.0329419,\n",
       " 13.0227204,\n",
       " 1.306731,\n",
       " 12.9882338,\n",
       " 12.9274413,\n",
       " 38.7385916,\n",
       " 50.7721586,\n",
       " 15.8782951,\n",
       " 13.0621474,\n",
       " 23.1485712,\n",
       " 38.7801076,\n",
       " 12.9242381,\n",
       " 12.9931876,\n",
       " 12.9575547,\n",
       " 18.5322493,\n",
       " 13.0646907,\n",
       " 51.5227651,\n",
       " 12.973936,\n",
       " 12.9778793,\n",
       " 12.9055682,\n",
       " 12.9414662,\n",
       " 12.988721250000001,\n",
       " 22.8359967,\n",
       " 13.0011289,\n",
       " 44.3730577,\n",
       " 12.9489339,\n",
       " 13.1006982,\n",
       " 13.02383]"
      ]
     },
     "execution_count": 96,
     "metadata": {},
     "output_type": "execute_result"
    }
   ],
   "source": [
    "lat"
   ]
  },
  {
   "cell_type": "code",
   "execution_count": 98,
   "metadata": {},
   "outputs": [],
   "source": [
    "data_3['lat']=lat"
   ]
  },
  {
   "cell_type": "code",
   "execution_count": 99,
   "metadata": {},
   "outputs": [
    {
     "name": "stdout",
     "output_type": "stream",
     "text": [
      "[-112.49659530324134]\n",
      "[-112.49659530324134, 75.7046777]\n",
      "[-112.49659530324134, 75.7046777, 77.6518539]\n",
      "[-112.49659530324134, 75.7046777, 77.6518539, 77.5970812]\n",
      "[-112.49659530324134, 75.7046777, 77.6518539, 77.5970812, 77.5755021]\n",
      "[-112.49659530324134, 75.7046777, 77.6518539, 77.5970812, 77.5755021, 77.5388099]\n",
      "[-112.49659530324134, 75.7046777, 77.6518539, 77.5970812, 77.5755021, 77.5388099, 77.66676103753434]\n",
      "[-112.49659530324134, 75.7046777, 77.6518539, 77.5970812, 77.5755021, 77.5388099, 77.66676103753434, 77.6239038]\n",
      "[-112.49659530324134, 75.7046777, 77.6518539, 77.5970812, 77.5755021, 77.5388099, 77.66676103753434, 77.6239038, -76.964526]\n",
      "[-112.49659530324134, 75.7046777, 77.6518539, 77.5970812, 77.5755021, 77.5388099, 77.66676103753434, 77.6239038, -76.964526, -79.0345627]\n",
      "[-112.49659530324134, 75.7046777, 77.6518539, 77.5970812, 77.5755021, 77.5388099, 77.66676103753434, 77.6239038, -76.964526, -79.0345627, 80.1651978]\n",
      "[-112.49659530324134, 75.7046777, 77.6518539, 77.5970812, 77.5755021, 77.5388099, 77.66676103753434, 77.6239038, -76.964526, -79.0345627, 80.1651978, 77.5548006]\n",
      "[-112.49659530324134, 75.7046777, 77.6518539, 77.5970812, 77.5755021, 77.5388099, 77.66676103753434, 77.6239038, -76.964526, -79.0345627, 80.1651978, 77.5548006, -0.1042366]\n",
      "[-112.49659530324134, 75.7046777, 77.6518539, 77.5970812, 77.5755021, 77.5388099, 77.66676103753434, 77.6239038, -76.964526, -79.0345627, 80.1651978, 77.5548006, -0.1042366, -86.15345077251979]\n",
      "[-112.49659530324134, 75.7046777, 77.6518539, 77.5970812, 77.5755021, 77.5388099, 77.66676103753434, 77.6239038, -76.964526, -79.0345627, 80.1651978, 77.5548006, -0.1042366, -86.15345077251979, -0.0775138]\n",
      "[-112.49659530324134, 75.7046777, 77.6518539, 77.5970812, 77.5755021, 77.5388099, 77.66676103753434, 77.6239038, -76.964526, -79.0345627, 80.1651978, 77.5548006, -0.1042366, -86.15345077251979, -0.0775138, -88.066644]\n",
      "[-112.49659530324134, 75.7046777, 77.6518539, 77.5970812, 77.5755021, 77.5388099, 77.66676103753434, 77.6239038, -76.964526, -79.0345627, 80.1651978, 77.5548006, -0.1042366, -86.15345077251979, -0.0775138, -88.066644, 77.6381958]\n",
      "[-112.49659530324134, 75.7046777, 77.6518539, 77.5970812, 77.5755021, 77.5388099, 77.66676103753434, 77.6239038, -76.964526, -79.0345627, 80.1651978, 77.5548006, -0.1042366, -86.15345077251979, -0.0775138, -88.066644, 77.6381958, 77.7640586]\n",
      "[-112.49659530324134, 75.7046777, 77.6518539, 77.5970812, 77.5755021, 77.5388099, 77.66676103753434, 77.6239038, -76.964526, -79.0345627, 80.1651978, 77.5548006, -0.1042366, -86.15345077251979, -0.0775138, -88.066644, 77.6381958, 77.7640586, 77.6269144]\n",
      "[-112.49659530324134, 75.7046777, 77.6518539, 77.5970812, 77.5755021, 77.5388099, 77.66676103753434, 77.6239038, -76.964526, -79.0345627, 80.1651978, 77.5548006, -0.1042366, -86.15345077251979, -0.0775138, -88.066644, 77.6381958, 77.7640586, 77.6269144, 106.7842561]\n",
      "[-112.49659530324134, 75.7046777, 77.6518539, 77.5970812, 77.5755021, 77.5388099, 77.66676103753434, 77.6239038, -76.964526, -79.0345627, 80.1651978, 77.5548006, -0.1042366, -86.15345077251979, -0.0775138, -88.066644, 77.6381958, 77.7640586, 77.6269144, 106.7842561, 77.6130165]\n",
      "[-112.49659530324134, 75.7046777, 77.6518539, 77.5970812, 77.5755021, 77.5388099, 77.66676103753434, 77.6239038, -76.964526, -79.0345627, 80.1651978, 77.5548006, -0.1042366, -86.15345077251979, -0.0775138, -88.066644, 77.6381958, 77.7640586, 77.6269144, 106.7842561, 77.6130165, 77.6323597]\n",
      "[-112.49659530324134, 75.7046777, 77.6518539, 77.5970812, 77.5755021, 77.5388099, 77.66676103753434, 77.6239038, -76.964526, -79.0345627, 80.1651978, 77.5548006, -0.1042366, -86.15345077251979, -0.0775138, -88.066644, 77.6381958, 77.7640586, 77.6269144, 106.7842561, 77.6130165, 77.6323597, 41.538889]\n",
      "[-112.49659530324134, 75.7046777, 77.6518539, 77.5970812, 77.5755021, 77.5388099, 77.66676103753434, 77.6239038, -76.964526, -79.0345627, 80.1651978, 77.5548006, -0.1042366, -86.15345077251979, -0.0775138, -88.066644, 77.6381958, 77.7640586, 77.6269144, 106.7842561, 77.6130165, 77.6323597, 41.538889, 77.5919]\n",
      "[-112.49659530324134, 75.7046777, 77.6518539, 77.5970812, 77.5755021, 77.5388099, 77.66676103753434, 77.6239038, -76.964526, -79.0345627, 80.1651978, 77.5548006, -0.1042366, -86.15345077251979, -0.0775138, -88.066644, 77.6381958, 77.7640586, 77.6269144, 106.7842561, 77.6130165, 77.6323597, 41.538889, 77.5919, 77.6305067]\n",
      "[-112.49659530324134, 75.7046777, 77.6518539, 77.5970812, 77.5755021, 77.5388099, 77.66676103753434, 77.6239038, -76.964526, -79.0345627, 80.1651978, 77.5548006, -0.1042366, -86.15345077251979, -0.0775138, -88.066644, 77.6381958, 77.7640586, 77.6269144, 106.7842561, 77.6130165, 77.6323597, 41.538889, 77.5919, 77.6305067, 77.7831871]\n",
      "[-112.49659530324134, 75.7046777, 77.6518539, 77.5970812, 77.5755021, 77.5388099, 77.66676103753434, 77.6239038, -76.964526, -79.0345627, 80.1651978, 77.5548006, -0.1042366, -86.15345077251979, -0.0775138, -88.066644, 77.6381958, 77.7640586, 77.6269144, 106.7842561, 77.6130165, 77.6323597, 41.538889, 77.5919, 77.6305067, 77.7831871, 77.7150877]\n",
      "[-112.49659530324134, 75.7046777, 77.6518539, 77.5970812, 77.5755021, 77.5388099, 77.66676103753434, 77.6239038, -76.964526, -79.0345627, 80.1651978, 77.5548006, -0.1042366, -86.15345077251979, -0.0775138, -88.066644, 77.6381958, 77.7640586, 77.6269144, 106.7842561, 77.6130165, 77.6323597, 41.538889, 77.5919, 77.6305067, 77.7831871, 77.7150877, 77.6404672]\n",
      "[-112.49659530324134, 75.7046777, 77.6518539, 77.5970812, 77.5755021, 77.5388099, 77.66676103753434, 77.6239038, -76.964526, -79.0345627, 80.1651978, 77.5548006, -0.1042366, -86.15345077251979, -0.0775138, -88.066644, 77.6381958, 77.7640586, 77.6269144, 106.7842561, 77.6130165, 77.6323597, 41.538889, 77.5919, 77.6305067, 77.7831871, 77.7150877, 77.6404672, -78.974578]\n",
      "[-112.49659530324134, 75.7046777, 77.6518539, 77.5970812, 77.5755021, 77.5388099, 77.66676103753434, 77.6239038, -76.964526, -79.0345627, 80.1651978, 77.5548006, -0.1042366, -86.15345077251979, -0.0775138, -88.066644, 77.6381958, 77.7640586, 77.6269144, 106.7842561, 77.6130165, 77.6323597, 41.538889, 77.5919, 77.6305067, 77.7831871, 77.7150877, 77.6404672, -78.974578, 76.6465404]\n",
      "[-112.49659530324134, 75.7046777, 77.6518539, 77.5970812, 77.5755021, 77.5388099, 77.66676103753434, 77.6239038, -76.964526, -79.0345627, 80.1651978, 77.5548006, -0.1042366, -86.15345077251979, -0.0775138, -88.066644, 77.6381958, 77.7640586, 77.6269144, 106.7842561, 77.6130165, 77.6323597, 41.538889, 77.5919, 77.6305067, 77.7831871, 77.7150877, 77.6404672, -78.974578, 76.6465404, 76.5066292]\n",
      "[-112.49659530324134, 75.7046777, 77.6518539, 77.5970812, 77.5755021, 77.5388099, 77.66676103753434, 77.6239038, -76.964526, -79.0345627, 80.1651978, 77.5548006, -0.1042366, -86.15345077251979, -0.0775138, -88.066644, 77.6381958, 77.7640586, 77.6269144, 106.7842561, 77.6130165, 77.6323597, 41.538889, 77.5919, 77.6305067, 77.7831871, 77.7150877, 77.6404672, -78.974578, 76.6465404, 76.5066292, 83.05280519687284]\n",
      "[-112.49659530324134, 75.7046777, 77.6518539, 77.5970812, 77.5755021, 77.5388099, 77.66676103753434, 77.6239038, -76.964526, -79.0345627, 80.1651978, 77.5548006, -0.1042366, -86.15345077251979, -0.0775138, -88.066644, 77.6381958, 77.7640586, 77.6269144, 106.7842561, 77.6130165, 77.6323597, 41.538889, 77.5919, 77.6305067, 77.7831871, 77.7150877, 77.6404672, -78.974578, 76.6465404, 76.5066292, 83.05280519687284, 77.6568367]\n",
      "[-112.49659530324134, 75.7046777, 77.6518539, 77.5970812, 77.5755021, 77.5388099, 77.66676103753434, 77.6239038, -76.964526, -79.0345627, 80.1651978, 77.5548006, -0.1042366, -86.15345077251979, -0.0775138, -88.066644, 77.6381958, 77.7640586, 77.6269144, 106.7842561, 77.6130165, 77.6323597, 41.538889, 77.5919, 77.6305067, 77.7831871, 77.7150877, 77.6404672, -78.974578, 76.6465404, 76.5066292, 83.05280519687284, 77.6568367, 77.695935]\n",
      "[-112.49659530324134, 75.7046777, 77.6518539, 77.5970812, 77.5755021, 77.5388099, 77.66676103753434, 77.6239038, -76.964526, -79.0345627, 80.1651978, 77.5548006, -0.1042366, -86.15345077251979, -0.0775138, -88.066644, 77.6381958, 77.7640586, 77.6269144, 106.7842561, 77.6130165, 77.6323597, 41.538889, 77.5919, 77.6305067, 77.7831871, 77.7150877, 77.6404672, -78.974578, 76.6465404, 76.5066292, 83.05280519687284, 77.6568367, 77.695935, 77.6790908]\n",
      "[-112.49659530324134, 75.7046777, 77.6518539, 77.5970812, 77.5755021, 77.5388099, 77.66676103753434, 77.6239038, -76.964526, -79.0345627, 80.1651978, 77.5548006, -0.1042366, -86.15345077251979, -0.0775138, -88.066644, 77.6381958, 77.7640586, 77.6269144, 106.7842561, 77.6130165, 77.6323597, 41.538889, 77.5919, 77.6305067, 77.7831871, 77.7150877, 77.6404672, -78.974578, 76.6465404, 76.5066292, 83.05280519687284, 77.6568367, 77.695935, 77.6790908, 77.6403368]\n",
      "[-112.49659530324134, 75.7046777, 77.6518539, 77.5970812, 77.5755021, 77.5388099, 77.66676103753434, 77.6239038, -76.964526, -79.0345627, 80.1651978, 77.5548006, -0.1042366, -86.15345077251979, -0.0775138, -88.066644, 77.6381958, 77.7640586, 77.6269144, 106.7842561, 77.6130165, 77.6323597, 41.538889, 77.5919, 77.6305067, 77.7831871, 77.7150877, 77.6404672, -78.974578, 76.6465404, 76.5066292, 83.05280519687284, 77.6568367, 77.695935, 77.6790908, 77.6403368, 77.6377094]\n",
      "[-112.49659530324134, 75.7046777, 77.6518539, 77.5970812, 77.5755021, 77.5388099, 77.66676103753434, 77.6239038, -76.964526, -79.0345627, 80.1651978, 77.5548006, -0.1042366, -86.15345077251979, -0.0775138, -88.066644, 77.6381958, 77.7640586, 77.6269144, 106.7842561, 77.6130165, 77.6323597, 41.538889, 77.5919, 77.6305067, 77.7831871, 77.7150877, 77.6404672, -78.974578, 76.6465404, 76.5066292, 83.05280519687284, 77.6568367, 77.695935, 77.6790908, 77.6403368, 77.6377094, 77.4258375]\n",
      "[-112.49659530324134, 75.7046777, 77.6518539, 77.5970812, 77.5755021, 77.5388099, 77.66676103753434, 77.6239038, -76.964526, -79.0345627, 80.1651978, 77.5548006, -0.1042366, -86.15345077251979, -0.0775138, -88.066644, 77.6381958, 77.7640586, 77.6269144, 106.7842561, 77.6130165, 77.6323597, 41.538889, 77.5919, 77.6305067, 77.7831871, 77.7150877, 77.6404672, -78.974578, 76.6465404, 76.5066292, 83.05280519687284, 77.6568367, 77.695935, 77.6790908, 77.6403368, 77.6377094, 77.4258375, 77.4837568]\n",
      "[-112.49659530324134, 75.7046777, 77.6518539, 77.5970812, 77.5755021, 77.5388099, 77.66676103753434, 77.6239038, -76.964526, -79.0345627, 80.1651978, 77.5548006, -0.1042366, -86.15345077251979, -0.0775138, -88.066644, 77.6381958, 77.7640586, 77.6269144, 106.7842561, 77.6130165, 77.6323597, 41.538889, 77.5919, 77.6305067, 77.7831871, 77.7150877, 77.6404672, -78.974578, 76.6465404, 76.5066292, 83.05280519687284, 77.6568367, 77.695935, 77.6790908, 77.6403368, 77.6377094, 77.4258375, 77.4837568, 77.7519261]\n",
      "[-112.49659530324134, 75.7046777, 77.6518539, 77.5970812, 77.5755021, 77.5388099, 77.66676103753434, 77.6239038, -76.964526, -79.0345627, 80.1651978, 77.5548006, -0.1042366, -86.15345077251979, -0.0775138, -88.066644, 77.6381958, 77.7640586, 77.6269144, 106.7842561, 77.6130165, 77.6323597, 41.538889, 77.5919, 77.6305067, 77.7831871, 77.7150877, 77.6404672, -78.974578, 76.6465404, 76.5066292, 83.05280519687284, 77.6568367, 77.695935, 77.6790908, 77.6403368, 77.6377094, 77.4258375, 77.4837568, 77.7519261, 121.070371]\n",
      "[-112.49659530324134, 75.7046777, 77.6518539, 77.5970812, 77.5755021, 77.5388099, 77.66676103753434, 77.6239038, -76.964526, -79.0345627, 80.1651978, 77.5548006, -0.1042366, -86.15345077251979, -0.0775138, -88.066644, 77.6381958, 77.7640586, 77.6269144, 106.7842561, 77.6130165, 77.6323597, 41.538889, 77.5919, 77.6305067, 77.7831871, 77.7150877, 77.6404672, -78.974578, 76.6465404, 76.5066292, 83.05280519687284, 77.6568367, 77.695935, 77.6790908, 77.6403368, 77.6377094, 77.4258375, 77.4837568, 77.7519261, 121.070371, 77.6255562]\n",
      "[-112.49659530324134, 75.7046777, 77.6518539, 77.5970812, 77.5755021, 77.5388099, 77.66676103753434, 77.6239038, -76.964526, -79.0345627, 80.1651978, 77.5548006, -0.1042366, -86.15345077251979, -0.0775138, -88.066644, 77.6381958, 77.7640586, 77.6269144, 106.7842561, 77.6130165, 77.6323597, 41.538889, 77.5919, 77.6305067, 77.7831871, 77.7150877, 77.6404672, -78.974578, 76.6465404, 76.5066292, 83.05280519687284, 77.6568367, 77.695935, 77.6790908, 77.6403368, 77.6377094, 77.4258375, 77.4837568, 77.7519261, 121.070371, 77.6255562, 77.6266252]\n",
      "[-112.49659530324134, 75.7046777, 77.6518539, 77.5970812, 77.5755021, 77.5388099, 77.66676103753434, 77.6239038, -76.964526, -79.0345627, 80.1651978, 77.5548006, -0.1042366, -86.15345077251979, -0.0775138, -88.066644, 77.6381958, 77.7640586, 77.6269144, 106.7842561, 77.6130165, 77.6323597, 41.538889, 77.5919, 77.6305067, 77.7831871, 77.7150877, 77.6404672, -78.974578, 76.6465404, 76.5066292, 83.05280519687284, 77.6568367, 77.695935, 77.6790908, 77.6403368, 77.6377094, 77.4258375, 77.4837568, 77.7519261, 121.070371, 77.6255562, 77.6266252, 77.63040639553275]\n",
      "[-112.49659530324134, 75.7046777, 77.6518539, 77.5970812, 77.5755021, 77.5388099, 77.66676103753434, 77.6239038, -76.964526, -79.0345627, 80.1651978, 77.5548006, -0.1042366, -86.15345077251979, -0.0775138, -88.066644, 77.6381958, 77.7640586, 77.6269144, 106.7842561, 77.6130165, 77.6323597, 41.538889, 77.5919, 77.6305067, 77.7831871, 77.7150877, 77.6404672, -78.974578, 76.6465404, 76.5066292, 83.05280519687284, 77.6568367, 77.695935, 77.6790908, 77.6403368, 77.6377094, 77.4258375, 77.4837568, 77.7519261, 121.070371, 77.6255562, 77.6266252, 77.63040639553275, 77.628415]\n",
      "[-112.49659530324134, 75.7046777, 77.6518539, 77.5970812, 77.5755021, 77.5388099, 77.66676103753434, 77.6239038, -76.964526, -79.0345627, 80.1651978, 77.5548006, -0.1042366, -86.15345077251979, -0.0775138, -88.066644, 77.6381958, 77.7640586, 77.6269144, 106.7842561, 77.6130165, 77.6323597, 41.538889, 77.5919, 77.6305067, 77.7831871, 77.7150877, 77.6404672, -78.974578, 76.6465404, 76.5066292, 83.05280519687284, 77.6568367, 77.695935, 77.6790908, 77.6403368, 77.6377094, 77.4258375, 77.4837568, 77.7519261, 121.070371, 77.6255562, 77.6266252, 77.63040639553275, 77.628415, 77.6203272]\n",
      "[-112.49659530324134, 75.7046777, 77.6518539, 77.5970812, 77.5755021, 77.5388099, 77.66676103753434, 77.6239038, -76.964526, -79.0345627, 80.1651978, 77.5548006, -0.1042366, -86.15345077251979, -0.0775138, -88.066644, 77.6381958, 77.7640586, 77.6269144, 106.7842561, 77.6130165, 77.6323597, 41.538889, 77.5919, 77.6305067, 77.7831871, 77.7150877, 77.6404672, -78.974578, 76.6465404, 76.5066292, 83.05280519687284, 77.6568367, 77.695935, 77.6790908, 77.6403368, 77.6377094, 77.4258375, 77.4837568, 77.7519261, 121.070371, 77.6255562, 77.6266252, 77.63040639553275, 77.628415, 77.6203272, 77.6332585]\n",
      "[-112.49659530324134, 75.7046777, 77.6518539, 77.5970812, 77.5755021, 77.5388099, 77.66676103753434, 77.6239038, -76.964526, -79.0345627, 80.1651978, 77.5548006, -0.1042366, -86.15345077251979, -0.0775138, -88.066644, 77.6381958, 77.7640586, 77.6269144, 106.7842561, 77.6130165, 77.6323597, 41.538889, 77.5919, 77.6305067, 77.7831871, 77.7150877, 77.6404672, -78.974578, 76.6465404, 76.5066292, 83.05280519687284, 77.6568367, 77.695935, 77.6790908, 77.6403368, 77.6377094, 77.4258375, 77.4837568, 77.7519261, 121.070371, 77.6255562, 77.6266252, 77.63040639553275, 77.628415, 77.6203272, 77.6332585, 77.6160146]\n",
      "[-112.49659530324134, 75.7046777, 77.6518539, 77.5970812, 77.5755021, 77.5388099, 77.66676103753434, 77.6239038, -76.964526, -79.0345627, 80.1651978, 77.5548006, -0.1042366, -86.15345077251979, -0.0775138, -88.066644, 77.6381958, 77.7640586, 77.6269144, 106.7842561, 77.6130165, 77.6323597, 41.538889, 77.5919, 77.6305067, 77.7831871, 77.7150877, 77.6404672, -78.974578, 76.6465404, 76.5066292, 83.05280519687284, 77.6568367, 77.695935, 77.6790908, 77.6403368, 77.6377094, 77.4258375, 77.4837568, 77.7519261, 121.070371, 77.6255562, 77.6266252, 77.63040639553275, 77.628415, 77.6203272, 77.6332585, 77.6160146, 77.5553179]\n",
      "[-112.49659530324134, 75.7046777, 77.6518539, 77.5970812, 77.5755021, 77.5388099, 77.66676103753434, 77.6239038, -76.964526, -79.0345627, 80.1651978, 77.5548006, -0.1042366, -86.15345077251979, -0.0775138, -88.066644, 77.6381958, 77.7640586, 77.6269144, 106.7842561, 77.6130165, 77.6323597, 41.538889, 77.5919, 77.6305067, 77.7831871, 77.7150877, 77.6404672, -78.974578, 76.6465404, 76.5066292, 83.05280519687284, 77.6568367, 77.695935, 77.6790908, 77.6403368, 77.6377094, 77.4258375, 77.4837568, 77.7519261, 121.070371, 77.6255562, 77.6266252, 77.63040639553275, 77.628415, 77.6203272, 77.6332585, 77.6160146, 77.5553179, 77.6037312]\n",
      "[-112.49659530324134, 75.7046777, 77.6518539, 77.5970812, 77.5755021, 77.5388099, 77.66676103753434, 77.6239038, -76.964526, -79.0345627, 80.1651978, 77.5548006, -0.1042366, -86.15345077251979, -0.0775138, -88.066644, 77.6381958, 77.7640586, 77.6269144, 106.7842561, 77.6130165, 77.6323597, 41.538889, 77.5919, 77.6305067, 77.7831871, 77.7150877, 77.6404672, -78.974578, 76.6465404, 76.5066292, 83.05280519687284, 77.6568367, 77.695935, 77.6790908, 77.6403368, 77.6377094, 77.4258375, 77.4837568, 77.7519261, 121.070371, 77.6255562, 77.6266252, 77.63040639553275, 77.628415, 77.6203272, 77.6332585, 77.6160146, 77.5553179, 77.6037312, -76.373824]\n",
      "[-112.49659530324134, 75.7046777, 77.6518539, 77.5970812, 77.5755021, 77.5388099, 77.66676103753434, 77.6239038, -76.964526, -79.0345627, 80.1651978, 77.5548006, -0.1042366, -86.15345077251979, -0.0775138, -88.066644, 77.6381958, 77.7640586, 77.6269144, 106.7842561, 77.6130165, 77.6323597, 41.538889, 77.5919, 77.6305067, 77.7831871, 77.7150877, 77.6404672, -78.974578, 76.6465404, 76.5066292, 83.05280519687284, 77.6568367, 77.695935, 77.6790908, 77.6403368, 77.6377094, 77.4258375, 77.4837568, 77.7519261, 121.070371, 77.6255562, 77.6266252, 77.63040639553275, 77.628415, 77.6203272, 77.6332585, 77.6160146, 77.5553179, 77.6037312, -76.373824, 79.5967057]\n",
      "[-112.49659530324134, 75.7046777, 77.6518539, 77.5970812, 77.5755021, 77.5388099, 77.66676103753434, 77.6239038, -76.964526, -79.0345627, 80.1651978, 77.5548006, -0.1042366, -86.15345077251979, -0.0775138, -88.066644, 77.6381958, 77.7640586, 77.6269144, 106.7842561, 77.6130165, 77.6323597, 41.538889, 77.5919, 77.6305067, 77.7831871, 77.7150877, 77.6404672, -78.974578, 76.6465404, 76.5066292, 83.05280519687284, 77.6568367, 77.695935, 77.6790908, 77.6403368, 77.6377094, 77.4258375, 77.4837568, 77.7519261, 121.070371, 77.6255562, 77.6266252, 77.63040639553275, 77.628415, 77.6203272, 77.6332585, 77.6160146, 77.5553179, 77.6037312, -76.373824, 79.5967057, 77.263004]\n",
      "[-112.49659530324134, 75.7046777, 77.6518539, 77.5970812, 77.5755021, 77.5388099, 77.66676103753434, 77.6239038, -76.964526, -79.0345627, 80.1651978, 77.5548006, -0.1042366, -86.15345077251979, -0.0775138, -88.066644, 77.6381958, 77.7640586, 77.6269144, 106.7842561, 77.6130165, 77.6323597, 41.538889, 77.5919, 77.6305067, 77.7831871, 77.7150877, 77.6404672, -78.974578, 76.6465404, 76.5066292, 83.05280519687284, 77.6568367, 77.695935, 77.6790908, 77.6403368, 77.6377094, 77.4258375, 77.4837568, 77.7519261, 121.070371, 77.6255562, 77.6266252, 77.63040639553275, 77.628415, 77.6203272, 77.6332585, 77.6160146, 77.5553179, 77.6037312, -76.373824, 79.5967057, 77.263004, 103.84320655721689]\n",
      "[-112.49659530324134, 75.7046777, 77.6518539, 77.5970812, 77.5755021, 77.5388099, 77.66676103753434, 77.6239038, -76.964526, -79.0345627, 80.1651978, 77.5548006, -0.1042366, -86.15345077251979, -0.0775138, -88.066644, 77.6381958, 77.7640586, 77.6269144, 106.7842561, 77.6130165, 77.6323597, 41.538889, 77.5919, 77.6305067, 77.7831871, 77.7150877, 77.6404672, -78.974578, 76.6465404, 76.5066292, 83.05280519687284, 77.6568367, 77.695935, 77.6790908, 77.6403368, 77.6377094, 77.4258375, 77.4837568, 77.7519261, 121.070371, 77.6255562, 77.6266252, 77.63040639553275, 77.628415, 77.6203272, 77.6332585, 77.6160146, 77.5553179, 77.6037312, -76.373824, 79.5967057, 77.263004, 103.84320655721689, 77.5703253]\n",
      "[-112.49659530324134, 75.7046777, 77.6518539, 77.5970812, 77.5755021, 77.5388099, 77.66676103753434, 77.6239038, -76.964526, -79.0345627, 80.1651978, 77.5548006, -0.1042366, -86.15345077251979, -0.0775138, -88.066644, 77.6381958, 77.7640586, 77.6269144, 106.7842561, 77.6130165, 77.6323597, 41.538889, 77.5919, 77.6305067, 77.7831871, 77.7150877, 77.6404672, -78.974578, 76.6465404, 76.5066292, 83.05280519687284, 77.6568367, 77.695935, 77.6790908, 77.6403368, 77.6377094, 77.4258375, 77.4837568, 77.7519261, 121.070371, 77.6255562, 77.6266252, 77.63040639553275, 77.628415, 77.6203272, 77.6332585, 77.6160146, 77.5553179, 77.6037312, -76.373824, 79.5967057, 77.263004, 103.84320655721689, 77.5703253, 77.6984163]\n",
      "[-112.49659530324134, 75.7046777, 77.6518539, 77.5970812, 77.5755021, 77.5388099, 77.66676103753434, 77.6239038, -76.964526, -79.0345627, 80.1651978, 77.5548006, -0.1042366, -86.15345077251979, -0.0775138, -88.066644, 77.6381958, 77.7640586, 77.6269144, 106.7842561, 77.6130165, 77.6323597, 41.538889, 77.5919, 77.6305067, 77.7831871, 77.7150877, 77.6404672, -78.974578, 76.6465404, 76.5066292, 83.05280519687284, 77.6568367, 77.695935, 77.6790908, 77.6403368, 77.6377094, 77.4258375, 77.4837568, 77.7519261, 121.070371, 77.6255562, 77.6266252, 77.63040639553275, 77.628415, 77.6203272, 77.6332585, 77.6160146, 77.5553179, 77.6037312, -76.373824, 79.5967057, 77.263004, 103.84320655721689, 77.5703253, 77.6984163, 76.6669626]\n",
      "[-112.49659530324134, 75.7046777, 77.6518539, 77.5970812, 77.5755021, 77.5388099, 77.66676103753434, 77.6239038, -76.964526, -79.0345627, 80.1651978, 77.5548006, -0.1042366, -86.15345077251979, -0.0775138, -88.066644, 77.6381958, 77.7640586, 77.6269144, 106.7842561, 77.6130165, 77.6323597, 41.538889, 77.5919, 77.6305067, 77.7831871, 77.7150877, 77.6404672, -78.974578, 76.6465404, 76.5066292, 83.05280519687284, 77.6568367, 77.695935, 77.6790908, 77.6403368, 77.6377094, 77.4258375, 77.4837568, 77.7519261, 121.070371, 77.6255562, 77.6266252, 77.63040639553275, 77.628415, 77.6203272, 77.6332585, 77.6160146, 77.5553179, 77.6037312, -76.373824, 79.5967057, 77.263004, 103.84320655721689, 77.5703253, 77.6984163, 76.6669626, 77.5121724]\n",
      "[-112.49659530324134, 75.7046777, 77.6518539, 77.5970812, 77.5755021, 77.5388099, 77.66676103753434, 77.6239038, -76.964526, -79.0345627, 80.1651978, 77.5548006, -0.1042366, -86.15345077251979, -0.0775138, -88.066644, 77.6381958, 77.7640586, 77.6269144, 106.7842561, 77.6130165, 77.6323597, 41.538889, 77.5919, 77.6305067, 77.7831871, 77.7150877, 77.6404672, -78.974578, 76.6465404, 76.5066292, 83.05280519687284, 77.6568367, 77.695935, 77.6790908, 77.6403368, 77.6377094, 77.4258375, 77.4837568, 77.7519261, 121.070371, 77.6255562, 77.6266252, 77.63040639553275, 77.628415, 77.6203272, 77.6332585, 77.6160146, 77.5553179, 77.6037312, -76.373824, 79.5967057, 77.263004, 103.84320655721689, 77.5703253, 77.6984163, 76.6669626, 77.5121724, 78.5541977]\n",
      "[-112.49659530324134, 75.7046777, 77.6518539, 77.5970812, 77.5755021, 77.5388099, 77.66676103753434, 77.6239038, -76.964526, -79.0345627, 80.1651978, 77.5548006, -0.1042366, -86.15345077251979, -0.0775138, -88.066644, 77.6381958, 77.7640586, 77.6269144, 106.7842561, 77.6130165, 77.6323597, 41.538889, 77.5919, 77.6305067, 77.7831871, 77.7150877, 77.6404672, -78.974578, 76.6465404, 76.5066292, 83.05280519687284, 77.6568367, 77.695935, 77.6790908, 77.6403368, 77.6377094, 77.4258375, 77.4837568, 77.7519261, 121.070371, 77.6255562, 77.6266252, 77.63040639553275, 77.628415, 77.6203272, 77.6332585, 77.6160146, 77.5553179, 77.6037312, -76.373824, 79.5967057, 77.263004, 103.84320655721689, 77.5703253, 77.6984163, 76.6669626, 77.5121724, 78.5541977, 77.5681733]\n",
      "[-112.49659530324134, 75.7046777, 77.6518539, 77.5970812, 77.5755021, 77.5388099, 77.66676103753434, 77.6239038, -76.964526, -79.0345627, 80.1651978, 77.5548006, -0.1042366, -86.15345077251979, -0.0775138, -88.066644, 77.6381958, 77.7640586, 77.6269144, 106.7842561, 77.6130165, 77.6323597, 41.538889, 77.5919, 77.6305067, 77.7831871, 77.7150877, 77.6404672, -78.974578, 76.6465404, 76.5066292, 83.05280519687284, 77.6568367, 77.695935, 77.6790908, 77.6403368, 77.6377094, 77.4258375, 77.4837568, 77.7519261, 121.070371, 77.6255562, 77.6266252, 77.63040639553275, 77.628415, 77.6203272, 77.6332585, 77.6160146, 77.5553179, 77.6037312, -76.373824, 79.5967057, 77.263004, 103.84320655721689, 77.5703253, 77.6984163, 76.6669626, 77.5121724, 78.5541977, 77.5681733, 77.7660547]\n",
      "[-112.49659530324134, 75.7046777, 77.6518539, 77.5970812, 77.5755021, 77.5388099, 77.66676103753434, 77.6239038, -76.964526, -79.0345627, 80.1651978, 77.5548006, -0.1042366, -86.15345077251979, -0.0775138, -88.066644, 77.6381958, 77.7640586, 77.6269144, 106.7842561, 77.6130165, 77.6323597, 41.538889, 77.5919, 77.6305067, 77.7831871, 77.7150877, 77.6404672, -78.974578, 76.6465404, 76.5066292, 83.05280519687284, 77.6568367, 77.695935, 77.6790908, 77.6403368, 77.6377094, 77.4258375, 77.4837568, 77.7519261, 121.070371, 77.6255562, 77.6266252, 77.63040639553275, 77.628415, 77.6203272, 77.6332585, 77.6160146, 77.5553179, 77.6037312, -76.373824, 79.5967057, 77.263004, 103.84320655721689, 77.5703253, 77.6984163, 76.6669626, 77.5121724, 78.5541977, 77.5681733, 77.7660547, 103.8822692]\n",
      "[-112.49659530324134, 75.7046777, 77.6518539, 77.5970812, 77.5755021, 77.5388099, 77.66676103753434, 77.6239038, -76.964526, -79.0345627, 80.1651978, 77.5548006, -0.1042366, -86.15345077251979, -0.0775138, -88.066644, 77.6381958, 77.7640586, 77.6269144, 106.7842561, 77.6130165, 77.6323597, 41.538889, 77.5919, 77.6305067, 77.7831871, 77.7150877, 77.6404672, -78.974578, 76.6465404, 76.5066292, 83.05280519687284, 77.6568367, 77.695935, 77.6790908, 77.6403368, 77.6377094, 77.4258375, 77.4837568, 77.7519261, 121.070371, 77.6255562, 77.6266252, 77.63040639553275, 77.628415, 77.6203272, 77.6332585, 77.6160146, 77.5553179, 77.6037312, -76.373824, 79.5967057, 77.263004, 103.84320655721689, 77.5703253, 77.6984163, 76.6669626, 77.5121724, 78.5541977, 77.5681733, 77.7660547, 103.8822692, 78.7011301]\n",
      "[-112.49659530324134, 75.7046777, 77.6518539, 77.5970812, 77.5755021, 77.5388099, 77.66676103753434, 77.6239038, -76.964526, -79.0345627, 80.1651978, 77.5548006, -0.1042366, -86.15345077251979, -0.0775138, -88.066644, 77.6381958, 77.7640586, 77.6269144, 106.7842561, 77.6130165, 77.6323597, 41.538889, 77.5919, 77.6305067, 77.7831871, 77.7150877, 77.6404672, -78.974578, 76.6465404, 76.5066292, 83.05280519687284, 77.6568367, 77.695935, 77.6790908, 77.6403368, 77.6377094, 77.4258375, 77.4837568, 77.7519261, 121.070371, 77.6255562, 77.6266252, 77.63040639553275, 77.628415, 77.6203272, 77.6332585, 77.6160146, 77.5553179, 77.6037312, -76.373824, 79.5967057, 77.263004, 103.84320655721689, 77.5703253, 77.6984163, 76.6669626, 77.5121724, 78.5541977, 77.5681733, 77.7660547, 103.8822692, 78.7011301, 77.5273253]\n",
      "[-112.49659530324134, 75.7046777, 77.6518539, 77.5970812, 77.5755021, 77.5388099, 77.66676103753434, 77.6239038, -76.964526, -79.0345627, 80.1651978, 77.5548006, -0.1042366, -86.15345077251979, -0.0775138, -88.066644, 77.6381958, 77.7640586, 77.6269144, 106.7842561, 77.6130165, 77.6323597, 41.538889, 77.5919, 77.6305067, 77.7831871, 77.7150877, 77.6404672, -78.974578, 76.6465404, 76.5066292, 83.05280519687284, 77.6568367, 77.695935, 77.6790908, 77.6403368, 77.6377094, 77.4258375, 77.4837568, 77.7519261, 121.070371, 77.6255562, 77.6266252, 77.63040639553275, 77.628415, 77.6203272, 77.6332585, 77.6160146, 77.5553179, 77.6037312, -76.373824, 79.5967057, 77.263004, 103.84320655721689, 77.5703253, 77.6984163, 76.6669626, 77.5121724, 78.5541977, 77.5681733, 77.7660547, 103.8822692, 78.7011301, 77.5273253, 77.595715]\n",
      "[-112.49659530324134, 75.7046777, 77.6518539, 77.5970812, 77.5755021, 77.5388099, 77.66676103753434, 77.6239038, -76.964526, -79.0345627, 80.1651978, 77.5548006, -0.1042366, -86.15345077251979, -0.0775138, -88.066644, 77.6381958, 77.7640586, 77.6269144, 106.7842561, 77.6130165, 77.6323597, 41.538889, 77.5919, 77.6305067, 77.7831871, 77.7150877, 77.6404672, -78.974578, 76.6465404, 76.5066292, 83.05280519687284, 77.6568367, 77.695935, 77.6790908, 77.6403368, 77.6377094, 77.4258375, 77.4837568, 77.7519261, 121.070371, 77.6255562, 77.6266252, 77.63040639553275, 77.628415, 77.6203272, 77.6332585, 77.6160146, 77.5553179, 77.6037312, -76.373824, 79.5967057, 77.263004, 103.84320655721689, 77.5703253, 77.6984163, 76.6669626, 77.5121724, 78.5541977, 77.5681733, 77.7660547, 103.8822692, 78.7011301, 77.5273253, 77.595715, 103.8497839]\n",
      "[-112.49659530324134, 75.7046777, 77.6518539, 77.5970812, 77.5755021, 77.5388099, 77.66676103753434, 77.6239038, -76.964526, -79.0345627, 80.1651978, 77.5548006, -0.1042366, -86.15345077251979, -0.0775138, -88.066644, 77.6381958, 77.7640586, 77.6269144, 106.7842561, 77.6130165, 77.6323597, 41.538889, 77.5919, 77.6305067, 77.7831871, 77.7150877, 77.6404672, -78.974578, 76.6465404, 76.5066292, 83.05280519687284, 77.6568367, 77.695935, 77.6790908, 77.6403368, 77.6377094, 77.4258375, 77.4837568, 77.7519261, 121.070371, 77.6255562, 77.6266252, 77.63040639553275, 77.628415, 77.6203272, 77.6332585, 77.6160146, 77.5553179, 77.6037312, -76.373824, 79.5967057, 77.263004, 103.84320655721689, 77.5703253, 77.6984163, 76.6669626, 77.5121724, 78.5541977, 77.5681733, 77.7660547, 103.8822692, 78.7011301, 77.5273253, 77.595715, 103.8497839, 77.554883]\n",
      "[-112.49659530324134, 75.7046777, 77.6518539, 77.5970812, 77.5755021, 77.5388099, 77.66676103753434, 77.6239038, -76.964526, -79.0345627, 80.1651978, 77.5548006, -0.1042366, -86.15345077251979, -0.0775138, -88.066644, 77.6381958, 77.7640586, 77.6269144, 106.7842561, 77.6130165, 77.6323597, 41.538889, 77.5919, 77.6305067, 77.7831871, 77.7150877, 77.6404672, -78.974578, 76.6465404, 76.5066292, 83.05280519687284, 77.6568367, 77.695935, 77.6790908, 77.6403368, 77.6377094, 77.4258375, 77.4837568, 77.7519261, 121.070371, 77.6255562, 77.6266252, 77.63040639553275, 77.628415, 77.6203272, 77.6332585, 77.6160146, 77.5553179, 77.6037312, -76.373824, 79.5967057, 77.263004, 103.84320655721689, 77.5703253, 77.6984163, 76.6669626, 77.5121724, 78.5541977, 77.5681733, 77.7660547, 103.8822692, 78.7011301, 77.5273253, 77.595715, 103.8497839, 77.554883, 77.5155224]\n",
      "[-112.49659530324134, 75.7046777, 77.6518539, 77.5970812, 77.5755021, 77.5388099, 77.66676103753434, 77.6239038, -76.964526, -79.0345627, 80.1651978, 77.5548006, -0.1042366, -86.15345077251979, -0.0775138, -88.066644, 77.6381958, 77.7640586, 77.6269144, 106.7842561, 77.6130165, 77.6323597, 41.538889, 77.5919, 77.6305067, 77.7831871, 77.7150877, 77.6404672, -78.974578, 76.6465404, 76.5066292, 83.05280519687284, 77.6568367, 77.695935, 77.6790908, 77.6403368, 77.6377094, 77.4258375, 77.4837568, 77.7519261, 121.070371, 77.6255562, 77.6266252, 77.63040639553275, 77.628415, 77.6203272, 77.6332585, 77.6160146, 77.5553179, 77.6037312, -76.373824, 79.5967057, 77.263004, 103.84320655721689, 77.5703253, 77.6984163, 76.6669626, 77.5121724, 78.5541977, 77.5681733, 77.7660547, 103.8822692, 78.7011301, 77.5273253, 77.595715, 103.8497839, 77.554883, 77.5155224, -77.5275749]\n",
      "[-112.49659530324134, 75.7046777, 77.6518539, 77.5970812, 77.5755021, 77.5388099, 77.66676103753434, 77.6239038, -76.964526, -79.0345627, 80.1651978, 77.5548006, -0.1042366, -86.15345077251979, -0.0775138, -88.066644, 77.6381958, 77.7640586, 77.6269144, 106.7842561, 77.6130165, 77.6323597, 41.538889, 77.5919, 77.6305067, 77.7831871, 77.7150877, 77.6404672, -78.974578, 76.6465404, 76.5066292, 83.05280519687284, 77.6568367, 77.695935, 77.6790908, 77.6403368, 77.6377094, 77.4258375, 77.4837568, 77.7519261, 121.070371, 77.6255562, 77.6266252, 77.63040639553275, 77.628415, 77.6203272, 77.6332585, 77.6160146, 77.5553179, 77.6037312, -76.373824, 79.5967057, 77.263004, 103.84320655721689, 77.5703253, 77.6984163, 76.6669626, 77.5121724, 78.5541977, 77.5681733, 77.7660547, 103.8822692, 78.7011301, 77.5273253, 77.595715, 103.8497839, 77.554883, 77.5155224, -77.5275749, 0.09772783661369303]\n",
      "[-112.49659530324134, 75.7046777, 77.6518539, 77.5970812, 77.5755021, 77.5388099, 77.66676103753434, 77.6239038, -76.964526, -79.0345627, 80.1651978, 77.5548006, -0.1042366, -86.15345077251979, -0.0775138, -88.066644, 77.6381958, 77.7640586, 77.6269144, 106.7842561, 77.6130165, 77.6323597, 41.538889, 77.5919, 77.6305067, 77.7831871, 77.7150877, 77.6404672, -78.974578, 76.6465404, 76.5066292, 83.05280519687284, 77.6568367, 77.695935, 77.6790908, 77.6403368, 77.6377094, 77.4258375, 77.4837568, 77.7519261, 121.070371, 77.6255562, 77.6266252, 77.63040639553275, 77.628415, 77.6203272, 77.6332585, 77.6160146, 77.5553179, 77.6037312, -76.373824, 79.5967057, 77.263004, 103.84320655721689, 77.5703253, 77.6984163, 76.6669626, 77.5121724, 78.5541977, 77.5681733, 77.7660547, 103.8822692, 78.7011301, 77.5273253, 77.595715, 103.8497839, 77.554883, 77.5155224, -77.5275749, 0.09772783661369303, 74.5084834]\n",
      "[-112.49659530324134, 75.7046777, 77.6518539, 77.5970812, 77.5755021, 77.5388099, 77.66676103753434, 77.6239038, -76.964526, -79.0345627, 80.1651978, 77.5548006, -0.1042366, -86.15345077251979, -0.0775138, -88.066644, 77.6381958, 77.7640586, 77.6269144, 106.7842561, 77.6130165, 77.6323597, 41.538889, 77.5919, 77.6305067, 77.7831871, 77.7150877, 77.6404672, -78.974578, 76.6465404, 76.5066292, 83.05280519687284, 77.6568367, 77.695935, 77.6790908, 77.6403368, 77.6377094, 77.4258375, 77.4837568, 77.7519261, 121.070371, 77.6255562, 77.6266252, 77.63040639553275, 77.628415, 77.6203272, 77.6332585, 77.6160146, 77.5553179, 77.6037312, -76.373824, 79.5967057, 77.263004, 103.84320655721689, 77.5703253, 77.6984163, 76.6669626, 77.5121724, 78.5541977, 77.5681733, 77.7660547, 103.8822692, 78.7011301, 77.5273253, 77.595715, 103.8497839, 77.554883, 77.5155224, -77.5275749, 0.09772783661369303, 74.5084834, 77.58006135480495]\n",
      "[-112.49659530324134, 75.7046777, 77.6518539, 77.5970812, 77.5755021, 77.5388099, 77.66676103753434, 77.6239038, -76.964526, -79.0345627, 80.1651978, 77.5548006, -0.1042366, -86.15345077251979, -0.0775138, -88.066644, 77.6381958, 77.7640586, 77.6269144, 106.7842561, 77.6130165, 77.6323597, 41.538889, 77.5919, 77.6305067, 77.7831871, 77.7150877, 77.6404672, -78.974578, 76.6465404, 76.5066292, 83.05280519687284, 77.6568367, 77.695935, 77.6790908, 77.6403368, 77.6377094, 77.4258375, 77.4837568, 77.7519261, 121.070371, 77.6255562, 77.6266252, 77.63040639553275, 77.628415, 77.6203272, 77.6332585, 77.6160146, 77.5553179, 77.6037312, -76.373824, 79.5967057, 77.263004, 103.84320655721689, 77.5703253, 77.6984163, 76.6669626, 77.5121724, 78.5541977, 77.5681733, 77.7660547, 103.8822692, 78.7011301, 77.5273253, 77.595715, 103.8497839, 77.554883, 77.5155224, -77.5275749, 0.09772783661369303, 74.5084834, 77.58006135480495, 81.6048241]\n",
      "[-112.49659530324134, 75.7046777, 77.6518539, 77.5970812, 77.5755021, 77.5388099, 77.66676103753434, 77.6239038, -76.964526, -79.0345627, 80.1651978, 77.5548006, -0.1042366, -86.15345077251979, -0.0775138, -88.066644, 77.6381958, 77.7640586, 77.6269144, 106.7842561, 77.6130165, 77.6323597, 41.538889, 77.5919, 77.6305067, 77.7831871, 77.7150877, 77.6404672, -78.974578, 76.6465404, 76.5066292, 83.05280519687284, 77.6568367, 77.695935, 77.6790908, 77.6403368, 77.6377094, 77.4258375, 77.4837568, 77.7519261, 121.070371, 77.6255562, 77.6266252, 77.63040639553275, 77.628415, 77.6203272, 77.6332585, 77.6160146, 77.5553179, 77.6037312, -76.373824, 79.5967057, 77.263004, 103.84320655721689, 77.5703253, 77.6984163, 76.6669626, 77.5121724, 78.5541977, 77.5681733, 77.7660547, 103.8822692, 78.7011301, 77.5273253, 77.595715, 103.8497839, 77.554883, 77.5155224, -77.5275749, 0.09772783661369303, 74.5084834, 77.58006135480495, 81.6048241, -121.5056438]\n",
      "[-112.49659530324134, 75.7046777, 77.6518539, 77.5970812, 77.5755021, 77.5388099, 77.66676103753434, 77.6239038, -76.964526, -79.0345627, 80.1651978, 77.5548006, -0.1042366, -86.15345077251979, -0.0775138, -88.066644, 77.6381958, 77.7640586, 77.6269144, 106.7842561, 77.6130165, 77.6323597, 41.538889, 77.5919, 77.6305067, 77.7831871, 77.7150877, 77.6404672, -78.974578, 76.6465404, 76.5066292, 83.05280519687284, 77.6568367, 77.695935, 77.6790908, 77.6403368, 77.6377094, 77.4258375, 77.4837568, 77.7519261, 121.070371, 77.6255562, 77.6266252, 77.63040639553275, 77.628415, 77.6203272, 77.6332585, 77.6160146, 77.5553179, 77.6037312, -76.373824, 79.5967057, 77.263004, 103.84320655721689, 77.5703253, 77.6984163, 76.6669626, 77.5121724, 78.5541977, 77.5681733, 77.7660547, 103.8822692, 78.7011301, 77.5273253, 77.595715, 103.8497839, 77.554883, 77.5155224, -77.5275749, 0.09772783661369303, 74.5084834, 77.58006135480495, 81.6048241, -121.5056438, 77.6289059]\n",
      "[-112.49659530324134, 75.7046777, 77.6518539, 77.5970812, 77.5755021, 77.5388099, 77.66676103753434, 77.6239038, -76.964526, -79.0345627, 80.1651978, 77.5548006, -0.1042366, -86.15345077251979, -0.0775138, -88.066644, 77.6381958, 77.7640586, 77.6269144, 106.7842561, 77.6130165, 77.6323597, 41.538889, 77.5919, 77.6305067, 77.7831871, 77.7150877, 77.6404672, -78.974578, 76.6465404, 76.5066292, 83.05280519687284, 77.6568367, 77.695935, 77.6790908, 77.6403368, 77.6377094, 77.4258375, 77.4837568, 77.7519261, 121.070371, 77.6255562, 77.6266252, 77.63040639553275, 77.628415, 77.6203272, 77.6332585, 77.6160146, 77.5553179, 77.6037312, -76.373824, 79.5967057, 77.263004, 103.84320655721689, 77.5703253, 77.6984163, 76.6669626, 77.5121724, 78.5541977, 77.5681733, 77.7660547, 103.8822692, 78.7011301, 77.5273253, 77.595715, 103.8497839, 77.554883, 77.5155224, -77.5275749, 0.09772783661369303, 74.5084834, 77.58006135480495, 81.6048241, -121.5056438, 77.6289059, 77.5753419]\n",
      "[-112.49659530324134, 75.7046777, 77.6518539, 77.5970812, 77.5755021, 77.5388099, 77.66676103753434, 77.6239038, -76.964526, -79.0345627, 80.1651978, 77.5548006, -0.1042366, -86.15345077251979, -0.0775138, -88.066644, 77.6381958, 77.7640586, 77.6269144, 106.7842561, 77.6130165, 77.6323597, 41.538889, 77.5919, 77.6305067, 77.7831871, 77.7150877, 77.6404672, -78.974578, 76.6465404, 76.5066292, 83.05280519687284, 77.6568367, 77.695935, 77.6790908, 77.6403368, 77.6377094, 77.4258375, 77.4837568, 77.7519261, 121.070371, 77.6255562, 77.6266252, 77.63040639553275, 77.628415, 77.6203272, 77.6332585, 77.6160146, 77.5553179, 77.6037312, -76.373824, 79.5967057, 77.263004, 103.84320655721689, 77.5703253, 77.6984163, 76.6669626, 77.5121724, 78.5541977, 77.5681733, 77.7660547, 103.8822692, 78.7011301, 77.5273253, 77.595715, 103.8497839, 77.554883, 77.5155224, -77.5275749, 0.09772783661369303, 74.5084834, 77.58006135480495, 81.6048241, -121.5056438, 77.6289059, 77.5753419, 77.5979099]\n",
      "[-112.49659530324134, 75.7046777, 77.6518539, 77.5970812, 77.5755021, 77.5388099, 77.66676103753434, 77.6239038, -76.964526, -79.0345627, 80.1651978, 77.5548006, -0.1042366, -86.15345077251979, -0.0775138, -88.066644, 77.6381958, 77.7640586, 77.6269144, 106.7842561, 77.6130165, 77.6323597, 41.538889, 77.5919, 77.6305067, 77.7831871, 77.7150877, 77.6404672, -78.974578, 76.6465404, 76.5066292, 83.05280519687284, 77.6568367, 77.695935, 77.6790908, 77.6403368, 77.6377094, 77.4258375, 77.4837568, 77.7519261, 121.070371, 77.6255562, 77.6266252, 77.63040639553275, 77.628415, 77.6203272, 77.6332585, 77.6160146, 77.5553179, 77.6037312, -76.373824, 79.5967057, 77.263004, 103.84320655721689, 77.5703253, 77.6984163, 76.6669626, 77.5121724, 78.5541977, 77.5681733, 77.7660547, 103.8822692, 78.7011301, 77.5273253, 77.595715, 103.8497839, 77.554883, 77.5155224, -77.5275749, 0.09772783661369303, 74.5084834, 77.58006135480495, 81.6048241, -121.5056438, 77.6289059, 77.5753419, 77.5979099, 73.8499601124847]\n",
      "[-112.49659530324134, 75.7046777, 77.6518539, 77.5970812, 77.5755021, 77.5388099, 77.66676103753434, 77.6239038, -76.964526, -79.0345627, 80.1651978, 77.5548006, -0.1042366, -86.15345077251979, -0.0775138, -88.066644, 77.6381958, 77.7640586, 77.6269144, 106.7842561, 77.6130165, 77.6323597, 41.538889, 77.5919, 77.6305067, 77.7831871, 77.7150877, 77.6404672, -78.974578, 76.6465404, 76.5066292, 83.05280519687284, 77.6568367, 77.695935, 77.6790908, 77.6403368, 77.6377094, 77.4258375, 77.4837568, 77.7519261, 121.070371, 77.6255562, 77.6266252, 77.63040639553275, 77.628415, 77.6203272, 77.6332585, 77.6160146, 77.5553179, 77.6037312, -76.373824, 79.5967057, 77.263004, 103.84320655721689, 77.5703253, 77.6984163, 76.6669626, 77.5121724, 78.5541977, 77.5681733, 77.7660547, 103.8822692, 78.7011301, 77.5273253, 77.595715, 103.8497839, 77.554883, 77.5155224, -77.5275749, 0.09772783661369303, 74.5084834, 77.58006135480495, 81.6048241, -121.5056438, 77.6289059, 77.5753419, 77.5979099, 73.8499601124847, 77.49626895712257]\n",
      "[-112.49659530324134, 75.7046777, 77.6518539, 77.5970812, 77.5755021, 77.5388099, 77.66676103753434, 77.6239038, -76.964526, -79.0345627, 80.1651978, 77.5548006, -0.1042366, -86.15345077251979, -0.0775138, -88.066644, 77.6381958, 77.7640586, 77.6269144, 106.7842561, 77.6130165, 77.6323597, 41.538889, 77.5919, 77.6305067, 77.7831871, 77.7150877, 77.6404672, -78.974578, 76.6465404, 76.5066292, 83.05280519687284, 77.6568367, 77.695935, 77.6790908, 77.6403368, 77.6377094, 77.4258375, 77.4837568, 77.7519261, 121.070371, 77.6255562, 77.6266252, 77.63040639553275, 77.628415, 77.6203272, 77.6332585, 77.6160146, 77.5553179, 77.6037312, -76.373824, 79.5967057, 77.263004, 103.84320655721689, 77.5703253, 77.6984163, 76.6669626, 77.5121724, 78.5541977, 77.5681733, 77.7660547, 103.8822692, 78.7011301, 77.5273253, 77.595715, 103.8497839, 77.554883, 77.5155224, -77.5275749, 0.09772783661369303, 74.5084834, 77.58006135480495, 81.6048241, -121.5056438, 77.6289059, 77.5753419, 77.5979099, 73.8499601124847, 77.49626895712257, -0.7354457]\n",
      "[-112.49659530324134, 75.7046777, 77.6518539, 77.5970812, 77.5755021, 77.5388099, 77.66676103753434, 77.6239038, -76.964526, -79.0345627, 80.1651978, 77.5548006, -0.1042366, -86.15345077251979, -0.0775138, -88.066644, 77.6381958, 77.7640586, 77.6269144, 106.7842561, 77.6130165, 77.6323597, 41.538889, 77.5919, 77.6305067, 77.7831871, 77.7150877, 77.6404672, -78.974578, 76.6465404, 76.5066292, 83.05280519687284, 77.6568367, 77.695935, 77.6790908, 77.6403368, 77.6377094, 77.4258375, 77.4837568, 77.7519261, 121.070371, 77.6255562, 77.6266252, 77.63040639553275, 77.628415, 77.6203272, 77.6332585, 77.6160146, 77.5553179, 77.6037312, -76.373824, 79.5967057, 77.263004, 103.84320655721689, 77.5703253, 77.6984163, 76.6669626, 77.5121724, 78.5541977, 77.5681733, 77.7660547, 103.8822692, 78.7011301, 77.5273253, 77.595715, 103.8497839, 77.554883, 77.5155224, -77.5275749, 0.09772783661369303, 74.5084834, 77.58006135480495, 81.6048241, -121.5056438, 77.6289059, 77.5753419, 77.5979099, 73.8499601124847, 77.49626895712257, -0.7354457, 77.6509982]\n",
      "[-112.49659530324134, 75.7046777, 77.6518539, 77.5970812, 77.5755021, 77.5388099, 77.66676103753434, 77.6239038, -76.964526, -79.0345627, 80.1651978, 77.5548006, -0.1042366, -86.15345077251979, -0.0775138, -88.066644, 77.6381958, 77.7640586, 77.6269144, 106.7842561, 77.6130165, 77.6323597, 41.538889, 77.5919, 77.6305067, 77.7831871, 77.7150877, 77.6404672, -78.974578, 76.6465404, 76.5066292, 83.05280519687284, 77.6568367, 77.695935, 77.6790908, 77.6403368, 77.6377094, 77.4258375, 77.4837568, 77.7519261, 121.070371, 77.6255562, 77.6266252, 77.63040639553275, 77.628415, 77.6203272, 77.6332585, 77.6160146, 77.5553179, 77.6037312, -76.373824, 79.5967057, 77.263004, 103.84320655721689, 77.5703253, 77.6984163, 76.6669626, 77.5121724, 78.5541977, 77.5681733, 77.7660547, 103.8822692, 78.7011301, 77.5273253, 77.595715, 103.8497839, 77.554883, 77.5155224, -77.5275749, 0.09772783661369303, 74.5084834, 77.58006135480495, 81.6048241, -121.5056438, 77.6289059, 77.5753419, 77.5979099, 73.8499601124847, 77.49626895712257, -0.7354457, 77.6509982, 77.6246697]\n",
      "[-112.49659530324134, 75.7046777, 77.6518539, 77.5970812, 77.5755021, 77.5388099, 77.66676103753434, 77.6239038, -76.964526, -79.0345627, 80.1651978, 77.5548006, -0.1042366, -86.15345077251979, -0.0775138, -88.066644, 77.6381958, 77.7640586, 77.6269144, 106.7842561, 77.6130165, 77.6323597, 41.538889, 77.5919, 77.6305067, 77.7831871, 77.7150877, 77.6404672, -78.974578, 76.6465404, 76.5066292, 83.05280519687284, 77.6568367, 77.695935, 77.6790908, 77.6403368, 77.6377094, 77.4258375, 77.4837568, 77.7519261, 121.070371, 77.6255562, 77.6266252, 77.63040639553275, 77.628415, 77.6203272, 77.6332585, 77.6160146, 77.5553179, 77.6037312, -76.373824, 79.5967057, 77.263004, 103.84320655721689, 77.5703253, 77.6984163, 76.6669626, 77.5121724, 78.5541977, 77.5681733, 77.7660547, 103.8822692, 78.7011301, 77.5273253, 77.595715, 103.8497839, 77.554883, 77.5155224, -77.5275749, 0.09772783661369303, 74.5084834, 77.58006135480495, 81.6048241, -121.5056438, 77.6289059, 77.5753419, 77.5979099, 73.8499601124847, 77.49626895712257, -0.7354457, 77.6509982, 77.6246697, 77.5455438]\n",
      "[-112.49659530324134, 75.7046777, 77.6518539, 77.5970812, 77.5755021, 77.5388099, 77.66676103753434, 77.6239038, -76.964526, -79.0345627, 80.1651978, 77.5548006, -0.1042366, -86.15345077251979, -0.0775138, -88.066644, 77.6381958, 77.7640586, 77.6269144, 106.7842561, 77.6130165, 77.6323597, 41.538889, 77.5919, 77.6305067, 77.7831871, 77.7150877, 77.6404672, -78.974578, 76.6465404, 76.5066292, 83.05280519687284, 77.6568367, 77.695935, 77.6790908, 77.6403368, 77.6377094, 77.4258375, 77.4837568, 77.7519261, 121.070371, 77.6255562, 77.6266252, 77.63040639553275, 77.628415, 77.6203272, 77.6332585, 77.6160146, 77.5553179, 77.6037312, -76.373824, 79.5967057, 77.263004, 103.84320655721689, 77.5703253, 77.6984163, 76.6669626, 77.5121724, 78.5541977, 77.5681733, 77.7660547, 103.8822692, 78.7011301, 77.5273253, 77.595715, 103.8497839, 77.554883, 77.5155224, -77.5275749, 0.09772783661369303, 74.5084834, 77.58006135480495, 81.6048241, -121.5056438, 77.6289059, 77.5753419, 77.5979099, 73.8499601124847, 77.49626895712257, -0.7354457, 77.6509982, 77.6246697, 77.5455438, 77.7470942]\n",
      "[-112.49659530324134, 75.7046777, 77.6518539, 77.5970812, 77.5755021, 77.5388099, 77.66676103753434, 77.6239038, -76.964526, -79.0345627, 80.1651978, 77.5548006, -0.1042366, -86.15345077251979, -0.0775138, -88.066644, 77.6381958, 77.7640586, 77.6269144, 106.7842561, 77.6130165, 77.6323597, 41.538889, 77.5919, 77.6305067, 77.7831871, 77.7150877, 77.6404672, -78.974578, 76.6465404, 76.5066292, 83.05280519687284, 77.6568367, 77.695935, 77.6790908, 77.6403368, 77.6377094, 77.4258375, 77.4837568, 77.7519261, 121.070371, 77.6255562, 77.6266252, 77.63040639553275, 77.628415, 77.6203272, 77.6332585, 77.6160146, 77.5553179, 77.6037312, -76.373824, 79.5967057, 77.263004, 103.84320655721689, 77.5703253, 77.6984163, 76.6669626, 77.5121724, 78.5541977, 77.5681733, 77.7660547, 103.8822692, 78.7011301, 77.5273253, 77.595715, 103.8497839, 77.554883, 77.5155224, -77.5275749, 0.09772783661369303, 74.5084834, 77.58006135480495, 81.6048241, -121.5056438, 77.6289059, 77.5753419, 77.5979099, 73.8499601124847, 77.49626895712257, -0.7354457, 77.6509982, 77.6246697, 77.5455438, 77.7470942, 77.58516877601824]\n",
      "[-112.49659530324134, 75.7046777, 77.6518539, 77.5970812, 77.5755021, 77.5388099, 77.66676103753434, 77.6239038, -76.964526, -79.0345627, 80.1651978, 77.5548006, -0.1042366, -86.15345077251979, -0.0775138, -88.066644, 77.6381958, 77.7640586, 77.6269144, 106.7842561, 77.6130165, 77.6323597, 41.538889, 77.5919, 77.6305067, 77.7831871, 77.7150877, 77.6404672, -78.974578, 76.6465404, 76.5066292, 83.05280519687284, 77.6568367, 77.695935, 77.6790908, 77.6403368, 77.6377094, 77.4258375, 77.4837568, 77.7519261, 121.070371, 77.6255562, 77.6266252, 77.63040639553275, 77.628415, 77.6203272, 77.6332585, 77.6160146, 77.5553179, 77.6037312, -76.373824, 79.5967057, 77.263004, 103.84320655721689, 77.5703253, 77.6984163, 76.6669626, 77.5121724, 78.5541977, 77.5681733, 77.7660547, 103.8822692, 78.7011301, 77.5273253, 77.595715, 103.8497839, 77.554883, 77.5155224, -77.5275749, 0.09772783661369303, 74.5084834, 77.58006135480495, 81.6048241, -121.5056438, 77.6289059, 77.5753419, 77.5979099, 73.8499601124847, 77.49626895712257, -0.7354457, 77.6509982, 77.6246697, 77.5455438, 77.7470942, 77.58516877601824, 69.3405962]\n",
      "[-112.49659530324134, 75.7046777, 77.6518539, 77.5970812, 77.5755021, 77.5388099, 77.66676103753434, 77.6239038, -76.964526, -79.0345627, 80.1651978, 77.5548006, -0.1042366, -86.15345077251979, -0.0775138, -88.066644, 77.6381958, 77.7640586, 77.6269144, 106.7842561, 77.6130165, 77.6323597, 41.538889, 77.5919, 77.6305067, 77.7831871, 77.7150877, 77.6404672, -78.974578, 76.6465404, 76.5066292, 83.05280519687284, 77.6568367, 77.695935, 77.6790908, 77.6403368, 77.6377094, 77.4258375, 77.4837568, 77.7519261, 121.070371, 77.6255562, 77.6266252, 77.63040639553275, 77.628415, 77.6203272, 77.6332585, 77.6160146, 77.5553179, 77.6037312, -76.373824, 79.5967057, 77.263004, 103.84320655721689, 77.5703253, 77.6984163, 76.6669626, 77.5121724, 78.5541977, 77.5681733, 77.7660547, 103.8822692, 78.7011301, 77.5273253, 77.595715, 103.8497839, 77.554883, 77.5155224, -77.5275749, 0.09772783661369303, 74.5084834, 77.58006135480495, 81.6048241, -121.5056438, 77.6289059, 77.5753419, 77.5979099, 73.8499601124847, 77.49626895712257, -0.7354457, 77.6509982, 77.6246697, 77.5455438, 77.7470942, 77.58516877601824, 69.3405962, 77.6325617]\n",
      "[-112.49659530324134, 75.7046777, 77.6518539, 77.5970812, 77.5755021, 77.5388099, 77.66676103753434, 77.6239038, -76.964526, -79.0345627, 80.1651978, 77.5548006, -0.1042366, -86.15345077251979, -0.0775138, -88.066644, 77.6381958, 77.7640586, 77.6269144, 106.7842561, 77.6130165, 77.6323597, 41.538889, 77.5919, 77.6305067, 77.7831871, 77.7150877, 77.6404672, -78.974578, 76.6465404, 76.5066292, 83.05280519687284, 77.6568367, 77.695935, 77.6790908, 77.6403368, 77.6377094, 77.4258375, 77.4837568, 77.7519261, 121.070371, 77.6255562, 77.6266252, 77.63040639553275, 77.628415, 77.6203272, 77.6332585, 77.6160146, 77.5553179, 77.6037312, -76.373824, 79.5967057, 77.263004, 103.84320655721689, 77.5703253, 77.6984163, 76.6669626, 77.5121724, 78.5541977, 77.5681733, 77.7660547, 103.8822692, 78.7011301, 77.5273253, 77.595715, 103.8497839, 77.554883, 77.5155224, -77.5275749, 0.09772783661369303, 74.5084834, 77.58006135480495, 81.6048241, -121.5056438, 77.6289059, 77.5753419, 77.5979099, 73.8499601124847, 77.49626895712257, -0.7354457, 77.6509982, 77.6246697, 77.5455438, 77.7470942, 77.58516877601824, 69.3405962, 77.6325617, -71.6118577]\n",
      "[-112.49659530324134, 75.7046777, 77.6518539, 77.5970812, 77.5755021, 77.5388099, 77.66676103753434, 77.6239038, -76.964526, -79.0345627, 80.1651978, 77.5548006, -0.1042366, -86.15345077251979, -0.0775138, -88.066644, 77.6381958, 77.7640586, 77.6269144, 106.7842561, 77.6130165, 77.6323597, 41.538889, 77.5919, 77.6305067, 77.7831871, 77.7150877, 77.6404672, -78.974578, 76.6465404, 76.5066292, 83.05280519687284, 77.6568367, 77.695935, 77.6790908, 77.6403368, 77.6377094, 77.4258375, 77.4837568, 77.7519261, 121.070371, 77.6255562, 77.6266252, 77.63040639553275, 77.628415, 77.6203272, 77.6332585, 77.6160146, 77.5553179, 77.6037312, -76.373824, 79.5967057, 77.263004, 103.84320655721689, 77.5703253, 77.6984163, 76.6669626, 77.5121724, 78.5541977, 77.5681733, 77.7660547, 103.8822692, 78.7011301, 77.5273253, 77.595715, 103.8497839, 77.554883, 77.5155224, -77.5275749, 0.09772783661369303, 74.5084834, 77.58006135480495, 81.6048241, -121.5056438, 77.6289059, 77.5753419, 77.5979099, 73.8499601124847, 77.49626895712257, -0.7354457, 77.6509982, 77.6246697, 77.5455438, 77.7470942, 77.58516877601824, 69.3405962, 77.6325617, -71.6118577, 77.5968273]\n",
      "[-112.49659530324134, 75.7046777, 77.6518539, 77.5970812, 77.5755021, 77.5388099, 77.66676103753434, 77.6239038, -76.964526, -79.0345627, 80.1651978, 77.5548006, -0.1042366, -86.15345077251979, -0.0775138, -88.066644, 77.6381958, 77.7640586, 77.6269144, 106.7842561, 77.6130165, 77.6323597, 41.538889, 77.5919, 77.6305067, 77.7831871, 77.7150877, 77.6404672, -78.974578, 76.6465404, 76.5066292, 83.05280519687284, 77.6568367, 77.695935, 77.6790908, 77.6403368, 77.6377094, 77.4258375, 77.4837568, 77.7519261, 121.070371, 77.6255562, 77.6266252, 77.63040639553275, 77.628415, 77.6203272, 77.6332585, 77.6160146, 77.5553179, 77.6037312, -76.373824, 79.5967057, 77.263004, 103.84320655721689, 77.5703253, 77.6984163, 76.6669626, 77.5121724, 78.5541977, 77.5681733, 77.7660547, 103.8822692, 78.7011301, 77.5273253, 77.595715, 103.8497839, 77.554883, 77.5155224, -77.5275749, 0.09772783661369303, 74.5084834, 77.58006135480495, 81.6048241, -121.5056438, 77.6289059, 77.5753419, 77.5979099, 73.8499601124847, 77.49626895712257, -0.7354457, 77.6509982, 77.6246697, 77.5455438, 77.7470942, 77.58516877601824, 69.3405962, 77.6325617, -71.6118577, 77.5968273, 77.5963454]\n",
      "[-112.49659530324134, 75.7046777, 77.6518539, 77.5970812, 77.5755021, 77.5388099, 77.66676103753434, 77.6239038, -76.964526, -79.0345627, 80.1651978, 77.5548006, -0.1042366, -86.15345077251979, -0.0775138, -88.066644, 77.6381958, 77.7640586, 77.6269144, 106.7842561, 77.6130165, 77.6323597, 41.538889, 77.5919, 77.6305067, 77.7831871, 77.7150877, 77.6404672, -78.974578, 76.6465404, 76.5066292, 83.05280519687284, 77.6568367, 77.695935, 77.6790908, 77.6403368, 77.6377094, 77.4258375, 77.4837568, 77.7519261, 121.070371, 77.6255562, 77.6266252, 77.63040639553275, 77.628415, 77.6203272, 77.6332585, 77.6160146, 77.5553179, 77.6037312, -76.373824, 79.5967057, 77.263004, 103.84320655721689, 77.5703253, 77.6984163, 76.6669626, 77.5121724, 78.5541977, 77.5681733, 77.7660547, 103.8822692, 78.7011301, 77.5273253, 77.595715, 103.8497839, 77.554883, 77.5155224, -77.5275749, 0.09772783661369303, 74.5084834, 77.58006135480495, 81.6048241, -121.5056438, 77.6289059, 77.5753419, 77.5979099, 73.8499601124847, 77.49626895712257, -0.7354457, 77.6509982, 77.6246697, 77.5455438, 77.7470942, 77.58516877601824, 69.3405962, 77.6325617, -71.6118577, 77.5968273, 77.5963454, 77.5529215]\n"
     ]
    }
   ],
   "source": [
    "long=[]\n",
    "for i in data_3['geo_loc']:\n",
    "    long.append(i[1])\n",
    "    print(long)"
   ]
  },
  {
   "cell_type": "code",
   "execution_count": 101,
   "metadata": {},
   "outputs": [],
   "source": [
    "data_3['long']=long"
   ]
  },
  {
   "cell_type": "code",
   "execution_count": 102,
   "metadata": {},
   "outputs": [
    {
     "data": {
      "text/html": [
       "<div>\n",
       "<style scoped>\n",
       "    .dataframe tbody tr th:only-of-type {\n",
       "        vertical-align: middle;\n",
       "    }\n",
       "\n",
       "    .dataframe tbody tr th {\n",
       "        vertical-align: top;\n",
       "    }\n",
       "\n",
       "    .dataframe thead th {\n",
       "        text-align: right;\n",
       "    }\n",
       "</style>\n",
       "<table border=\"1\" class=\"dataframe\">\n",
       "  <thead>\n",
       "    <tr style=\"text-align: right;\">\n",
       "      <th></th>\n",
       "      <th>location</th>\n",
       "      <th>rate</th>\n",
       "      <th>geo_loc</th>\n",
       "      <th>lat</th>\n",
       "      <th>long</th>\n",
       "    </tr>\n",
       "  </thead>\n",
       "  <tbody>\n",
       "    <tr>\n",
       "      <th>0</th>\n",
       "      <td>BTM</td>\n",
       "      <td>3.637437</td>\n",
       "      <td>(45.95485055, -112.49659530324134)</td>\n",
       "      <td>45.954851</td>\n",
       "      <td>-112.496595</td>\n",
       "    </tr>\n",
       "    <tr>\n",
       "      <th>1</th>\n",
       "      <td>Banashankari</td>\n",
       "      <td>3.669204</td>\n",
       "      <td>(15.8876779, 75.7046777)</td>\n",
       "      <td>15.887678</td>\n",
       "      <td>75.704678</td>\n",
       "    </tr>\n",
       "    <tr>\n",
       "      <th>2</th>\n",
       "      <td>Banaswadi</td>\n",
       "      <td>3.496250</td>\n",
       "      <td>(13.0141618, 77.6518539)</td>\n",
       "      <td>13.014162</td>\n",
       "      <td>77.651854</td>\n",
       "    </tr>\n",
       "    <tr>\n",
       "      <th>3</th>\n",
       "      <td>Bannerghatta Road</td>\n",
       "      <td>3.549810</td>\n",
       "      <td>(12.887979, 77.5970812)</td>\n",
       "      <td>12.887979</td>\n",
       "      <td>77.597081</td>\n",
       "    </tr>\n",
       "    <tr>\n",
       "      <th>4</th>\n",
       "      <td>Basavanagudi</td>\n",
       "      <td>3.660265</td>\n",
       "      <td>(12.9417261, 77.5755021)</td>\n",
       "      <td>12.941726</td>\n",
       "      <td>77.575502</td>\n",
       "    </tr>\n",
       "  </tbody>\n",
       "</table>\n",
       "</div>"
      ],
      "text/plain": [
       "            location      rate                             geo_loc        lat  \\\n",
       "0                BTM  3.637437  (45.95485055, -112.49659530324134)  45.954851   \n",
       "1       Banashankari  3.669204            (15.8876779, 75.7046777)  15.887678   \n",
       "2          Banaswadi  3.496250            (13.0141618, 77.6518539)  13.014162   \n",
       "3  Bannerghatta Road  3.549810             (12.887979, 77.5970812)  12.887979   \n",
       "4       Basavanagudi  3.660265            (12.9417261, 77.5755021)  12.941726   \n",
       "\n",
       "         long  \n",
       "0 -112.496595  \n",
       "1   75.704678  \n",
       "2   77.651854  \n",
       "3   77.597081  \n",
       "4   77.575502  "
      ]
     },
     "execution_count": 102,
     "metadata": {},
     "output_type": "execute_result"
    }
   ],
   "source": [
    "data_3.head()"
   ]
  },
  {
   "cell_type": "code",
   "execution_count": 113,
   "metadata": {},
   "outputs": [
    {
     "data": {
      "text/plain": [
       "Index(['location', 'rate', 'lat', 'long'], dtype='object')"
      ]
     },
     "execution_count": 113,
     "metadata": {},
     "output_type": "execute_result"
    }
   ],
   "source": [
    "data_3.columns###########geo loc deleted"
   ]
  },
  {
   "cell_type": "code",
   "execution_count": 114,
   "metadata": {},
   "outputs": [
    {
     "data": {
      "text/html": [
       "<div>\n",
       "<style scoped>\n",
       "    .dataframe tbody tr th:only-of-type {\n",
       "        vertical-align: middle;\n",
       "    }\n",
       "\n",
       "    .dataframe tbody tr th {\n",
       "        vertical-align: top;\n",
       "    }\n",
       "\n",
       "    .dataframe thead th {\n",
       "        text-align: right;\n",
       "    }\n",
       "</style>\n",
       "<table border=\"1\" class=\"dataframe\">\n",
       "  <thead>\n",
       "    <tr style=\"text-align: right;\">\n",
       "      <th></th>\n",
       "      <th>location</th>\n",
       "      <th>rate</th>\n",
       "      <th>lat</th>\n",
       "      <th>long</th>\n",
       "    </tr>\n",
       "  </thead>\n",
       "  <tbody>\n",
       "    <tr>\n",
       "      <th>0</th>\n",
       "      <td>BTM</td>\n",
       "      <td>3.637437</td>\n",
       "      <td>45.954851</td>\n",
       "      <td>-112.496595</td>\n",
       "    </tr>\n",
       "    <tr>\n",
       "      <th>1</th>\n",
       "      <td>Banashankari</td>\n",
       "      <td>3.669204</td>\n",
       "      <td>15.887678</td>\n",
       "      <td>75.704678</td>\n",
       "    </tr>\n",
       "    <tr>\n",
       "      <th>2</th>\n",
       "      <td>Banaswadi</td>\n",
       "      <td>3.496250</td>\n",
       "      <td>13.014162</td>\n",
       "      <td>77.651854</td>\n",
       "    </tr>\n",
       "    <tr>\n",
       "      <th>3</th>\n",
       "      <td>Bannerghatta Road</td>\n",
       "      <td>3.549810</td>\n",
       "      <td>12.887979</td>\n",
       "      <td>77.597081</td>\n",
       "    </tr>\n",
       "    <tr>\n",
       "      <th>4</th>\n",
       "      <td>Basavanagudi</td>\n",
       "      <td>3.660265</td>\n",
       "      <td>12.941726</td>\n",
       "      <td>77.575502</td>\n",
       "    </tr>\n",
       "  </tbody>\n",
       "</table>\n",
       "</div>"
      ],
      "text/plain": [
       "            location      rate        lat        long\n",
       "0                BTM  3.637437  45.954851 -112.496595\n",
       "1       Banashankari  3.669204  15.887678   75.704678\n",
       "2          Banaswadi  3.496250  13.014162   77.651854\n",
       "3  Bannerghatta Road  3.549810  12.887979   77.597081\n",
       "4       Basavanagudi  3.660265  12.941726   77.575502"
      ]
     },
     "execution_count": 114,
     "metadata": {},
     "output_type": "execute_result"
    }
   ],
   "source": [
    "data_3.head()"
   ]
  },
  {
   "cell_type": "code",
   "execution_count": 115,
   "metadata": {},
   "outputs": [],
   "source": [
    "def generateBaseMap(default_location=[12.9716,77.5946], default_zoom_start=12):\n",
    "    base_map = folium.Map(location=default_location, control_scale=True, zoom_start=default_zoom_start)\n",
    "    return base_map"
   ]
  },
  {
   "cell_type": "code",
   "execution_count": 124,
   "metadata": {},
   "outputs": [
    {
     "data": {
      "text/html": [
       "<div style=\"width:100%;\"><div style=\"position:relative;width:100%;height:0;padding-bottom:60%;\"><span style=\"color:#565656\">Make this Notebook Trusted to load map: File -> Trust Notebook</span><iframe src=\"about:blank\" style=\"position:absolute;width:100%;height:100%;left:0;top:0;border:none !important;\" data-html=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 onload=\"this.contentDocument.open();this.contentDocument.write(atob(this.getAttribute('data-html')));this.contentDocument.close();\" allowfullscreen webkitallowfullscreen mozallowfullscreen></iframe></div></div>"
      ],
      "text/plain": [
       "<folium.folium.Map at 0x1a7ec3e3a08>"
      ]
     },
     "execution_count": 124,
     "metadata": {},
     "output_type": "execute_result"
    }
   ],
   "source": [
    "base_map=generateBaseMap()\n",
    "base_map\n"
   ]
  },
  {
   "cell_type": "code",
   "execution_count": 125,
   "metadata": {},
   "outputs": [],
   "source": [
    "from folium.plugins import HeatMap"
   ]
  },
  {
   "cell_type": "code",
   "execution_count": 127,
   "metadata": {},
   "outputs": [
    {
     "data": {
      "text/plain": [
       "<folium.plugins.heat_map.HeatMap at 0x1a7ebdb91c8>"
      ]
     },
     "execution_count": 127,
     "metadata": {},
     "output_type": "execute_result"
    }
   ],
   "source": [
    "HeatMap(data_3[['lat','long','rate']].values.tolist(),zoom = 20, radius = 15).add_to(base_map)"
   ]
  },
  {
   "cell_type": "code",
   "execution_count": 129,
   "metadata": {},
   "outputs": [
    {
     "data": {
      "text/html": [
       "<div style=\"width:100%;\"><div style=\"position:relative;width:100%;height:0;padding-bottom:60%;\"><span style=\"color:#565656\">Make this Notebook Trusted to load map: File -> Trust Notebook</span><iframe src=\"about:blank\" style=\"position:absolute;width:100%;height:100%;left:0;top:0;border:none !important;\" data-html=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 onload=\"this.contentDocument.open();this.contentDocument.write(atob(this.getAttribute('data-html')));this.contentDocument.close();\" allowfullscreen webkitallowfullscreen mozallowfullscreen></iframe></div></div>"
      ],
      "text/plain": [
       "<folium.folium.Map at 0x1a7ec3e3a08>"
      ]
     },
     "execution_count": 129,
     "metadata": {},
     "output_type": "execute_result"
    }
   ],
   "source": [
    "base_map"
   ]
  },
  {
   "cell_type": "code",
   "execution_count": 142,
   "metadata": {},
   "outputs": [
    {
     "ename": "ValueError",
     "evalue": "Expected two (lat, lon) values for location, instead got: [45.95485055, 15.8876779, 13.0141618, 12.887979, 12.9417261, 12.9932739, 12.93577245, 12.9089453, 40.28745, 33.5935063, 17.2510682, 13.0101286, 51.373656, 39.76880625, 51.5227809, 31.89376, 12.9624669, 13.0215466, 12.945245, -6.2659285, 12.996845, 13.0358698, 18.1475, 13.0382184, 13.0258087, 12.773175, 12.967576, 12.9732913, 34.977289, 12.2655944, 11.9917786, 27.64392675, 12.9678074, 13.007516, 12.9846713, 13.0221416, 13.0093455, 12.5607431, 12.9176571, 13.2923988, 14.5395813, 12.9243509, 12.9271867, 12.93433385, 12.9343774, 12.9400321, 12.9302645, 12.9417812, 12.9081487, 12.957998, 40.7652844, 17.9895618, 12.945048, 1.2847055, 13.0027353, 12.9552572, 12.3872141, 12.9546741, 13.2227, 13.0346384, 13.0217151, 1.3061622, 13.194416, 13.0329419, 13.0227204, 1.306731, 12.9882338, 12.9274413, 38.7385916, 50.7721586, 15.8782951, 13.0621474, 23.1485712, 38.7801076, 12.9242381, 12.9931876, 12.9575547, 18.5322493, 13.0646907, 51.5227651, 12.973936, 12.9778793, 12.9055682, 12.9414662, 12.988721250000001, 22.8359967, 13.0011289, 44.3730577, 12.9489339, 13.1006982, 13.02383].",
     "output_type": "error",
     "traceback": [
      "\u001b[1;31m---------------------------------------------------------------------------\u001b[0m",
      "\u001b[1;31mTypeError\u001b[0m                                 Traceback (most recent call last)",
      "\u001b[1;32m~\\anaconda3\\lib\\site-packages\\folium\\utilities.py\u001b[0m in \u001b[0;36mvalidate_locations\u001b[1;34m(locations)\u001b[0m\n\u001b[0;32m     87\u001b[0m     \u001b[1;32mtry\u001b[0m\u001b[1;33m:\u001b[0m\u001b[1;33m\u001b[0m\u001b[1;33m\u001b[0m\u001b[0m\n\u001b[1;32m---> 88\u001b[1;33m         \u001b[0mfloat\u001b[0m\u001b[1;33m(\u001b[0m\u001b[0mnext\u001b[0m\u001b[1;33m(\u001b[0m\u001b[0miter\u001b[0m\u001b[1;33m(\u001b[0m\u001b[0mnext\u001b[0m\u001b[1;33m(\u001b[0m\u001b[0miter\u001b[0m\u001b[1;33m(\u001b[0m\u001b[0mnext\u001b[0m\u001b[1;33m(\u001b[0m\u001b[0miter\u001b[0m\u001b[1;33m(\u001b[0m\u001b[0mlocations\u001b[0m\u001b[1;33m)\u001b[0m\u001b[1;33m)\u001b[0m\u001b[1;33m)\u001b[0m\u001b[1;33m)\u001b[0m\u001b[1;33m)\u001b[0m\u001b[1;33m)\u001b[0m\u001b[1;33m)\u001b[0m\u001b[1;33m\u001b[0m\u001b[1;33m\u001b[0m\u001b[0m\n\u001b[0m\u001b[0;32m     89\u001b[0m     \u001b[1;32mexcept\u001b[0m \u001b[1;33m(\u001b[0m\u001b[0mTypeError\u001b[0m\u001b[1;33m,\u001b[0m \u001b[0mStopIteration\u001b[0m\u001b[1;33m)\u001b[0m\u001b[1;33m:\u001b[0m\u001b[1;33m\u001b[0m\u001b[1;33m\u001b[0m\u001b[0m\n",
      "\u001b[1;31mTypeError\u001b[0m: 'float' object is not iterable",
      "\nDuring handling of the above exception, another exception occurred:\n",
      "\u001b[1;31mValueError\u001b[0m                                Traceback (most recent call last)",
      "\u001b[1;32m<ipython-input-142-f7ba19cafc30>\u001b[0m in \u001b[0;36m<module>\u001b[1;34m\u001b[0m\n\u001b[0;32m      1\u001b[0m \u001b[1;32mfrom\u001b[0m \u001b[0mfolium\u001b[0m \u001b[1;32mimport\u001b[0m \u001b[0mplugins\u001b[0m\u001b[1;33m\u001b[0m\u001b[1;33m\u001b[0m\u001b[0m\n\u001b[1;32m----> 2\u001b[1;33m \u001b[0mmarkers\u001b[0m \u001b[1;33m=\u001b[0m \u001b[0mplugins\u001b[0m\u001b[1;33m.\u001b[0m\u001b[0mMarkerCluster\u001b[0m\u001b[1;33m(\u001b[0m\u001b[0mlocations\u001b[0m\u001b[1;33m=\u001b[0m\u001b[1;33m[\u001b[0m\u001b[1;33m[\u001b[0m\u001b[0mlat\u001b[0m\u001b[1;33m,\u001b[0m\u001b[0mlong\u001b[0m\u001b[1;33m]\u001b[0m\u001b[1;33m]\u001b[0m\u001b[1;33m,\u001b[0m\u001b[0mpopups\u001b[0m\u001b[1;33m=\u001b[0m\u001b[0mlocations\u001b[0m\u001b[1;33m)\u001b[0m\u001b[1;33m\u001b[0m\u001b[1;33m\u001b[0m\u001b[0m\n\u001b[0m\u001b[0;32m      3\u001b[0m \u001b[0mbase_map\u001b[0m\u001b[1;33m.\u001b[0m\u001b[0madd_child\u001b[0m\u001b[1;33m(\u001b[0m\u001b[0mmarkers\u001b[0m\u001b[1;33m)\u001b[0m\u001b[1;33m\u001b[0m\u001b[1;33m\u001b[0m\u001b[0m\n",
      "\u001b[1;32m~\\anaconda3\\lib\\site-packages\\folium\\plugins\\marker_cluster.py\u001b[0m in \u001b[0;36m__init__\u001b[1;34m(self, locations, popups, icons, name, overlay, control, show, icon_create_function, options, **kwargs)\u001b[0m\n\u001b[0;32m     70\u001b[0m \u001b[1;33m\u001b[0m\u001b[0m\n\u001b[0;32m     71\u001b[0m         \u001b[1;32mif\u001b[0m \u001b[0mlocations\u001b[0m \u001b[1;32mis\u001b[0m \u001b[1;32mnot\u001b[0m \u001b[1;32mNone\u001b[0m\u001b[1;33m:\u001b[0m\u001b[1;33m\u001b[0m\u001b[1;33m\u001b[0m\u001b[0m\n\u001b[1;32m---> 72\u001b[1;33m             \u001b[0mlocations\u001b[0m \u001b[1;33m=\u001b[0m \u001b[0mvalidate_locations\u001b[0m\u001b[1;33m(\u001b[0m\u001b[0mlocations\u001b[0m\u001b[1;33m)\u001b[0m\u001b[1;33m\u001b[0m\u001b[1;33m\u001b[0m\u001b[0m\n\u001b[0m\u001b[0;32m     73\u001b[0m             \u001b[1;32mfor\u001b[0m \u001b[0mi\u001b[0m\u001b[1;33m,\u001b[0m \u001b[0mlocation\u001b[0m \u001b[1;32min\u001b[0m \u001b[0menumerate\u001b[0m\u001b[1;33m(\u001b[0m\u001b[0mlocations\u001b[0m\u001b[1;33m)\u001b[0m\u001b[1;33m:\u001b[0m\u001b[1;33m\u001b[0m\u001b[1;33m\u001b[0m\u001b[0m\n\u001b[0;32m     74\u001b[0m                 self.add_child(Marker(location,\n",
      "\u001b[1;32m~\\anaconda3\\lib\\site-packages\\folium\\utilities.py\u001b[0m in \u001b[0;36mvalidate_locations\u001b[1;34m(locations)\u001b[0m\n\u001b[0;32m     92\u001b[0m     \u001b[1;32melse\u001b[0m\u001b[1;33m:\u001b[0m\u001b[1;33m\u001b[0m\u001b[1;33m\u001b[0m\u001b[0m\n\u001b[0;32m     93\u001b[0m         \u001b[1;31m# locations is a list of a list of coordinate pairs, recurse\u001b[0m\u001b[1;33m\u001b[0m\u001b[1;33m\u001b[0m\u001b[1;33m\u001b[0m\u001b[0m\n\u001b[1;32m---> 94\u001b[1;33m         \u001b[1;32mreturn\u001b[0m \u001b[1;33m[\u001b[0m\u001b[0mvalidate_locations\u001b[0m\u001b[1;33m(\u001b[0m\u001b[0mlst\u001b[0m\u001b[1;33m)\u001b[0m \u001b[1;32mfor\u001b[0m \u001b[0mlst\u001b[0m \u001b[1;32min\u001b[0m \u001b[0mlocations\u001b[0m\u001b[1;33m]\u001b[0m\u001b[1;33m\u001b[0m\u001b[1;33m\u001b[0m\u001b[0m\n\u001b[0m\u001b[0;32m     95\u001b[0m \u001b[1;33m\u001b[0m\u001b[0m\n\u001b[0;32m     96\u001b[0m \u001b[1;33m\u001b[0m\u001b[0m\n",
      "\u001b[1;32m~\\anaconda3\\lib\\site-packages\\folium\\utilities.py\u001b[0m in \u001b[0;36m<listcomp>\u001b[1;34m(.0)\u001b[0m\n\u001b[0;32m     92\u001b[0m     \u001b[1;32melse\u001b[0m\u001b[1;33m:\u001b[0m\u001b[1;33m\u001b[0m\u001b[1;33m\u001b[0m\u001b[0m\n\u001b[0;32m     93\u001b[0m         \u001b[1;31m# locations is a list of a list of coordinate pairs, recurse\u001b[0m\u001b[1;33m\u001b[0m\u001b[1;33m\u001b[0m\u001b[1;33m\u001b[0m\u001b[0m\n\u001b[1;32m---> 94\u001b[1;33m         \u001b[1;32mreturn\u001b[0m \u001b[1;33m[\u001b[0m\u001b[0mvalidate_locations\u001b[0m\u001b[1;33m(\u001b[0m\u001b[0mlst\u001b[0m\u001b[1;33m)\u001b[0m \u001b[1;32mfor\u001b[0m \u001b[0mlst\u001b[0m \u001b[1;32min\u001b[0m \u001b[0mlocations\u001b[0m\u001b[1;33m]\u001b[0m\u001b[1;33m\u001b[0m\u001b[1;33m\u001b[0m\u001b[0m\n\u001b[0m\u001b[0;32m     95\u001b[0m \u001b[1;33m\u001b[0m\u001b[0m\n\u001b[0;32m     96\u001b[0m \u001b[1;33m\u001b[0m\u001b[0m\n",
      "\u001b[1;32m~\\anaconda3\\lib\\site-packages\\folium\\utilities.py\u001b[0m in \u001b[0;36mvalidate_locations\u001b[1;34m(locations)\u001b[0m\n\u001b[0;32m     89\u001b[0m     \u001b[1;32mexcept\u001b[0m \u001b[1;33m(\u001b[0m\u001b[0mTypeError\u001b[0m\u001b[1;33m,\u001b[0m \u001b[0mStopIteration\u001b[0m\u001b[1;33m)\u001b[0m\u001b[1;33m:\u001b[0m\u001b[1;33m\u001b[0m\u001b[1;33m\u001b[0m\u001b[0m\n\u001b[0;32m     90\u001b[0m         \u001b[1;31m# locations is a list of coordinate pairs\u001b[0m\u001b[1;33m\u001b[0m\u001b[1;33m\u001b[0m\u001b[1;33m\u001b[0m\u001b[0m\n\u001b[1;32m---> 91\u001b[1;33m         \u001b[1;32mreturn\u001b[0m \u001b[1;33m[\u001b[0m\u001b[0mvalidate_location\u001b[0m\u001b[1;33m(\u001b[0m\u001b[0mcoord_pair\u001b[0m\u001b[1;33m)\u001b[0m \u001b[1;32mfor\u001b[0m \u001b[0mcoord_pair\u001b[0m \u001b[1;32min\u001b[0m \u001b[0mlocations\u001b[0m\u001b[1;33m]\u001b[0m\u001b[1;33m\u001b[0m\u001b[1;33m\u001b[0m\u001b[0m\n\u001b[0m\u001b[0;32m     92\u001b[0m     \u001b[1;32melse\u001b[0m\u001b[1;33m:\u001b[0m\u001b[1;33m\u001b[0m\u001b[1;33m\u001b[0m\u001b[0m\n\u001b[0;32m     93\u001b[0m         \u001b[1;31m# locations is a list of a list of coordinate pairs, recurse\u001b[0m\u001b[1;33m\u001b[0m\u001b[1;33m\u001b[0m\u001b[1;33m\u001b[0m\u001b[0m\n",
      "\u001b[1;32m~\\anaconda3\\lib\\site-packages\\folium\\utilities.py\u001b[0m in \u001b[0;36m<listcomp>\u001b[1;34m(.0)\u001b[0m\n\u001b[0;32m     89\u001b[0m     \u001b[1;32mexcept\u001b[0m \u001b[1;33m(\u001b[0m\u001b[0mTypeError\u001b[0m\u001b[1;33m,\u001b[0m \u001b[0mStopIteration\u001b[0m\u001b[1;33m)\u001b[0m\u001b[1;33m:\u001b[0m\u001b[1;33m\u001b[0m\u001b[1;33m\u001b[0m\u001b[0m\n\u001b[0;32m     90\u001b[0m         \u001b[1;31m# locations is a list of coordinate pairs\u001b[0m\u001b[1;33m\u001b[0m\u001b[1;33m\u001b[0m\u001b[1;33m\u001b[0m\u001b[0m\n\u001b[1;32m---> 91\u001b[1;33m         \u001b[1;32mreturn\u001b[0m \u001b[1;33m[\u001b[0m\u001b[0mvalidate_location\u001b[0m\u001b[1;33m(\u001b[0m\u001b[0mcoord_pair\u001b[0m\u001b[1;33m)\u001b[0m \u001b[1;32mfor\u001b[0m \u001b[0mcoord_pair\u001b[0m \u001b[1;32min\u001b[0m \u001b[0mlocations\u001b[0m\u001b[1;33m]\u001b[0m\u001b[1;33m\u001b[0m\u001b[1;33m\u001b[0m\u001b[0m\n\u001b[0m\u001b[0;32m     92\u001b[0m     \u001b[1;32melse\u001b[0m\u001b[1;33m:\u001b[0m\u001b[1;33m\u001b[0m\u001b[1;33m\u001b[0m\u001b[0m\n\u001b[0;32m     93\u001b[0m         \u001b[1;31m# locations is a list of a list of coordinate pairs, recurse\u001b[0m\u001b[1;33m\u001b[0m\u001b[1;33m\u001b[0m\u001b[1;33m\u001b[0m\u001b[0m\n",
      "\u001b[1;32m~\\anaconda3\\lib\\site-packages\\folium\\utilities.py\u001b[0m in \u001b[0;36mvalidate_location\u001b[1;34m(location)\u001b[0m\n\u001b[0;32m     48\u001b[0m     \u001b[1;32mif\u001b[0m \u001b[0mlen\u001b[0m\u001b[1;33m(\u001b[0m\u001b[0mlocation\u001b[0m\u001b[1;33m)\u001b[0m \u001b[1;33m!=\u001b[0m \u001b[1;36m2\u001b[0m\u001b[1;33m:\u001b[0m\u001b[1;33m\u001b[0m\u001b[1;33m\u001b[0m\u001b[0m\n\u001b[0;32m     49\u001b[0m         raise ValueError('Expected two (lat, lon) values for location, '\n\u001b[1;32m---> 50\u001b[1;33m                          'instead got: {!r}.'.format(location))\n\u001b[0m\u001b[0;32m     51\u001b[0m     \u001b[1;32mtry\u001b[0m\u001b[1;33m:\u001b[0m\u001b[1;33m\u001b[0m\u001b[1;33m\u001b[0m\u001b[0m\n\u001b[0;32m     52\u001b[0m         \u001b[0mcoords\u001b[0m \u001b[1;33m=\u001b[0m \u001b[1;33m(\u001b[0m\u001b[0mlocation\u001b[0m\u001b[1;33m[\u001b[0m\u001b[1;36m0\u001b[0m\u001b[1;33m]\u001b[0m\u001b[1;33m,\u001b[0m \u001b[0mlocation\u001b[0m\u001b[1;33m[\u001b[0m\u001b[1;36m1\u001b[0m\u001b[1;33m]\u001b[0m\u001b[1;33m)\u001b[0m\u001b[1;33m\u001b[0m\u001b[1;33m\u001b[0m\u001b[0m\n",
      "\u001b[1;31mValueError\u001b[0m: Expected two (lat, lon) values for location, instead got: [45.95485055, 15.8876779, 13.0141618, 12.887979, 12.9417261, 12.9932739, 12.93577245, 12.9089453, 40.28745, 33.5935063, 17.2510682, 13.0101286, 51.373656, 39.76880625, 51.5227809, 31.89376, 12.9624669, 13.0215466, 12.945245, -6.2659285, 12.996845, 13.0358698, 18.1475, 13.0382184, 13.0258087, 12.773175, 12.967576, 12.9732913, 34.977289, 12.2655944, 11.9917786, 27.64392675, 12.9678074, 13.007516, 12.9846713, 13.0221416, 13.0093455, 12.5607431, 12.9176571, 13.2923988, 14.5395813, 12.9243509, 12.9271867, 12.93433385, 12.9343774, 12.9400321, 12.9302645, 12.9417812, 12.9081487, 12.957998, 40.7652844, 17.9895618, 12.945048, 1.2847055, 13.0027353, 12.9552572, 12.3872141, 12.9546741, 13.2227, 13.0346384, 13.0217151, 1.3061622, 13.194416, 13.0329419, 13.0227204, 1.306731, 12.9882338, 12.9274413, 38.7385916, 50.7721586, 15.8782951, 13.0621474, 23.1485712, 38.7801076, 12.9242381, 12.9931876, 12.9575547, 18.5322493, 13.0646907, 51.5227651, 12.973936, 12.9778793, 12.9055682, 12.9414662, 12.988721250000001, 22.8359967, 13.0011289, 44.3730577, 12.9489339, 13.1006982, 13.02383]."
     ]
    }
   ],
   "source": [
    "from folium import plugins\n",
    "markers = plugins.MarkerCluster(locations=[[lat,long]],popups=locations)\n",
    "base_map.add_child(markers)"
   ]
  },
  {
   "cell_type": "code",
   "execution_count": 141,
   "metadata": {},
   "outputs": [],
   "source": [
    "locations=list(data['location'])"
   ]
  },
  {
   "cell_type": "code",
   "execution_count": null,
   "metadata": {},
   "outputs": [],
   "source": []
  }
 ],
 "metadata": {
  "kernelspec": {
   "display_name": "Python 3",
   "language": "python",
   "name": "python3"
  },
  "language_info": {
   "codemirror_mode": {
    "name": "ipython",
    "version": 3
   },
   "file_extension": ".py",
   "mimetype": "text/x-python",
   "name": "python",
   "nbconvert_exporter": "python",
   "pygments_lexer": "ipython3",
   "version": "3.7.6"
  }
 },
 "nbformat": 4,
 "nbformat_minor": 4
}
